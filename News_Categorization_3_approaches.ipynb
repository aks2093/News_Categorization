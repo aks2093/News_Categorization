{
  "nbformat": 4,
  "nbformat_minor": 0,
  "metadata": {
    "colab": {
      "name": "News_Categorization_3_approaches.ipynb",
      "provenance": [],
      "collapsed_sections": [
        "rBVKra0qz5pM",
        "emWBHrfeA75k",
        "CfoWmR0Kz1z3"
      ],
      "include_colab_link": true
    },
    "kernelspec": {
      "name": "python3",
      "display_name": "Python 3"
    },
    "widgets": {
      "application/vnd.jupyter.widget-state+json": {
        "12c5410e8a424db7818ca1b9efde66cf": {
          "model_module": "@jupyter-widgets/controls",
          "model_name": "HBoxModel",
          "state": {
            "_view_name": "HBoxView",
            "_dom_classes": [],
            "_model_name": "HBoxModel",
            "_view_module": "@jupyter-widgets/controls",
            "_model_module_version": "1.5.0",
            "_view_count": null,
            "_view_module_version": "1.5.0",
            "box_style": "",
            "layout": "IPY_MODEL_9d65983a8eba4f2cb16d4e267ac953f1",
            "_model_module": "@jupyter-widgets/controls",
            "children": [
              "IPY_MODEL_1824b9382ec249f283ea39f4c2c98b43",
              "IPY_MODEL_0ea4402db64f451892e55ced682cae89"
            ]
          }
        },
        "9d65983a8eba4f2cb16d4e267ac953f1": {
          "model_module": "@jupyter-widgets/base",
          "model_name": "LayoutModel",
          "state": {
            "_view_name": "LayoutView",
            "grid_template_rows": null,
            "right": null,
            "justify_content": null,
            "_view_module": "@jupyter-widgets/base",
            "overflow": null,
            "_model_module_version": "1.2.0",
            "_view_count": null,
            "flex_flow": null,
            "width": null,
            "min_width": null,
            "border": null,
            "align_items": null,
            "bottom": null,
            "_model_module": "@jupyter-widgets/base",
            "top": null,
            "grid_column": null,
            "overflow_y": null,
            "overflow_x": null,
            "grid_auto_flow": null,
            "grid_area": null,
            "grid_template_columns": null,
            "flex": null,
            "_model_name": "LayoutModel",
            "justify_items": null,
            "grid_row": null,
            "max_height": null,
            "align_content": null,
            "visibility": null,
            "align_self": null,
            "height": null,
            "min_height": null,
            "padding": null,
            "grid_auto_rows": null,
            "grid_gap": null,
            "max_width": null,
            "order": null,
            "_view_module_version": "1.2.0",
            "grid_template_areas": null,
            "object_position": null,
            "object_fit": null,
            "grid_auto_columns": null,
            "margin": null,
            "display": null,
            "left": null
          }
        },
        "1824b9382ec249f283ea39f4c2c98b43": {
          "model_module": "@jupyter-widgets/controls",
          "model_name": "FloatProgressModel",
          "state": {
            "_view_name": "ProgressView",
            "style": "IPY_MODEL_007f89971d954258a28f02a8b19cf80b",
            "_dom_classes": [],
            "description": "Downloading: 100%",
            "_model_name": "FloatProgressModel",
            "bar_style": "success",
            "max": 231508,
            "_view_module": "@jupyter-widgets/controls",
            "_model_module_version": "1.5.0",
            "value": 231508,
            "_view_count": null,
            "_view_module_version": "1.5.0",
            "orientation": "horizontal",
            "min": 0,
            "description_tooltip": null,
            "_model_module": "@jupyter-widgets/controls",
            "layout": "IPY_MODEL_0ec66c46ebd34e0aa5ccb20b0a7aeacd"
          }
        },
        "0ea4402db64f451892e55ced682cae89": {
          "model_module": "@jupyter-widgets/controls",
          "model_name": "HTMLModel",
          "state": {
            "_view_name": "HTMLView",
            "style": "IPY_MODEL_3eb92f021d16440ba95d657de887159a",
            "_dom_classes": [],
            "description": "",
            "_model_name": "HTMLModel",
            "placeholder": "​",
            "_view_module": "@jupyter-widgets/controls",
            "_model_module_version": "1.5.0",
            "value": " 232k/232k [00:00&lt;00:00, 2.20MB/s]",
            "_view_count": null,
            "_view_module_version": "1.5.0",
            "description_tooltip": null,
            "_model_module": "@jupyter-widgets/controls",
            "layout": "IPY_MODEL_d4e7d9a799774a7e930ba8973b86dc11"
          }
        },
        "007f89971d954258a28f02a8b19cf80b": {
          "model_module": "@jupyter-widgets/controls",
          "model_name": "ProgressStyleModel",
          "state": {
            "_view_name": "StyleView",
            "_model_name": "ProgressStyleModel",
            "description_width": "initial",
            "_view_module": "@jupyter-widgets/base",
            "_model_module_version": "1.5.0",
            "_view_count": null,
            "_view_module_version": "1.2.0",
            "bar_color": null,
            "_model_module": "@jupyter-widgets/controls"
          }
        },
        "0ec66c46ebd34e0aa5ccb20b0a7aeacd": {
          "model_module": "@jupyter-widgets/base",
          "model_name": "LayoutModel",
          "state": {
            "_view_name": "LayoutView",
            "grid_template_rows": null,
            "right": null,
            "justify_content": null,
            "_view_module": "@jupyter-widgets/base",
            "overflow": null,
            "_model_module_version": "1.2.0",
            "_view_count": null,
            "flex_flow": null,
            "width": null,
            "min_width": null,
            "border": null,
            "align_items": null,
            "bottom": null,
            "_model_module": "@jupyter-widgets/base",
            "top": null,
            "grid_column": null,
            "overflow_y": null,
            "overflow_x": null,
            "grid_auto_flow": null,
            "grid_area": null,
            "grid_template_columns": null,
            "flex": null,
            "_model_name": "LayoutModel",
            "justify_items": null,
            "grid_row": null,
            "max_height": null,
            "align_content": null,
            "visibility": null,
            "align_self": null,
            "height": null,
            "min_height": null,
            "padding": null,
            "grid_auto_rows": null,
            "grid_gap": null,
            "max_width": null,
            "order": null,
            "_view_module_version": "1.2.0",
            "grid_template_areas": null,
            "object_position": null,
            "object_fit": null,
            "grid_auto_columns": null,
            "margin": null,
            "display": null,
            "left": null
          }
        },
        "3eb92f021d16440ba95d657de887159a": {
          "model_module": "@jupyter-widgets/controls",
          "model_name": "DescriptionStyleModel",
          "state": {
            "_view_name": "StyleView",
            "_model_name": "DescriptionStyleModel",
            "description_width": "",
            "_view_module": "@jupyter-widgets/base",
            "_model_module_version": "1.5.0",
            "_view_count": null,
            "_view_module_version": "1.2.0",
            "_model_module": "@jupyter-widgets/controls"
          }
        },
        "d4e7d9a799774a7e930ba8973b86dc11": {
          "model_module": "@jupyter-widgets/base",
          "model_name": "LayoutModel",
          "state": {
            "_view_name": "LayoutView",
            "grid_template_rows": null,
            "right": null,
            "justify_content": null,
            "_view_module": "@jupyter-widgets/base",
            "overflow": null,
            "_model_module_version": "1.2.0",
            "_view_count": null,
            "flex_flow": null,
            "width": null,
            "min_width": null,
            "border": null,
            "align_items": null,
            "bottom": null,
            "_model_module": "@jupyter-widgets/base",
            "top": null,
            "grid_column": null,
            "overflow_y": null,
            "overflow_x": null,
            "grid_auto_flow": null,
            "grid_area": null,
            "grid_template_columns": null,
            "flex": null,
            "_model_name": "LayoutModel",
            "justify_items": null,
            "grid_row": null,
            "max_height": null,
            "align_content": null,
            "visibility": null,
            "align_self": null,
            "height": null,
            "min_height": null,
            "padding": null,
            "grid_auto_rows": null,
            "grid_gap": null,
            "max_width": null,
            "order": null,
            "_view_module_version": "1.2.0",
            "grid_template_areas": null,
            "object_position": null,
            "object_fit": null,
            "grid_auto_columns": null,
            "margin": null,
            "display": null,
            "left": null
          }
        },
        "3130ef17fae54ca68b955f4da6407fac": {
          "model_module": "@jupyter-widgets/controls",
          "model_name": "HBoxModel",
          "state": {
            "_view_name": "HBoxView",
            "_dom_classes": [],
            "_model_name": "HBoxModel",
            "_view_module": "@jupyter-widgets/controls",
            "_model_module_version": "1.5.0",
            "_view_count": null,
            "_view_module_version": "1.5.0",
            "box_style": "",
            "layout": "IPY_MODEL_cc396334c9e74796987df4b9881734e3",
            "_model_module": "@jupyter-widgets/controls",
            "children": [
              "IPY_MODEL_8888c41a9cca437e87f79f5e84108a53",
              "IPY_MODEL_ead3eb8e726a4ee79ec549fae3ab6b77"
            ]
          }
        },
        "cc396334c9e74796987df4b9881734e3": {
          "model_module": "@jupyter-widgets/base",
          "model_name": "LayoutModel",
          "state": {
            "_view_name": "LayoutView",
            "grid_template_rows": null,
            "right": null,
            "justify_content": null,
            "_view_module": "@jupyter-widgets/base",
            "overflow": null,
            "_model_module_version": "1.2.0",
            "_view_count": null,
            "flex_flow": null,
            "width": null,
            "min_width": null,
            "border": null,
            "align_items": null,
            "bottom": null,
            "_model_module": "@jupyter-widgets/base",
            "top": null,
            "grid_column": null,
            "overflow_y": null,
            "overflow_x": null,
            "grid_auto_flow": null,
            "grid_area": null,
            "grid_template_columns": null,
            "flex": null,
            "_model_name": "LayoutModel",
            "justify_items": null,
            "grid_row": null,
            "max_height": null,
            "align_content": null,
            "visibility": null,
            "align_self": null,
            "height": null,
            "min_height": null,
            "padding": null,
            "grid_auto_rows": null,
            "grid_gap": null,
            "max_width": null,
            "order": null,
            "_view_module_version": "1.2.0",
            "grid_template_areas": null,
            "object_position": null,
            "object_fit": null,
            "grid_auto_columns": null,
            "margin": null,
            "display": null,
            "left": null
          }
        },
        "8888c41a9cca437e87f79f5e84108a53": {
          "model_module": "@jupyter-widgets/controls",
          "model_name": "FloatProgressModel",
          "state": {
            "_view_name": "ProgressView",
            "style": "IPY_MODEL_5b4426abf49c42cfb0b8e9a2aa3983f3",
            "_dom_classes": [],
            "description": "Downloading: 100%",
            "_model_name": "FloatProgressModel",
            "bar_style": "success",
            "max": 433,
            "_view_module": "@jupyter-widgets/controls",
            "_model_module_version": "1.5.0",
            "value": 433,
            "_view_count": null,
            "_view_module_version": "1.5.0",
            "orientation": "horizontal",
            "min": 0,
            "description_tooltip": null,
            "_model_module": "@jupyter-widgets/controls",
            "layout": "IPY_MODEL_d6b0fc44c0b44eeaa24074a0d210b6a2"
          }
        },
        "ead3eb8e726a4ee79ec549fae3ab6b77": {
          "model_module": "@jupyter-widgets/controls",
          "model_name": "HTMLModel",
          "state": {
            "_view_name": "HTMLView",
            "style": "IPY_MODEL_a82cb63caa9e460ca76217ba475b08a5",
            "_dom_classes": [],
            "description": "",
            "_model_name": "HTMLModel",
            "placeholder": "​",
            "_view_module": "@jupyter-widgets/controls",
            "_model_module_version": "1.5.0",
            "value": " 433/433 [00:00&lt;00:00, 1.83kB/s]",
            "_view_count": null,
            "_view_module_version": "1.5.0",
            "description_tooltip": null,
            "_model_module": "@jupyter-widgets/controls",
            "layout": "IPY_MODEL_8abccf3becf249e3ad5752b84b420011"
          }
        },
        "5b4426abf49c42cfb0b8e9a2aa3983f3": {
          "model_module": "@jupyter-widgets/controls",
          "model_name": "ProgressStyleModel",
          "state": {
            "_view_name": "StyleView",
            "_model_name": "ProgressStyleModel",
            "description_width": "initial",
            "_view_module": "@jupyter-widgets/base",
            "_model_module_version": "1.5.0",
            "_view_count": null,
            "_view_module_version": "1.2.0",
            "bar_color": null,
            "_model_module": "@jupyter-widgets/controls"
          }
        },
        "d6b0fc44c0b44eeaa24074a0d210b6a2": {
          "model_module": "@jupyter-widgets/base",
          "model_name": "LayoutModel",
          "state": {
            "_view_name": "LayoutView",
            "grid_template_rows": null,
            "right": null,
            "justify_content": null,
            "_view_module": "@jupyter-widgets/base",
            "overflow": null,
            "_model_module_version": "1.2.0",
            "_view_count": null,
            "flex_flow": null,
            "width": null,
            "min_width": null,
            "border": null,
            "align_items": null,
            "bottom": null,
            "_model_module": "@jupyter-widgets/base",
            "top": null,
            "grid_column": null,
            "overflow_y": null,
            "overflow_x": null,
            "grid_auto_flow": null,
            "grid_area": null,
            "grid_template_columns": null,
            "flex": null,
            "_model_name": "LayoutModel",
            "justify_items": null,
            "grid_row": null,
            "max_height": null,
            "align_content": null,
            "visibility": null,
            "align_self": null,
            "height": null,
            "min_height": null,
            "padding": null,
            "grid_auto_rows": null,
            "grid_gap": null,
            "max_width": null,
            "order": null,
            "_view_module_version": "1.2.0",
            "grid_template_areas": null,
            "object_position": null,
            "object_fit": null,
            "grid_auto_columns": null,
            "margin": null,
            "display": null,
            "left": null
          }
        },
        "a82cb63caa9e460ca76217ba475b08a5": {
          "model_module": "@jupyter-widgets/controls",
          "model_name": "DescriptionStyleModel",
          "state": {
            "_view_name": "StyleView",
            "_model_name": "DescriptionStyleModel",
            "description_width": "",
            "_view_module": "@jupyter-widgets/base",
            "_model_module_version": "1.5.0",
            "_view_count": null,
            "_view_module_version": "1.2.0",
            "_model_module": "@jupyter-widgets/controls"
          }
        },
        "8abccf3becf249e3ad5752b84b420011": {
          "model_module": "@jupyter-widgets/base",
          "model_name": "LayoutModel",
          "state": {
            "_view_name": "LayoutView",
            "grid_template_rows": null,
            "right": null,
            "justify_content": null,
            "_view_module": "@jupyter-widgets/base",
            "overflow": null,
            "_model_module_version": "1.2.0",
            "_view_count": null,
            "flex_flow": null,
            "width": null,
            "min_width": null,
            "border": null,
            "align_items": null,
            "bottom": null,
            "_model_module": "@jupyter-widgets/base",
            "top": null,
            "grid_column": null,
            "overflow_y": null,
            "overflow_x": null,
            "grid_auto_flow": null,
            "grid_area": null,
            "grid_template_columns": null,
            "flex": null,
            "_model_name": "LayoutModel",
            "justify_items": null,
            "grid_row": null,
            "max_height": null,
            "align_content": null,
            "visibility": null,
            "align_self": null,
            "height": null,
            "min_height": null,
            "padding": null,
            "grid_auto_rows": null,
            "grid_gap": null,
            "max_width": null,
            "order": null,
            "_view_module_version": "1.2.0",
            "grid_template_areas": null,
            "object_position": null,
            "object_fit": null,
            "grid_auto_columns": null,
            "margin": null,
            "display": null,
            "left": null
          }
        },
        "04341563a8e845229784544975a98fe6": {
          "model_module": "@jupyter-widgets/controls",
          "model_name": "HBoxModel",
          "state": {
            "_view_name": "HBoxView",
            "_dom_classes": [],
            "_model_name": "HBoxModel",
            "_view_module": "@jupyter-widgets/controls",
            "_model_module_version": "1.5.0",
            "_view_count": null,
            "_view_module_version": "1.5.0",
            "box_style": "",
            "layout": "IPY_MODEL_885b77167257483da3f7951118caac8a",
            "_model_module": "@jupyter-widgets/controls",
            "children": [
              "IPY_MODEL_50d9a739eab947a4ac25926056c0c9b1",
              "IPY_MODEL_1c28d99362314ca1844992b853cf2b1a"
            ]
          }
        },
        "885b77167257483da3f7951118caac8a": {
          "model_module": "@jupyter-widgets/base",
          "model_name": "LayoutModel",
          "state": {
            "_view_name": "LayoutView",
            "grid_template_rows": null,
            "right": null,
            "justify_content": null,
            "_view_module": "@jupyter-widgets/base",
            "overflow": null,
            "_model_module_version": "1.2.0",
            "_view_count": null,
            "flex_flow": null,
            "width": null,
            "min_width": null,
            "border": null,
            "align_items": null,
            "bottom": null,
            "_model_module": "@jupyter-widgets/base",
            "top": null,
            "grid_column": null,
            "overflow_y": null,
            "overflow_x": null,
            "grid_auto_flow": null,
            "grid_area": null,
            "grid_template_columns": null,
            "flex": null,
            "_model_name": "LayoutModel",
            "justify_items": null,
            "grid_row": null,
            "max_height": null,
            "align_content": null,
            "visibility": null,
            "align_self": null,
            "height": null,
            "min_height": null,
            "padding": null,
            "grid_auto_rows": null,
            "grid_gap": null,
            "max_width": null,
            "order": null,
            "_view_module_version": "1.2.0",
            "grid_template_areas": null,
            "object_position": null,
            "object_fit": null,
            "grid_auto_columns": null,
            "margin": null,
            "display": null,
            "left": null
          }
        },
        "50d9a739eab947a4ac25926056c0c9b1": {
          "model_module": "@jupyter-widgets/controls",
          "model_name": "FloatProgressModel",
          "state": {
            "_view_name": "ProgressView",
            "style": "IPY_MODEL_7850e858dc50455b8b914889a93f18f0",
            "_dom_classes": [],
            "description": "Downloading: 100%",
            "_model_name": "FloatProgressModel",
            "bar_style": "success",
            "max": 440473133,
            "_view_module": "@jupyter-widgets/controls",
            "_model_module_version": "1.5.0",
            "value": 440473133,
            "_view_count": null,
            "_view_module_version": "1.5.0",
            "orientation": "horizontal",
            "min": 0,
            "description_tooltip": null,
            "_model_module": "@jupyter-widgets/controls",
            "layout": "IPY_MODEL_641703ee972542c5887293aa7b8852d7"
          }
        },
        "1c28d99362314ca1844992b853cf2b1a": {
          "model_module": "@jupyter-widgets/controls",
          "model_name": "HTMLModel",
          "state": {
            "_view_name": "HTMLView",
            "style": "IPY_MODEL_352677ff19f04c70b6345a8b3cfb69b2",
            "_dom_classes": [],
            "description": "",
            "_model_name": "HTMLModel",
            "placeholder": "​",
            "_view_module": "@jupyter-widgets/controls",
            "_model_module_version": "1.5.0",
            "value": " 440M/440M [01:12&lt;00:00, 6.04MB/s]",
            "_view_count": null,
            "_view_module_version": "1.5.0",
            "description_tooltip": null,
            "_model_module": "@jupyter-widgets/controls",
            "layout": "IPY_MODEL_d232ef7253f949069dd20087e640c901"
          }
        },
        "7850e858dc50455b8b914889a93f18f0": {
          "model_module": "@jupyter-widgets/controls",
          "model_name": "ProgressStyleModel",
          "state": {
            "_view_name": "StyleView",
            "_model_name": "ProgressStyleModel",
            "description_width": "initial",
            "_view_module": "@jupyter-widgets/base",
            "_model_module_version": "1.5.0",
            "_view_count": null,
            "_view_module_version": "1.2.0",
            "bar_color": null,
            "_model_module": "@jupyter-widgets/controls"
          }
        },
        "641703ee972542c5887293aa7b8852d7": {
          "model_module": "@jupyter-widgets/base",
          "model_name": "LayoutModel",
          "state": {
            "_view_name": "LayoutView",
            "grid_template_rows": null,
            "right": null,
            "justify_content": null,
            "_view_module": "@jupyter-widgets/base",
            "overflow": null,
            "_model_module_version": "1.2.0",
            "_view_count": null,
            "flex_flow": null,
            "width": null,
            "min_width": null,
            "border": null,
            "align_items": null,
            "bottom": null,
            "_model_module": "@jupyter-widgets/base",
            "top": null,
            "grid_column": null,
            "overflow_y": null,
            "overflow_x": null,
            "grid_auto_flow": null,
            "grid_area": null,
            "grid_template_columns": null,
            "flex": null,
            "_model_name": "LayoutModel",
            "justify_items": null,
            "grid_row": null,
            "max_height": null,
            "align_content": null,
            "visibility": null,
            "align_self": null,
            "height": null,
            "min_height": null,
            "padding": null,
            "grid_auto_rows": null,
            "grid_gap": null,
            "max_width": null,
            "order": null,
            "_view_module_version": "1.2.0",
            "grid_template_areas": null,
            "object_position": null,
            "object_fit": null,
            "grid_auto_columns": null,
            "margin": null,
            "display": null,
            "left": null
          }
        },
        "352677ff19f04c70b6345a8b3cfb69b2": {
          "model_module": "@jupyter-widgets/controls",
          "model_name": "DescriptionStyleModel",
          "state": {
            "_view_name": "StyleView",
            "_model_name": "DescriptionStyleModel",
            "description_width": "",
            "_view_module": "@jupyter-widgets/base",
            "_model_module_version": "1.5.0",
            "_view_count": null,
            "_view_module_version": "1.2.0",
            "_model_module": "@jupyter-widgets/controls"
          }
        },
        "d232ef7253f949069dd20087e640c901": {
          "model_module": "@jupyter-widgets/base",
          "model_name": "LayoutModel",
          "state": {
            "_view_name": "LayoutView",
            "grid_template_rows": null,
            "right": null,
            "justify_content": null,
            "_view_module": "@jupyter-widgets/base",
            "overflow": null,
            "_model_module_version": "1.2.0",
            "_view_count": null,
            "flex_flow": null,
            "width": null,
            "min_width": null,
            "border": null,
            "align_items": null,
            "bottom": null,
            "_model_module": "@jupyter-widgets/base",
            "top": null,
            "grid_column": null,
            "overflow_y": null,
            "overflow_x": null,
            "grid_auto_flow": null,
            "grid_area": null,
            "grid_template_columns": null,
            "flex": null,
            "_model_name": "LayoutModel",
            "justify_items": null,
            "grid_row": null,
            "max_height": null,
            "align_content": null,
            "visibility": null,
            "align_self": null,
            "height": null,
            "min_height": null,
            "padding": null,
            "grid_auto_rows": null,
            "grid_gap": null,
            "max_width": null,
            "order": null,
            "_view_module_version": "1.2.0",
            "grid_template_areas": null,
            "object_position": null,
            "object_fit": null,
            "grid_auto_columns": null,
            "margin": null,
            "display": null,
            "left": null
          }
        }
      }
    }
  },
  "cells": [
    {
      "cell_type": "markdown",
      "metadata": {
        "id": "view-in-github",
        "colab_type": "text"
      },
      "source": [
        "<a href=\"https://colab.research.google.com/github/aks2093/News_Categorization/blob/main/News_Categorization_3_approaches.ipynb\" target=\"_parent\"><img src=\"https://colab.research.google.com/assets/colab-badge.svg\" alt=\"Open In Colab\"/></a>"
      ]
    },
    {
      "cell_type": "code",
      "metadata": {
        "id": "ReMUWNygR0yr",
        "outputId": "1fd97fb4-f1d4-44c8-f900-032482a99ce3",
        "colab": {
          "base_uri": "https://localhost:8080/",
          "height": 34
        }
      },
      "source": [
        "from google.colab import drive\n",
        "drive.mount('/content/drive')"
      ],
      "execution_count": null,
      "outputs": [
        {
          "output_type": "stream",
          "text": [
            "Drive already mounted at /content/drive; to attempt to forcibly remount, call drive.mount(\"/content/drive\", force_remount=True).\n"
          ],
          "name": "stdout"
        }
      ]
    },
    {
      "cell_type": "code",
      "metadata": {
        "id": "YNwTcQ1vR8Mh"
      },
      "source": [
        "import pandas as pd\n",
        "import numpy as np\n",
        "import os\n",
        "\n",
        "data_path = \"/content/drive/My Drive/news_categorization/data\"\n",
        "\n",
        "categories_data = pd.read_csv(os.path.join(data_path,\"categories.csv\"))\n",
        "categories_mapping = pd.read_excel(os.path.join(os.path.join(data_path, \"category_mapping.xlsx\")))\n",
        "news_details = pd.read_excel(os.path.join(data_path, \"news_details.xlsx\"))"
      ],
      "execution_count": null,
      "outputs": []
    },
    {
      "cell_type": "code",
      "metadata": {
        "id": "wZBlNlOxR91F",
        "outputId": "dbd20941-48ad-498d-c262-65dfdfbe8c93",
        "colab": {
          "base_uri": "https://localhost:8080/",
          "height": 153
        }
      },
      "source": [
        "category = categories_data.to_dict()\n",
        "category"
      ],
      "execution_count": null,
      "outputs": [
        {
          "output_type": "execute_result",
          "data": {
            "text/plain": [
              "{'category': {0: 'Layoff',\n",
              "  1: 'Mergers and Acquisitions',\n",
              "  2: 'Mass Hiring',\n",
              "  3: 'Executive Movement',\n",
              "  4: 'Centre Setup and Expansion',\n",
              "  5: 'Deals',\n",
              "  6: 'Partnerships'},\n",
              " 'id': {0: 1, 1: 2, 2: 3, 3: 4, 4: 5, 5: 6, 6: 7}}"
            ]
          },
          "metadata": {
            "tags": []
          },
          "execution_count": 26
        }
      ]
    },
    {
      "cell_type": "code",
      "metadata": {
        "id": "eN_PB7aRSBZw",
        "outputId": "09ae63c3-0d50-4cad-9f73-28b9a105918d",
        "colab": {
          "base_uri": "https://localhost:8080/",
          "height": 68
        }
      },
      "source": [
        "#converting target \"category_id\" values [1,2,3,4,5,6,7] to [0,1,2,3,4,5,6]\n",
        "categories_mapping[\"category_id\"] = categories_mapping[\"category_id\"].apply(lambda x:int(x)-1)\n",
        "print(categories_mapping.__len__())\n",
        "print(categories_mapping.columns)\n",
        "print(categories_mapping[\"category_id\"].unique())"
      ],
      "execution_count": null,
      "outputs": [
        {
          "output_type": "stream",
          "text": [
            "3544\n",
            "Index(['news_id', 'category_id'], dtype='object')\n",
            "[3 1 4 6 5 0 2]\n"
          ],
          "name": "stdout"
        }
      ]
    },
    {
      "cell_type": "code",
      "metadata": {
        "id": "wbgLSiUKSDo6",
        "outputId": "c7567f5e-1f6b-4023-d16a-11b776deb479",
        "colab": {
          "base_uri": "https://localhost:8080/",
          "height": 34
        }
      },
      "source": [
        "categories_mapping[\"news_id\"].unique().__len__()"
      ],
      "execution_count": null,
      "outputs": [
        {
          "output_type": "execute_result",
          "data": {
            "text/plain": [
              "2635"
            ]
          },
          "metadata": {
            "tags": []
          },
          "execution_count": 5
        }
      ]
    },
    {
      "cell_type": "code",
      "metadata": {
        "id": "SPk_OK0HSFnY",
        "outputId": "8945cada-5de6-48ad-e685-0432e88961e5",
        "colab": {
          "base_uri": "https://localhost:8080/",
          "height": 68
        }
      },
      "source": [
        "categories_mapping.isna().sum()"
      ],
      "execution_count": null,
      "outputs": [
        {
          "output_type": "execute_result",
          "data": {
            "text/plain": [
              "news_id        0\n",
              "category_id    0\n",
              "dtype: int64"
            ]
          },
          "metadata": {
            "tags": []
          },
          "execution_count": 6
        }
      ]
    },
    {
      "cell_type": "code",
      "metadata": {
        "id": "O9zpVIBkSHbZ",
        "outputId": "18594415-9e48-4fb6-e48e-192d31ef5374",
        "colab": {
          "base_uri": "https://localhost:8080/",
          "height": 51
        }
      },
      "source": [
        "print(news_details.__len__())\n",
        "print(news_details.columns)"
      ],
      "execution_count": null,
      "outputs": [
        {
          "output_type": "stream",
          "text": [
            "3544\n",
            "Index(['news_id', 'snippet', 'title', 'news_description'], dtype='object')\n"
          ],
          "name": "stdout"
        }
      ]
    },
    {
      "cell_type": "code",
      "metadata": {
        "id": "QE21lBP9SJn_",
        "outputId": "16ff1f0c-e7db-4c3b-8e12-58a20c025872",
        "colab": {
          "base_uri": "https://localhost:8080/",
          "height": 34
        }
      },
      "source": [
        "news_details[\"news_id\"].unique().__len__()"
      ],
      "execution_count": null,
      "outputs": [
        {
          "output_type": "execute_result",
          "data": {
            "text/plain": [
              "2635"
            ]
          },
          "metadata": {
            "tags": []
          },
          "execution_count": 8
        }
      ]
    },
    {
      "cell_type": "markdown",
      "metadata": {
        "id": "PucJAVIAAq9i"
      },
      "source": [
        "**Drop nan from the dataset**"
      ]
    },
    {
      "cell_type": "code",
      "metadata": {
        "id": "eFjmiNWYSN13",
        "outputId": "32fdd130-563e-4896-bca1-65d81fb19c13",
        "colab": {
          "base_uri": "https://localhost:8080/",
          "height": 238
        }
      },
      "source": [
        "print(\"Before dropping nan: \")\n",
        "print(news_details.isna().sum())\n",
        "# news_details.fillna(value=\"\", inplace=True)\n",
        "news_details.dropna(inplace=True)\n",
        "print(\"\\nAfter dropping nan: \")\n",
        "print(news_details.isna().sum())"
      ],
      "execution_count": null,
      "outputs": [
        {
          "output_type": "stream",
          "text": [
            "Before dropping nan: \n",
            "news_id               0\n",
            "snippet               7\n",
            "title                 0\n",
            "news_description    190\n",
            "dtype: int64\n",
            "\n",
            "After dropping nan: \n",
            "news_id             0\n",
            "snippet             0\n",
            "title               0\n",
            "news_description    0\n",
            "dtype: int64\n"
          ],
          "name": "stdout"
        }
      ]
    },
    {
      "cell_type": "markdown",
      "metadata": {
        "id": "bhuqK8FgL8yd"
      },
      "source": [
        "**merge the categories_mapping and news_details data on news_id**"
      ]
    },
    {
      "cell_type": "code",
      "metadata": {
        "id": "iMYd9rGDSQU4"
      },
      "source": [
        "merged_data = pd.merge(categories_mapping, news_details, on=[\"news_id\"], how=\"inner\")"
      ],
      "execution_count": null,
      "outputs": []
    },
    {
      "cell_type": "markdown",
      "metadata": {
        "id": "MI51lZrCL3hO"
      },
      "source": [
        "**Counting number of instance in each category**"
      ]
    },
    {
      "cell_type": "code",
      "metadata": {
        "id": "47Gz-NknSSjy",
        "outputId": "cdc594aa-4ebb-4a46-a6be-904f89f9c037",
        "colab": {
          "base_uri": "https://localhost:8080/",
          "height": 34
        }
      },
      "source": [
        "category = list(merged_data.groupby(\"category_id\")[\"category_id\"].count().to_dict().keys())\n",
        "values = list(merged_data.groupby(\"category_id\")[\"category_id\"].count().to_dict().values())\n",
        "\n",
        "merged_data.groupby(\"category_id\")[\"category_id\"].count().to_dict()"
      ],
      "execution_count": null,
      "outputs": [
        {
          "output_type": "execute_result",
          "data": {
            "text/plain": [
              "{0: 134, 1: 611, 2: 89, 3: 1764, 4: 737, 5: 604, 6: 1152}"
            ]
          },
          "metadata": {
            "tags": []
          },
          "execution_count": 37
        }
      ]
    },
    {
      "cell_type": "markdown",
      "metadata": {
        "id": "AIdteginMKKz"
      },
      "source": [
        "**Visualizing the number of instances in each category**"
      ]
    },
    {
      "cell_type": "code",
      "metadata": {
        "id": "EMU_u5p7LvnY",
        "outputId": "f055d0e5-ad36-430e-c974-16fb8962d7e5",
        "colab": {
          "base_uri": "https://localhost:8080/",
          "height": 542
        }
      },
      "source": [
        "import plotly.graph_objects as go\n",
        "\n",
        "fig = go.Figure([go.Bar(x=category, y=values)])\n",
        "fig.show()"
      ],
      "execution_count": null,
      "outputs": [
        {
          "output_type": "display_data",
          "data": {
            "text/html": [
              "<html>\n",
              "<head><meta charset=\"utf-8\" /></head>\n",
              "<body>\n",
              "    <div>\n",
              "            <script src=\"https://cdnjs.cloudflare.com/ajax/libs/mathjax/2.7.5/MathJax.js?config=TeX-AMS-MML_SVG\"></script><script type=\"text/javascript\">if (window.MathJax) {MathJax.Hub.Config({SVG: {font: \"STIX-Web\"}});}</script>\n",
              "                <script type=\"text/javascript\">window.PlotlyConfig = {MathJaxConfig: 'local'};</script>\n",
              "        <script src=\"https://cdn.plot.ly/plotly-latest.min.js\"></script>    \n",
              "            <div id=\"8b3b9198-b3aa-4d80-aa3e-ef4cae5cd322\" class=\"plotly-graph-div\" style=\"height:525px; width:100%;\"></div>\n",
              "            <script type=\"text/javascript\">\n",
              "                \n",
              "                    window.PLOTLYENV=window.PLOTLYENV || {};\n",
              "                    \n",
              "                if (document.getElementById(\"8b3b9198-b3aa-4d80-aa3e-ef4cae5cd322\")) {\n",
              "                    Plotly.newPlot(\n",
              "                        '8b3b9198-b3aa-4d80-aa3e-ef4cae5cd322',\n",
              "                        [{\"type\": \"bar\", \"x\": [0, 1, 2, 3, 4, 5, 6], \"y\": [134, 611, 89, 1764, 737, 604, 1152]}],\n",
              "                        {\"template\": {\"data\": {\"bar\": [{\"error_x\": {\"color\": \"#2a3f5f\"}, \"error_y\": {\"color\": \"#2a3f5f\"}, \"marker\": {\"line\": {\"color\": \"#E5ECF6\", \"width\": 0.5}}, \"type\": \"bar\"}], \"barpolar\": [{\"marker\": {\"line\": {\"color\": \"#E5ECF6\", \"width\": 0.5}}, \"type\": \"barpolar\"}], \"carpet\": [{\"aaxis\": {\"endlinecolor\": \"#2a3f5f\", \"gridcolor\": \"white\", \"linecolor\": \"white\", \"minorgridcolor\": \"white\", \"startlinecolor\": \"#2a3f5f\"}, \"baxis\": {\"endlinecolor\": \"#2a3f5f\", \"gridcolor\": \"white\", \"linecolor\": \"white\", \"minorgridcolor\": \"white\", \"startlinecolor\": \"#2a3f5f\"}, \"type\": \"carpet\"}], \"choropleth\": [{\"colorbar\": {\"outlinewidth\": 0, \"ticks\": \"\"}, \"type\": \"choropleth\"}], \"contour\": [{\"colorbar\": {\"outlinewidth\": 0, \"ticks\": \"\"}, \"colorscale\": [[0.0, \"#0d0887\"], [0.1111111111111111, \"#46039f\"], [0.2222222222222222, \"#7201a8\"], [0.3333333333333333, \"#9c179e\"], [0.4444444444444444, \"#bd3786\"], [0.5555555555555556, \"#d8576b\"], [0.6666666666666666, \"#ed7953\"], [0.7777777777777778, \"#fb9f3a\"], [0.8888888888888888, \"#fdca26\"], [1.0, \"#f0f921\"]], \"type\": \"contour\"}], \"contourcarpet\": [{\"colorbar\": {\"outlinewidth\": 0, \"ticks\": \"\"}, \"type\": \"contourcarpet\"}], \"heatmap\": [{\"colorbar\": {\"outlinewidth\": 0, \"ticks\": \"\"}, \"colorscale\": [[0.0, \"#0d0887\"], [0.1111111111111111, \"#46039f\"], [0.2222222222222222, \"#7201a8\"], [0.3333333333333333, \"#9c179e\"], [0.4444444444444444, \"#bd3786\"], [0.5555555555555556, \"#d8576b\"], [0.6666666666666666, \"#ed7953\"], [0.7777777777777778, \"#fb9f3a\"], [0.8888888888888888, \"#fdca26\"], [1.0, \"#f0f921\"]], \"type\": \"heatmap\"}], \"heatmapgl\": [{\"colorbar\": {\"outlinewidth\": 0, \"ticks\": \"\"}, \"colorscale\": [[0.0, \"#0d0887\"], [0.1111111111111111, \"#46039f\"], [0.2222222222222222, \"#7201a8\"], [0.3333333333333333, \"#9c179e\"], [0.4444444444444444, \"#bd3786\"], [0.5555555555555556, \"#d8576b\"], [0.6666666666666666, \"#ed7953\"], [0.7777777777777778, \"#fb9f3a\"], [0.8888888888888888, \"#fdca26\"], [1.0, \"#f0f921\"]], \"type\": \"heatmapgl\"}], \"histogram\": [{\"marker\": {\"colorbar\": {\"outlinewidth\": 0, \"ticks\": \"\"}}, \"type\": \"histogram\"}], \"histogram2d\": [{\"colorbar\": {\"outlinewidth\": 0, \"ticks\": \"\"}, \"colorscale\": [[0.0, \"#0d0887\"], [0.1111111111111111, \"#46039f\"], [0.2222222222222222, \"#7201a8\"], [0.3333333333333333, \"#9c179e\"], [0.4444444444444444, \"#bd3786\"], [0.5555555555555556, \"#d8576b\"], [0.6666666666666666, \"#ed7953\"], [0.7777777777777778, \"#fb9f3a\"], [0.8888888888888888, \"#fdca26\"], [1.0, \"#f0f921\"]], \"type\": \"histogram2d\"}], \"histogram2dcontour\": [{\"colorbar\": {\"outlinewidth\": 0, \"ticks\": \"\"}, \"colorscale\": [[0.0, \"#0d0887\"], [0.1111111111111111, \"#46039f\"], [0.2222222222222222, \"#7201a8\"], [0.3333333333333333, \"#9c179e\"], [0.4444444444444444, \"#bd3786\"], [0.5555555555555556, \"#d8576b\"], [0.6666666666666666, \"#ed7953\"], [0.7777777777777778, \"#fb9f3a\"], [0.8888888888888888, \"#fdca26\"], [1.0, \"#f0f921\"]], \"type\": \"histogram2dcontour\"}], \"mesh3d\": [{\"colorbar\": {\"outlinewidth\": 0, \"ticks\": \"\"}, \"type\": \"mesh3d\"}], \"parcoords\": [{\"line\": {\"colorbar\": {\"outlinewidth\": 0, \"ticks\": \"\"}}, \"type\": \"parcoords\"}], \"pie\": [{\"automargin\": true, \"type\": \"pie\"}], \"scatter\": [{\"marker\": {\"colorbar\": {\"outlinewidth\": 0, \"ticks\": \"\"}}, \"type\": \"scatter\"}], \"scatter3d\": [{\"line\": {\"colorbar\": {\"outlinewidth\": 0, \"ticks\": \"\"}}, \"marker\": {\"colorbar\": {\"outlinewidth\": 0, \"ticks\": \"\"}}, \"type\": \"scatter3d\"}], \"scattercarpet\": [{\"marker\": {\"colorbar\": {\"outlinewidth\": 0, \"ticks\": \"\"}}, \"type\": \"scattercarpet\"}], \"scattergeo\": [{\"marker\": {\"colorbar\": {\"outlinewidth\": 0, \"ticks\": \"\"}}, \"type\": \"scattergeo\"}], \"scattergl\": [{\"marker\": {\"colorbar\": {\"outlinewidth\": 0, \"ticks\": \"\"}}, \"type\": \"scattergl\"}], \"scattermapbox\": [{\"marker\": {\"colorbar\": {\"outlinewidth\": 0, \"ticks\": \"\"}}, \"type\": \"scattermapbox\"}], \"scatterpolar\": [{\"marker\": {\"colorbar\": {\"outlinewidth\": 0, \"ticks\": \"\"}}, \"type\": \"scatterpolar\"}], \"scatterpolargl\": [{\"marker\": {\"colorbar\": {\"outlinewidth\": 0, \"ticks\": \"\"}}, \"type\": \"scatterpolargl\"}], \"scatterternary\": [{\"marker\": {\"colorbar\": {\"outlinewidth\": 0, \"ticks\": \"\"}}, \"type\": \"scatterternary\"}], \"surface\": [{\"colorbar\": {\"outlinewidth\": 0, \"ticks\": \"\"}, \"colorscale\": [[0.0, \"#0d0887\"], [0.1111111111111111, \"#46039f\"], [0.2222222222222222, \"#7201a8\"], [0.3333333333333333, \"#9c179e\"], [0.4444444444444444, \"#bd3786\"], [0.5555555555555556, \"#d8576b\"], [0.6666666666666666, \"#ed7953\"], [0.7777777777777778, \"#fb9f3a\"], [0.8888888888888888, \"#fdca26\"], [1.0, \"#f0f921\"]], \"type\": \"surface\"}], \"table\": [{\"cells\": {\"fill\": {\"color\": \"#EBF0F8\"}, \"line\": {\"color\": \"white\"}}, \"header\": {\"fill\": {\"color\": \"#C8D4E3\"}, \"line\": {\"color\": \"white\"}}, \"type\": \"table\"}]}, \"layout\": {\"annotationdefaults\": {\"arrowcolor\": \"#2a3f5f\", \"arrowhead\": 0, \"arrowwidth\": 1}, \"coloraxis\": {\"colorbar\": {\"outlinewidth\": 0, \"ticks\": \"\"}}, \"colorscale\": {\"diverging\": [[0, \"#8e0152\"], [0.1, \"#c51b7d\"], [0.2, \"#de77ae\"], [0.3, \"#f1b6da\"], [0.4, \"#fde0ef\"], [0.5, \"#f7f7f7\"], [0.6, \"#e6f5d0\"], [0.7, \"#b8e186\"], [0.8, \"#7fbc41\"], [0.9, \"#4d9221\"], [1, \"#276419\"]], \"sequential\": [[0.0, \"#0d0887\"], [0.1111111111111111, \"#46039f\"], [0.2222222222222222, \"#7201a8\"], [0.3333333333333333, \"#9c179e\"], [0.4444444444444444, \"#bd3786\"], [0.5555555555555556, \"#d8576b\"], [0.6666666666666666, \"#ed7953\"], [0.7777777777777778, \"#fb9f3a\"], [0.8888888888888888, \"#fdca26\"], [1.0, \"#f0f921\"]], \"sequentialminus\": [[0.0, \"#0d0887\"], [0.1111111111111111, \"#46039f\"], [0.2222222222222222, \"#7201a8\"], [0.3333333333333333, \"#9c179e\"], [0.4444444444444444, \"#bd3786\"], [0.5555555555555556, \"#d8576b\"], [0.6666666666666666, \"#ed7953\"], [0.7777777777777778, \"#fb9f3a\"], [0.8888888888888888, \"#fdca26\"], [1.0, \"#f0f921\"]]}, \"colorway\": [\"#636efa\", \"#EF553B\", \"#00cc96\", \"#ab63fa\", \"#FFA15A\", \"#19d3f3\", \"#FF6692\", \"#B6E880\", \"#FF97FF\", \"#FECB52\"], \"font\": {\"color\": \"#2a3f5f\"}, \"geo\": {\"bgcolor\": \"white\", \"lakecolor\": \"white\", \"landcolor\": \"#E5ECF6\", \"showlakes\": true, \"showland\": true, \"subunitcolor\": \"white\"}, \"hoverlabel\": {\"align\": \"left\"}, \"hovermode\": \"closest\", \"mapbox\": {\"style\": \"light\"}, \"paper_bgcolor\": \"white\", \"plot_bgcolor\": \"#E5ECF6\", \"polar\": {\"angularaxis\": {\"gridcolor\": \"white\", \"linecolor\": \"white\", \"ticks\": \"\"}, \"bgcolor\": \"#E5ECF6\", \"radialaxis\": {\"gridcolor\": \"white\", \"linecolor\": \"white\", \"ticks\": \"\"}}, \"scene\": {\"xaxis\": {\"backgroundcolor\": \"#E5ECF6\", \"gridcolor\": \"white\", \"gridwidth\": 2, \"linecolor\": \"white\", \"showbackground\": true, \"ticks\": \"\", \"zerolinecolor\": \"white\"}, \"yaxis\": {\"backgroundcolor\": \"#E5ECF6\", \"gridcolor\": \"white\", \"gridwidth\": 2, \"linecolor\": \"white\", \"showbackground\": true, \"ticks\": \"\", \"zerolinecolor\": \"white\"}, \"zaxis\": {\"backgroundcolor\": \"#E5ECF6\", \"gridcolor\": \"white\", \"gridwidth\": 2, \"linecolor\": \"white\", \"showbackground\": true, \"ticks\": \"\", \"zerolinecolor\": \"white\"}}, \"shapedefaults\": {\"line\": {\"color\": \"#2a3f5f\"}}, \"ternary\": {\"aaxis\": {\"gridcolor\": \"white\", \"linecolor\": \"white\", \"ticks\": \"\"}, \"baxis\": {\"gridcolor\": \"white\", \"linecolor\": \"white\", \"ticks\": \"\"}, \"bgcolor\": \"#E5ECF6\", \"caxis\": {\"gridcolor\": \"white\", \"linecolor\": \"white\", \"ticks\": \"\"}}, \"title\": {\"x\": 0.05}, \"xaxis\": {\"automargin\": true, \"gridcolor\": \"white\", \"linecolor\": \"white\", \"ticks\": \"\", \"title\": {\"standoff\": 15}, \"zerolinecolor\": \"white\", \"zerolinewidth\": 2}, \"yaxis\": {\"automargin\": true, \"gridcolor\": \"white\", \"linecolor\": \"white\", \"ticks\": \"\", \"title\": {\"standoff\": 15}, \"zerolinecolor\": \"white\", \"zerolinewidth\": 2}}}},\n",
              "                        {\"responsive\": true}\n",
              "                    ).then(function(){\n",
              "                            \n",
              "var gd = document.getElementById('8b3b9198-b3aa-4d80-aa3e-ef4cae5cd322');\n",
              "var x = new MutationObserver(function (mutations, observer) {{\n",
              "        var display = window.getComputedStyle(gd).display;\n",
              "        if (!display || display === 'none') {{\n",
              "            console.log([gd, 'removed!']);\n",
              "            Plotly.purge(gd);\n",
              "            observer.disconnect();\n",
              "        }}\n",
              "}});\n",
              "\n",
              "// Listen for the removal of the full notebook cells\n",
              "var notebookContainer = gd.closest('#notebook-container');\n",
              "if (notebookContainer) {{\n",
              "    x.observe(notebookContainer, {childList: true});\n",
              "}}\n",
              "\n",
              "// Listen for the clearing of the current output cell\n",
              "var outputEl = gd.closest('.output');\n",
              "if (outputEl) {{\n",
              "    x.observe(outputEl, {childList: true});\n",
              "}}\n",
              "\n",
              "                        })\n",
              "                };\n",
              "                \n",
              "            </script>\n",
              "        </div>\n",
              "</body>\n",
              "</html>"
            ]
          },
          "metadata": {
            "tags": []
          }
        }
      ]
    },
    {
      "cell_type": "markdown",
      "metadata": {
        "id": "Vjr5eSk1Mmrw"
      },
      "source": [
        "We can clearly see that category 0 and category 2 are the minor categories"
      ]
    },
    {
      "cell_type": "code",
      "metadata": {
        "id": "1cCD1ZYuSUsG",
        "outputId": "63630d7c-1ef9-4456-f4d6-2103f0b9e65c",
        "colab": {
          "base_uri": "https://localhost:8080/",
          "height": 34
        }
      },
      "source": [
        "print(merged_data.__len__())"
      ],
      "execution_count": null,
      "outputs": [
        {
          "output_type": "stream",
          "text": [
            "5091\n"
          ],
          "name": "stdout"
        }
      ]
    },
    {
      "cell_type": "code",
      "metadata": {
        "id": "GlFelMuaSWnU",
        "outputId": "2fc90af3-2cae-4c4f-b138-778ecd96b8a5",
        "colab": {
          "base_uri": "https://localhost:8080/",
          "height": 323
        }
      },
      "source": [
        "merged_data.head()"
      ],
      "execution_count": null,
      "outputs": [
        {
          "output_type": "execute_result",
          "data": {
            "text/html": [
              "<div>\n",
              "<style scoped>\n",
              "    .dataframe tbody tr th:only-of-type {\n",
              "        vertical-align: middle;\n",
              "    }\n",
              "\n",
              "    .dataframe tbody tr th {\n",
              "        vertical-align: top;\n",
              "    }\n",
              "\n",
              "    .dataframe thead th {\n",
              "        text-align: right;\n",
              "    }\n",
              "</style>\n",
              "<table border=\"1\" class=\"dataframe\">\n",
              "  <thead>\n",
              "    <tr style=\"text-align: right;\">\n",
              "      <th></th>\n",
              "      <th>news_id</th>\n",
              "      <th>category_id</th>\n",
              "      <th>snippet</th>\n",
              "      <th>title</th>\n",
              "      <th>news_description</th>\n",
              "    </tr>\n",
              "  </thead>\n",
              "  <tbody>\n",
              "    <tr>\n",
              "      <th>0</th>\n",
              "      <td>5cb426d44f646938b10bf6b6_google</td>\n",
              "      <td>3</td>\n",
              "      <td>He said his plans would be discussed with the ...</td>\n",
              "      <td>Foxconn chairman Gou says he aims to step down...</td>\n",
              "      <td>TAIPEI (Reuters) - The chairman of Taiwan's Fo...</td>\n",
              "    </tr>\n",
              "    <tr>\n",
              "      <th>1</th>\n",
              "      <td>5cb429984f646938b110f937_google</td>\n",
              "      <td>1</td>\n",
              "      <td>ZF Friedrichshafen AG has announced that it ha...</td>\n",
              "      <td>ZF Finalizes USD 7 Billion Deal to Acquire WABCO</td>\n",
              "      <td>Share 0 Share 0\\n\\nZF Friedrichshafen AG has a...</td>\n",
              "    </tr>\n",
              "    <tr>\n",
              "      <th>2</th>\n",
              "      <td>5cb426b34f646938b10bbeca_google</td>\n",
              "      <td>4</td>\n",
              "      <td>Zhejiang Geely Holding (ZGH) has begun constru...</td>\n",
              "      <td>Geely Begins Work On New Lotus Plant In China</td>\n",
              "      <td>Zhejiang Geely Holding (ZGH) has begun constru...</td>\n",
              "    </tr>\n",
              "    <tr>\n",
              "      <th>3</th>\n",
              "      <td>5cb427e74f646938b10de598_google</td>\n",
              "      <td>3</td>\n",
              "      <td>Family values: Andrew Moore wants to devote mo...</td>\n",
              "      <td>Moore steps down from top job at Renault</td>\n",
              "      <td>RENAULT Australia managing director Andrew Moo...</td>\n",
              "    </tr>\n",
              "    <tr>\n",
              "      <th>4</th>\n",
              "      <td>5cb427e74f646938b10de598_google</td>\n",
              "      <td>3</td>\n",
              "      <td>Family values: Andrew Moore wants to devote mo...</td>\n",
              "      <td>Moore steps down from top job at Renault</td>\n",
              "      <td>RENAULT Australia managing director Andrew Moo...</td>\n",
              "    </tr>\n",
              "  </tbody>\n",
              "</table>\n",
              "</div>"
            ],
            "text/plain": [
              "                           news_id  ...                                   news_description\n",
              "0  5cb426d44f646938b10bf6b6_google  ...  TAIPEI (Reuters) - The chairman of Taiwan's Fo...\n",
              "1  5cb429984f646938b110f937_google  ...  Share 0 Share 0\\n\\nZF Friedrichshafen AG has a...\n",
              "2  5cb426b34f646938b10bbeca_google  ...  Zhejiang Geely Holding (ZGH) has begun constru...\n",
              "3  5cb427e74f646938b10de598_google  ...  RENAULT Australia managing director Andrew Moo...\n",
              "4  5cb427e74f646938b10de598_google  ...  RENAULT Australia managing director Andrew Moo...\n",
              "\n",
              "[5 rows x 5 columns]"
            ]
          },
          "metadata": {
            "tags": []
          },
          "execution_count": 13
        }
      ]
    },
    {
      "cell_type": "code",
      "metadata": {
        "id": "dcRPY_IlSZBq",
        "outputId": "05c95770-b99a-40db-9b4b-b9011c8c3bc9",
        "colab": {
          "base_uri": "https://localhost:8080/",
          "height": 119
        }
      },
      "source": [
        "merged_data.isna().sum()"
      ],
      "execution_count": null,
      "outputs": [
        {
          "output_type": "execute_result",
          "data": {
            "text/plain": [
              "news_id             0\n",
              "category_id         0\n",
              "snippet             0\n",
              "title               0\n",
              "news_description    0\n",
              "dtype: int64"
            ]
          },
          "metadata": {
            "tags": []
          },
          "execution_count": 14
        }
      ]
    },
    {
      "cell_type": "code",
      "metadata": {
        "id": "TVrFXFCQSa1s",
        "outputId": "2921a670-df77-495a-e8b6-0297f97f3aa3",
        "colab": {
          "base_uri": "https://localhost:8080/",
          "height": 34
        }
      },
      "source": [
        "merged_data[\"news_id\"].unique().__len__()"
      ],
      "execution_count": null,
      "outputs": [
        {
          "output_type": "execute_result",
          "data": {
            "text/plain": [
              "2529"
            ]
          },
          "metadata": {
            "tags": []
          },
          "execution_count": 15
        }
      ]
    },
    {
      "cell_type": "code",
      "metadata": {
        "id": "b9jrR_2NScnD"
      },
      "source": [
        "merged_data[\"combined\"] = merged_data[\"snippet\"]+merged_data[\"title\"]+merged_data[\"news_description\"]\n",
        "merged_data.to_csv(\"/content/drive/My Drive/news_categorization/merged_data.csv\", index=False)"
      ],
      "execution_count": null,
      "outputs": []
    },
    {
      "cell_type": "markdown",
      "metadata": {
        "id": "GMnhRNmdM2ea"
      },
      "source": [
        "Lets generate tokens for \"combined\" column in merged data and visualize their lengths"
      ]
    },
    {
      "cell_type": "code",
      "metadata": {
        "id": "Xhg7DkgV0gBe",
        "outputId": "ad60a92f-7db1-4854-960e-e13e51652c25",
        "colab": {
          "base_uri": "https://localhost:8080/",
          "height": 51
        }
      },
      "source": [
        "import tensorflow as tf\n",
        "# import tensorflow.contrib \n",
        "print(tf.__version__)\n",
        "print(tf.test.gpu_device_name())\n",
        "\n",
        "from keras.preprocessing.text import Tokenizer\n",
        "from keras.preprocessing.sequence import pad_sequences\n",
        "from sklearn.utils import shuffle\n",
        "import seaborn as sns\n",
        "import matplotlib.pyplot as plt\n",
        "\n",
        "\n",
        "merged_data = shuffle(merged_data)\n",
        "num_rows = merged_data.__len__()\n",
        "X = merged_data[\"combined\"]\n",
        "Y = merged_data[\"category_id\"].values\n",
        "\n",
        "tokenizer_obj = Tokenizer()\n",
        "tokenizer_obj.fit_on_texts(X)\n",
        "X_tokens = tokenizer_obj.texts_to_sequences(X)\n"
      ],
      "execution_count": null,
      "outputs": [
        {
          "output_type": "stream",
          "text": [
            "2.3.0\n",
            "/device:GPU:0\n"
          ],
          "name": "stdout"
        }
      ]
    },
    {
      "cell_type": "code",
      "metadata": {
        "id": "nc0Qpedx0iOD",
        "outputId": "f7602a16-6f4e-4ef6-a428-df42f8bbe37e",
        "colab": {
          "base_uri": "https://localhost:8080/",
          "height": 677
        }
      },
      "source": [
        "x_tokens_len = [len(i) for i in X_tokens]\n",
        "x_tokens_len_df = pd.DataFrame(x_tokens_len, columns=[\"token_len\"])\n",
        "plt.figure(figsize=(10,10))\n",
        "sns.distplot(x_tokens_len_df[\"token_len\"])\n",
        "print(\"max length is: {}\".format(max(x_tokens_len)))"
      ],
      "execution_count": null,
      "outputs": [
        {
          "output_type": "stream",
          "text": [
            "/usr/local/lib/python3.6/dist-packages/seaborn/distributions.py:2551: FutureWarning: `distplot` is a deprecated function and will be removed in a future version. Please adapt your code to use either `displot` (a figure-level function with similar flexibility) or `histplot` (an axes-level function for histograms).\n",
            "  warnings.warn(msg, FutureWarning)\n"
          ],
          "name": "stderr"
        },
        {
          "output_type": "stream",
          "text": [
            "max length is: 3739\n"
          ],
          "name": "stdout"
        },
        {
          "output_type": "display_data",
          "data": {
            "image/png": "[encoded data removed]",
            "text/plain": [
              "<Figure size 720x720 with 1 Axes>"
            ]
          },
          "metadata": {
            "tags": [],
            "needs_background": "light"
          }
        }
      ]
    },
    {
      "cell_type": "markdown",
      "metadata": {
        "id": "rBVKra0qz5pM"
      },
      "source": [
        "# **News Categorization with LSTMs**"
      ]
    },
    {
      "cell_type": "code",
      "metadata": {
        "id": "QZ2t7h1R0HqU",
        "outputId": "bd32cb48-ba1a-494d-95df-4249d4e85cef",
        "colab": {
          "base_uri": "https://localhost:8080/",
          "height": 1000
        }
      },
      "source": [
        "import pandas as pd\n",
        "import numpy as np\n",
        "from sklearn.utils import shuffle\n",
        "import os\n",
        "import shutil\n",
        "import math\n",
        "\n",
        "path = \"/content/drive/My Drive/news_categorization/\"\n",
        "\n",
        "num_classes = 7\n",
        "batch_size = 64\n",
        "epochs = 20\n",
        "\n",
        "if os.path.isdir(os.path.join(path, \"news_categorization\")):\n",
        "    shutil.rmtree(os.path.join(path, \"news_categorization\"))\n",
        "\n",
        "os.makedirs(os.path.join(path, \"news_categorization\"))\n",
        "out_path = os.path.join(path, \"news_categorization\")\n",
        "\n",
        "if not os.path.isdir(\"/content/drive/My Drive/news_categorization/lstm\"):\n",
        "    os.makedirs(\"/content/drive/My Drive/news_categorization/lstm\")\n",
        "\n",
        "merged_data = pd.read_csv(\"/content/drive/My Drive/news_categorization/merged_data.csv\")\n",
        "merged_data = shuffle(merged_data)\n",
        "num_rows = merged_data.__len__()\n",
        "X = merged_data[\"combined\"]\n",
        "Y = merged_data[\"category_id\"].values\n",
        "\n",
        "from sklearn.model_selection import train_test_split\n",
        "\n",
        "X_train, X_test, y_train, y_test = train_test_split(X,Y, test_size=0.1, random_state=42, stratify=Y)\n",
        "\n",
        "\n",
        "from keras.preprocessing.text import Tokenizer\n",
        "from keras.preprocessing.sequence import pad_sequences\n",
        "import keras\n",
        "# import keras_metrics\n",
        "tokenizer_obj = Tokenizer()\n",
        "total_text = np.concatenate([X_train , X_test])\n",
        "tokenizer_obj.fit_on_texts(total_text)\n",
        "\n",
        "#pad sequences\n",
        "max_length = max([len(s.split()) for s in total_text])\n",
        "max_length = 600\n",
        "\n",
        "#define vocab size\n",
        "vocab_size = len(tokenizer_obj.word_index)+1\n",
        "print(\"vocab_size\", vocab_size)\n",
        "\n",
        "X_train_tokens = tokenizer_obj.texts_to_sequences(X_train)\n",
        "X_test_tokens = tokenizer_obj.texts_to_sequences(X_test)\n",
        "x_train_token_len = [len(i) for i in X_train_tokens]\n",
        "x_test_token_len = [len(i) for i in X_test_tokens]\n",
        "x_tokens_len = x_train_token_len+x_test_token_len\n",
        "\n",
        "import statistics\n",
        "timestep = math.floor(statistics.mean(x_tokens_len))\n",
        "print(\"timestep: \", timestep)\n",
        "\n",
        "X_train_pad = pad_sequences(X_train_tokens, maxlen=max_length, padding='pre', truncating=\"post\")\n",
        "X_test_pad = pad_sequences(X_test_tokens, maxlen=max_length, padding='pre', truncating=\"post\")\n",
        "\n",
        "import tensorflow\n",
        "from tensorflow.keras.models import Sequential\n",
        "from tensorflow import keras\n",
        "from tensorflow.keras.layers import Dense, LSTM, Embedding, Dropout, Flatten\n",
        "from tensorflow.keras.utils import to_categorical\n",
        "from tensorflow.compat.v1.keras.layers import CuDNNLSTM\n",
        "Embedding_dim = 100\n",
        "\n",
        "y_train = to_categorical(y_train)\n",
        "y_test = to_categorical(y_test)\n",
        "\n",
        "\n",
        "#model train\n",
        "early_stop_callback = tensorflow.keras.callbacks.EarlyStopping(monitor='val_loss', patience=5)\n",
        "checkpoint_callback = tensorflow.keras.callbacks.ModelCheckpoint(out_path, monitor='val_loss', verbose=0, save_best_only=True, mode='min')\n",
        "adam = keras.optimizers.Adam(learning_rate=0.0001, beta_1=0.92, beta_2=0.99,amsgrad=False)\n",
        "\n",
        "lstm_model = Sequential()\n",
        "lstm_model.add(Embedding(vocab_size, Embedding_dim, input_length=max_length))\n",
        "lstm_model.add(CuDNNLSTM(units=512, input_shape=(timestep, max_length),return_sequences=False))\n",
        "lstm_model.add(Flatten())\n",
        "lstm_model.add(Dense(500, activation='relu'))\n",
        "# model.add(Dropout(0.2))\n",
        "lstm_model.add(Dense(300, activation='relu'))\n",
        "lstm_model.add(Dropout(0.3))\n",
        "# model.add(Dense(100, activation='relu'))\n",
        "# model.add(Dropout(0.5))\n",
        "lstm_model.add(Dense(7, activation='softmax'))\n",
        "lstm_model.compile(loss=keras.losses.categorical_crossentropy, optimizer=adam, metrics=['accuracy'])\n",
        "print(model.summary())\n",
        "lstm_model_history = lstm_model.fit(X_train_pad, y_train, epochs=epochs, batch_size=batch_size, validation_data=(X_test_pad, y_test), callbacks=[early_stop_callback])\n",
        "model.save(os.path.join(\"/content/drive/My Drive/news_categorization/lstm\",'lstm_model.h5'))\n",
        "\n",
        "import matplotlib.pyplot as plt\n",
        "# summarize history for accracy\n",
        "plt.plot(lstm_model_history.history['accuracy'])\n",
        "plt.plot(lstm_model_history.history['val_accuracy'])\n",
        "plt.title('model accuracy')\n",
        "plt.ylabel('accuracy')\n",
        "plt.xlabel('epoch')\n",
        "plt.legend(['train', 'test'], loc='upper left')\n",
        "plt.show()\n",
        "plt.savefig(os.path.join(\"/content/drive/My Drive/news_categorization/lstm\",\"accuracy.png\"))\n",
        "plt.close()\n",
        "\n",
        "# summarize history for loss\n",
        "plt.plot(lstm_model_history.history['loss'])\n",
        "plt.plot(lstm_model_history.history['val_loss'])\n",
        "plt.title('model loss')\n",
        "plt.ylabel('loss')\n",
        "plt.xlabel('epoch')\n",
        "plt.legend(['train', 'test'], loc='upper left')\n",
        "plt.show()\n",
        "plt.savefig(os.path.join(\"/content/drive/My Drive/news_categorization/lstm\",\"loss.png\"))\n",
        "plt.close()"
      ],
      "execution_count": null,
      "outputs": [
        {
          "output_type": "stream",
          "text": [
            "vocab_size 50740\n",
            "timestep:  516\n",
            "Model: \"sequential_12\"\n",
            "_________________________________________________________________\n",
            "Layer (type)                 Output Shape              Param #   \n",
            "=================================================================\n",
            "embedding_12 (Embedding)     (None, 600, 100)          5074000   \n",
            "_________________________________________________________________\n",
            "conv1d_1 (Conv1D)            (None, 598, 1024)         308224    \n",
            "_________________________________________________________________\n",
            "global_max_pooling1d (Global (None, 1024)              0         \n",
            "_________________________________________________________________\n",
            "flatten_9 (Flatten)          (None, 1024)              0         \n",
            "_________________________________________________________________\n",
            "dense_26 (Dense)             (None, 500)               512500    \n",
            "_________________________________________________________________\n",
            "dense_27 (Dense)             (None, 300)               150300    \n",
            "_________________________________________________________________\n",
            "dropout_9 (Dropout)          (None, 300)               0         \n",
            "_________________________________________________________________\n",
            "dense_28 (Dense)             (None, 7)                 2107      \n",
            "=================================================================\n",
            "Total params: 6,047,131\n",
            "Trainable params: 6,047,131\n",
            "Non-trainable params: 0\n",
            "_________________________________________________________________\n",
            "None\n",
            "Epoch 1/20\n",
            "72/72 [==============================] - 12s 169ms/step - loss: 1.7655 - accuracy: 0.3360 - val_loss: 1.6725 - val_accuracy: 0.3471\n",
            "Epoch 2/20\n",
            "72/72 [==============================] - 12s 166ms/step - loss: 1.6508 - accuracy: 0.3440 - val_loss: 1.6298 - val_accuracy: 0.3471\n",
            "Epoch 3/20\n",
            "72/72 [==============================] - 12s 165ms/step - loss: 1.5902 - accuracy: 0.3464 - val_loss: 1.5176 - val_accuracy: 0.3510\n",
            "Epoch 4/20\n",
            "72/72 [==============================] - 12s 166ms/step - loss: 1.4069 - accuracy: 0.3990 - val_loss: 1.2703 - val_accuracy: 0.4373\n",
            "Epoch 5/20\n",
            "72/72 [==============================] - 12s 167ms/step - loss: 1.1542 - accuracy: 0.5226 - val_loss: 1.1763 - val_accuracy: 0.5412\n",
            "Epoch 6/20\n",
            "72/72 [==============================] - 12s 166ms/step - loss: 0.9730 - accuracy: 0.6197 - val_loss: 1.0303 - val_accuracy: 0.6510\n",
            "Epoch 7/20\n",
            "72/72 [==============================] - 12s 166ms/step - loss: 0.9335 - accuracy: 0.6228 - val_loss: 0.9669 - val_accuracy: 0.6980\n",
            "Epoch 8/20\n",
            "72/72 [==============================] - 12s 165ms/step - loss: 0.7565 - accuracy: 0.7175 - val_loss: 0.9329 - val_accuracy: 0.7137\n",
            "Epoch 9/20\n",
            "72/72 [==============================] - 12s 167ms/step - loss: 0.6026 - accuracy: 0.7797 - val_loss: 0.9970 - val_accuracy: 0.7373\n",
            "Epoch 10/20\n",
            "72/72 [==============================] - 12s 166ms/step - loss: 0.4957 - accuracy: 0.8221 - val_loss: 0.9497 - val_accuracy: 0.7510\n",
            "Epoch 11/20\n",
            "72/72 [==============================] - 12s 165ms/step - loss: 0.4568 - accuracy: 0.8420 - val_loss: 0.9853 - val_accuracy: 0.7431\n",
            "Epoch 12/20\n",
            "72/72 [==============================] - 12s 165ms/step - loss: 0.4033 - accuracy: 0.8686 - val_loss: 1.0696 - val_accuracy: 0.7686\n",
            "Epoch 13/20\n",
            "72/72 [==============================] - 12s 165ms/step - loss: 0.3022 - accuracy: 0.9035 - val_loss: 1.1194 - val_accuracy: 0.7765\n"
          ],
          "name": "stdout"
        },
        {
          "output_type": "display_data",
          "data": {
            "image/png": "[encoded data removed]",
            "text/plain": [
              "<Figure size 432x288 with 1 Axes>"
            ]
          },
          "metadata": {
            "tags": [],
            "needs_background": "light"
          }
        },
        {
          "output_type": "display_data",
          "data": {
            "image/png": "[encoded data removed]",
            "text/plain": [
              "<Figure size 432x288 with 1 Axes>"
            ]
          },
          "metadata": {
            "tags": [],
            "needs_background": "light"
          }
        }
      ]
    },
    {
      "cell_type": "markdown",
      "metadata": {
        "id": "emWBHrfeA75k"
      },
      "source": [
        "# **News Categorization with Convolution Neural Network**"
      ]
    },
    {
      "cell_type": "code",
      "metadata": {
        "id": "TOYFlenPBB9D",
        "outputId": "fccebc7c-f7fb-40b2-8d44-086ed75afa97",
        "colab": {
          "base_uri": "https://localhost:8080/",
          "height": 1000
        }
      },
      "source": [
        "import pandas as pd\n",
        "import numpy as np\n",
        "from sklearn.utils import shuffle\n",
        "import os\n",
        "import shutil\n",
        "import math\n",
        "\n",
        "path = \"/content/drive/My Drive/news_categorization/\"\n",
        "\n",
        "num_classes = 7\n",
        "batch_size = 64\n",
        "filters = 1024\n",
        "kernel_size = 3\n",
        "epochs = 20\n",
        "\n",
        "if os.path.isdir(os.path.join(path, \"news_categorization\")):\n",
        "    shutil.rmtree(os.path.join(path, \"news_categorization\"))\n",
        "\n",
        "os.makedirs(os.path.join(path, \"news_categorization\"))\n",
        "out_path = os.path.join(path, \"news_categorization\")\n",
        "\n",
        "if not os.path.isdir(\"/content/drive/My Drive/news_categorization/cnn\"):\n",
        "    os.makedirs(\"/content/drive/My Drive/news_categorization/cnn\")\n",
        "\n",
        "merged_data = pd.read_csv(\"/content/drive/My Drive/news_categorization/merged_data.csv\")\n",
        "merged_data = shuffle(merged_data)\n",
        "num_rows = merged_data.__len__()\n",
        "X = merged_data[\"combined\"]\n",
        "Y = merged_data[\"category_id\"].values\n",
        "\n",
        "from sklearn.model_selection import train_test_split\n",
        "\n",
        "X_train, X_test, y_train, y_test = train_test_split(X,Y, test_size=0.1, random_state=42, stratify=Y)\n",
        "\n",
        "\n",
        "from keras.preprocessing.text import Tokenizer\n",
        "from keras.preprocessing.sequence import pad_sequences\n",
        "import keras\n",
        "# import keras_metrics\n",
        "tokenizer_obj = Tokenizer()\n",
        "total_text = np.concatenate([X_train , X_test])\n",
        "tokenizer_obj.fit_on_texts(total_text)\n",
        "\n",
        "#pad sequences\n",
        "max_length = max([len(s.split()) for s in total_text])\n",
        "max_length = 600\n",
        "\n",
        "#define vocab size\n",
        "vocab_size = len(tokenizer_obj.word_index)+1\n",
        "print(\"vocab_size\", vocab_size)\n",
        "\n",
        "X_train_tokens = tokenizer_obj.texts_to_sequences(X_train)\n",
        "X_test_tokens = tokenizer_obj.texts_to_sequences(X_test)\n",
        "x_train_token_len = [len(i) for i in X_train_tokens]\n",
        "x_test_token_len = [len(i) for i in X_test_tokens]\n",
        "x_tokens_len = x_train_token_len+x_test_token_len\n",
        "\n",
        "\n",
        "X_train_pad = pad_sequences(X_train_tokens, maxlen=max_length, padding='pre', truncating=\"post\")\n",
        "X_test_pad = pad_sequences(X_test_tokens, maxlen=max_length, padding='pre', truncating=\"post\")\n",
        "\n",
        "import tensorflow\n",
        "from tensorflow.keras.models import Sequential\n",
        "from tensorflow import keras\n",
        "from tensorflow.keras.layers import Dense, LSTM, Embedding, Dropout, Flatten, Conv1D, GlobalMaxPooling1D\n",
        "from tensorflow.keras.utils import to_categorical\n",
        "\n",
        "Embedding_dim = 100\n",
        "\n",
        "y_train = to_categorical(y_train)\n",
        "y_test = to_categorical(y_test)\n",
        "\n",
        "\n",
        "#model train\n",
        "early_stop_callback = tensorflow.keras.callbacks.EarlyStopping(monitor='val_loss', patience=5)\n",
        "checkpoint_callback = tensorflow.keras.callbacks.ModelCheckpoint(out_path, monitor='val_loss', verbose=0, save_best_only=True, mode='min')\n",
        "adam = keras.optimizers.Adam(learning_rate=0.0001, beta_1=0.92, beta_2=0.99,amsgrad=False)\n",
        "\n",
        "cnn_model = Sequential()\n",
        "cnn_model.add(Embedding(vocab_size, Embedding_dim, input_length=max_length))\n",
        "cnn_model.add(Conv1D(filters,\n",
        "                 kernel_size,\n",
        "                 padding='valid',\n",
        "                 activation='relu',\n",
        "                 strides=1))\n",
        "# we use max pooling:\n",
        "cnn_model.add(GlobalMaxPooling1D())\n",
        "cnn_model.add(Flatten())\n",
        "cnn_model.add(Dense(500, activation='relu'))\n",
        "# model.add(Dropout(0.2))\n",
        "cnn_model.add(Dense(300, activation='relu'))\n",
        "cnn_model.add(Dropout(0.3))\n",
        "# model.add(Dense(100, activation='relu'))\n",
        "# model.add(Dropout(0.5))\n",
        "cnn_model.add(Dense(7, activation='softmax'))\n",
        "cnn_model.compile(loss=keras.losses.categorical_crossentropy, optimizer=adam, metrics=['accuracy'])\n",
        "print(cnn_model.summary())\n",
        "cnn_model_history = cnn_model.fit(X_train_pad, y_train, epochs=epochs, batch_size=batch_size, validation_data=(X_test_pad, y_test), callbacks=[early_stop_callback])\n",
        "model.save(os.path.join(\"/content/drive/My Drive/news_categorization/cnn\",'cnn_model.h5'))\n",
        "\n",
        "import matplotlib.pyplot as plt\n",
        "# summarize history for accracy\n",
        "plt.plot(cnn_model_history.history['accuracy'])\n",
        "plt.plot(cnn_model_history.history['val_accuracy'])\n",
        "plt.title('model accuracy')\n",
        "plt.ylabel('accuracy')\n",
        "plt.xlabel('epoch')\n",
        "plt.legend(['train', 'test'], loc='upper left')\n",
        "plt.show()\n",
        "plt.savefig(os.path.join(\"/content/drive/My Drive/news_categorization/cnn\",\"accuracy.png\"))\n",
        "plt.close()\n",
        "\n",
        "# summarize history for loss\n",
        "plt.plot(cnn_model_history.history['loss'])\n",
        "plt.plot(cnn_model_history.history['val_loss'])\n",
        "plt.title('model loss')\n",
        "plt.ylabel('loss')\n",
        "plt.xlabel('epoch')\n",
        "plt.legend(['train', 'test'], loc='upper left')\n",
        "plt.show()\n",
        "plt.savefig(os.path.join(\"/content/drive/My Drive/news_categorization/cnn\",\"loss.png\"))\n",
        "plt.close()"
      ],
      "execution_count": null,
      "outputs": [
        {
          "output_type": "stream",
          "text": [
            "vocab_size 50740\n",
            "timestep:  516\n",
            "Model: \"sequential_20\"\n",
            "_________________________________________________________________\n",
            "Layer (type)                 Output Shape              Param #   \n",
            "=================================================================\n",
            "embedding_20 (Embedding)     (None, 600, 100)          5074000   \n",
            "_________________________________________________________________\n",
            "conv1d_3 (Conv1D)            (None, 598, 1024)         308224    \n",
            "_________________________________________________________________\n",
            "global_max_pooling1d_2 (Glob (None, 1024)              0         \n",
            "_________________________________________________________________\n",
            "flatten_17 (Flatten)         (None, 1024)              0         \n",
            "_________________________________________________________________\n",
            "dense_50 (Dense)             (None, 500)               512500    \n",
            "_________________________________________________________________\n",
            "dense_51 (Dense)             (None, 300)               150300    \n",
            "_________________________________________________________________\n",
            "dropout_17 (Dropout)         (None, 300)               0         \n",
            "_________________________________________________________________\n",
            "dense_52 (Dense)             (None, 7)                 2107      \n",
            "=================================================================\n",
            "Total params: 6,047,131\n",
            "Trainable params: 6,047,131\n",
            "Non-trainable params: 0\n",
            "_________________________________________________________________\n",
            "None\n",
            "Epoch 1/20\n",
            "72/72 [==============================] - 6s 86ms/step - loss: 1.7201 - accuracy: 0.3456 - val_loss: 1.6399 - val_accuracy: 0.3471\n",
            "Epoch 2/20\n",
            "72/72 [==============================] - 6s 83ms/step - loss: 1.6262 - accuracy: 0.3486 - val_loss: 1.5816 - val_accuracy: 0.3471\n",
            "Epoch 3/20\n",
            "72/72 [==============================] - 6s 84ms/step - loss: 1.5001 - accuracy: 0.4235 - val_loss: 1.3529 - val_accuracy: 0.5510\n",
            "Epoch 4/20\n",
            "72/72 [==============================] - 6s 82ms/step - loss: 1.2010 - accuracy: 0.5619 - val_loss: 1.0558 - val_accuracy: 0.6255\n",
            "Epoch 5/20\n",
            "72/72 [==============================] - 6s 82ms/step - loss: 0.9721 - accuracy: 0.6651 - val_loss: 0.8797 - val_accuracy: 0.7529\n",
            "Epoch 6/20\n",
            "72/72 [==============================] - 6s 84ms/step - loss: 0.8367 - accuracy: 0.7346 - val_loss: 0.7670 - val_accuracy: 0.8157\n",
            "Epoch 7/20\n",
            "72/72 [==============================] - 6s 85ms/step - loss: 0.7121 - accuracy: 0.7944 - val_loss: 0.6354 - val_accuracy: 0.8176\n",
            "Epoch 8/20\n",
            "72/72 [==============================] - 6s 83ms/step - loss: 0.5741 - accuracy: 0.8406 - val_loss: 0.5191 - val_accuracy: 0.8451\n",
            "Epoch 9/20\n",
            "72/72 [==============================] - 6s 83ms/step - loss: 0.4704 - accuracy: 0.8679 - val_loss: 0.4415 - val_accuracy: 0.8667\n",
            "Epoch 10/20\n",
            "72/72 [==============================] - 6s 82ms/step - loss: 0.3832 - accuracy: 0.8906 - val_loss: 0.3806 - val_accuracy: 0.8804\n",
            "Epoch 11/20\n",
            "72/72 [==============================] - 6s 82ms/step - loss: 0.3058 - accuracy: 0.9090 - val_loss: 0.3393 - val_accuracy: 0.8961\n",
            "Epoch 12/20\n",
            "72/72 [==============================] - 6s 82ms/step - loss: 0.2446 - accuracy: 0.9280 - val_loss: 0.3110 - val_accuracy: 0.9196\n",
            "Epoch 13/20\n",
            "72/72 [==============================] - 6s 81ms/step - loss: 0.2013 - accuracy: 0.9446 - val_loss: 0.2853 - val_accuracy: 0.9196\n",
            "Epoch 14/20\n",
            "72/72 [==============================] - 6s 84ms/step - loss: 0.1664 - accuracy: 0.9548 - val_loss: 0.2817 - val_accuracy: 0.9216\n",
            "Epoch 15/20\n",
            "72/72 [==============================] - 6s 83ms/step - loss: 0.1373 - accuracy: 0.9646 - val_loss: 0.2578 - val_accuracy: 0.9216\n",
            "Epoch 16/20\n",
            "72/72 [==============================] - 6s 83ms/step - loss: 0.1102 - accuracy: 0.9758 - val_loss: 0.2483 - val_accuracy: 0.9275\n",
            "Epoch 17/20\n",
            "72/72 [==============================] - 6s 83ms/step - loss: 0.0868 - accuracy: 0.9808 - val_loss: 0.2451 - val_accuracy: 0.9333\n",
            "Epoch 18/20\n",
            "72/72 [==============================] - 6s 84ms/step - loss: 0.0705 - accuracy: 0.9878 - val_loss: 0.2428 - val_accuracy: 0.9314\n",
            "Epoch 19/20\n",
            "72/72 [==============================] - 6s 84ms/step - loss: 0.0545 - accuracy: 0.9935 - val_loss: 0.2463 - val_accuracy: 0.9275\n",
            "Epoch 20/20\n",
            "72/72 [==============================] - 6s 84ms/step - loss: 0.0425 - accuracy: 0.9930 - val_loss: 0.2438 - val_accuracy: 0.9294\n"
          ],
          "name": "stdout"
        },
        {
          "output_type": "display_data",
          "data": {
            "image/png": "[encoded data removed]",
            "text/plain": [
              "<Figure size 432x288 with 1 Axes>"
            ]
          },
          "metadata": {
            "tags": [],
            "needs_background": "light"
          }
        },
        {
          "output_type": "display_data",
          "data": {
            "image/png": "[encoded data removed]",
            "text/plain": [
              "<Figure size 432x288 with 1 Axes>"
            ]
          },
          "metadata": {
            "tags": [],
            "needs_background": "light"
          }
        }
      ]
    },
    {
      "cell_type": "markdown",
      "metadata": {
        "id": "CfoWmR0Kz1z3"
      },
      "source": [
        "# **News Categorization with Fine-tuning the BertForSequenceClassification**"
      ]
    },
    {
      "cell_type": "markdown",
      "metadata": {
        "id": "RpDmM6O2T4KA"
      },
      "source": [
        "**GPU setup**"
      ]
    },
    {
      "cell_type": "code",
      "metadata": {
        "id": "GlQHvIruShFh",
        "outputId": "b317402e-7d24-4c67-c911-ba3299be8729",
        "colab": {
          "base_uri": "https://localhost:8080/",
          "height": 51
        }
      },
      "source": [
        "import torch\n",
        "\n",
        "# If there's a GPU available...\n",
        "if torch.cuda.is_available():    \n",
        "\n",
        "    # Tell PyTorch to use the GPU.    \n",
        "    device = torch.device(\"cuda\")\n",
        "\n",
        "    print('There are %d GPU(s) available.' % torch.cuda.device_count())\n",
        "\n",
        "    print('We will use the GPU:', torch.cuda.get_device_name(0))\n",
        "\n",
        "# If not...\n",
        "else:\n",
        "    print('No GPU available, using the CPU instead.')\n",
        "    device = torch.device(\"cpu\")"
      ],
      "execution_count": null,
      "outputs": [
        {
          "output_type": "stream",
          "text": [
            "There are 1 GPU(s) available.\n",
            "We will use the GPU: Tesla P100-PCIE-16GB\n"
          ],
          "name": "stdout"
        }
      ]
    },
    {
      "cell_type": "markdown",
      "metadata": {
        "id": "rpmsllyRTt8U"
      },
      "source": [
        "**Installing transformers**"
      ]
    },
    {
      "cell_type": "code",
      "metadata": {
        "id": "z4r_wHo1SrUw",
        "outputId": "ab0e3a63-6b53-4af1-af2e-42d33a5a4c78",
        "colab": {
          "base_uri": "https://localhost:8080/",
          "height": 615
        }
      },
      "source": [
        "!pip install transformers"
      ],
      "execution_count": null,
      "outputs": [
        {
          "output_type": "stream",
          "text": [
            "Collecting transformers\n",
            "\u001b[?25l  Downloading https://files.pythonhosted.org/packages/19/22/aff234f4a841f8999e68a7a94bdd4b60b4cebcfeca5d67d61cd08c9179de/transformers-3.3.1-py3-none-any.whl (1.1MB)\n",
            "\u001b[K     |████████████████████████████████| 1.1MB 2.7MB/s \n",
            "\u001b[?25hRequirement already satisfied: regex!=2019.12.17 in /usr/local/lib/python3.6/dist-packages (from transformers) (2019.12.20)\n",
            "Collecting sentencepiece!=0.1.92\n",
            "\u001b[?25l  Downloading https://files.pythonhosted.org/packages/d4/a4/d0a884c4300004a78cca907a6ff9a5e9fe4f090f5d95ab341c53d28cbc58/sentencepiece-0.1.91-cp36-cp36m-manylinux1_x86_64.whl (1.1MB)\n",
            "\u001b[K     |████████████████████████████████| 1.1MB 7.2MB/s \n",
            "\u001b[?25hRequirement already satisfied: numpy in /usr/local/lib/python3.6/dist-packages (from transformers) (1.18.5)\n",
            "Requirement already satisfied: dataclasses; python_version < \"3.7\" in /usr/local/lib/python3.6/dist-packages (from transformers) (0.7)\n",
            "Collecting sacremoses\n",
            "\u001b[?25l  Downloading https://files.pythonhosted.org/packages/7d/34/09d19aff26edcc8eb2a01bed8e98f13a1537005d31e95233fd48216eed10/sacremoses-0.0.43.tar.gz (883kB)\n",
            "\u001b[K     |████████████████████████████████| 890kB 17.4MB/s \n",
            "\u001b[?25hRequirement already satisfied: tqdm>=4.27 in /usr/local/lib/python3.6/dist-packages (from transformers) (4.41.1)\n",
            "Requirement already satisfied: requests in /usr/local/lib/python3.6/dist-packages (from transformers) (2.23.0)\n",
            "Requirement already satisfied: packaging in /usr/local/lib/python3.6/dist-packages (from transformers) (20.4)\n",
            "Collecting tokenizers==0.8.1.rc2\n",
            "\u001b[?25l  Downloading https://files.pythonhosted.org/packages/80/83/8b9fccb9e48eeb575ee19179e2bdde0ee9a1904f97de5f02d19016b8804f/tokenizers-0.8.1rc2-cp36-cp36m-manylinux1_x86_64.whl (3.0MB)\n",
            "\u001b[K     |████████████████████████████████| 3.0MB 13.1MB/s \n",
            "\u001b[?25hRequirement already satisfied: filelock in /usr/local/lib/python3.6/dist-packages (from transformers) (3.0.12)\n",
            "Requirement already satisfied: six in /usr/local/lib/python3.6/dist-packages (from sacremoses->transformers) (1.15.0)\n",
            "Requirement already satisfied: click in /usr/local/lib/python3.6/dist-packages (from sacremoses->transformers) (7.1.2)\n",
            "Requirement already satisfied: joblib in /usr/local/lib/python3.6/dist-packages (from sacremoses->transformers) (0.16.0)\n",
            "Requirement already satisfied: urllib3!=1.25.0,!=1.25.1,<1.26,>=1.21.1 in /usr/local/lib/python3.6/dist-packages (from requests->transformers) (1.24.3)\n",
            "Requirement already satisfied: certifi>=2017.4.17 in /usr/local/lib/python3.6/dist-packages (from requests->transformers) (2020.6.20)\n",
            "Requirement already satisfied: chardet<4,>=3.0.2 in /usr/local/lib/python3.6/dist-packages (from requests->transformers) (3.0.4)\n",
            "Requirement already satisfied: idna<3,>=2.5 in /usr/local/lib/python3.6/dist-packages (from requests->transformers) (2.10)\n",
            "Requirement already satisfied: pyparsing>=2.0.2 in /usr/local/lib/python3.6/dist-packages (from packaging->transformers) (2.4.7)\n",
            "Building wheels for collected packages: sacremoses\n",
            "  Building wheel for sacremoses (setup.py) ... \u001b[?25l\u001b[?25hdone\n",
            "  Created wheel for sacremoses: filename=sacremoses-0.0.43-cp36-none-any.whl size=893257 sha256=d69f638930c0e8ccdd67da8cbbb38addc8aff9162f65b8b3ecf4f052d4d4aaa0\n",
            "  Stored in directory: /root/.cache/pip/wheels/29/3c/fd/7ce5c3f0666dab31a50123635e6fb5e19ceb42ce38d4e58f45\n",
            "Successfully built sacremoses\n",
            "Installing collected packages: sentencepiece, sacremoses, tokenizers, transformers\n",
            "Successfully installed sacremoses-0.0.43 sentencepiece-0.1.91 tokenizers-0.8.1rc2 transformers-3.3.1\n"
          ],
          "name": "stdout"
        }
      ]
    },
    {
      "cell_type": "markdown",
      "metadata": {
        "id": "R-IdJusSTx3c"
      },
      "source": [
        "**get BERT tokenizer**"
      ]
    },
    {
      "cell_type": "code",
      "metadata": {
        "id": "mSfYlb1fS6mm",
        "outputId": "0bfad262-8b26-4dcd-943e-ce9212b8f91d",
        "colab": {
          "base_uri": "https://localhost:8080/",
          "height": 83,
          "referenced_widgets": [
            "12c5410e8a424db7818ca1b9efde66cf",
            "9d65983a8eba4f2cb16d4e267ac953f1",
            "1824b9382ec249f283ea39f4c2c98b43",
            "0ea4402db64f451892e55ced682cae89",
            "007f89971d954258a28f02a8b19cf80b",
            "0ec66c46ebd34e0aa5ccb20b0a7aeacd",
            "3eb92f021d16440ba95d657de887159a",
            "d4e7d9a799774a7e930ba8973b86dc11"
          ]
        }
      },
      "source": [
        "from transformers import BertTokenizer\n",
        "\n",
        "print('Loading BERT tokenizer...')\n",
        "tokenizer = BertTokenizer.from_pretrained('bert-base-uncased', do_lower_case=True)"
      ],
      "execution_count": null,
      "outputs": [
        {
          "output_type": "stream",
          "text": [
            "Loading BERT tokenizer...\n"
          ],
          "name": "stdout"
        },
        {
          "output_type": "display_data",
          "data": {
            "application/vnd.jupyter.widget-view+json": {
              "model_id": "12c5410e8a424db7818ca1b9efde66cf",
              "version_minor": 0,
              "version_major": 2
            },
            "text/plain": [
              "HBox(children=(FloatProgress(value=0.0, description='Downloading', max=231508.0, style=ProgressStyle(descripti…"
            ]
          },
          "metadata": {
            "tags": []
          }
        },
        {
          "output_type": "stream",
          "text": [
            "\n"
          ],
          "name": "stdout"
        }
      ]
    },
    {
      "cell_type": "markdown",
      "metadata": {
        "id": "uS_1IgogUSOb"
      },
      "source": [
        "**Import Data**"
      ]
    },
    {
      "cell_type": "code",
      "metadata": {
        "id": "1qusoqRHTPT9",
        "outputId": "2cdbdd59-52f8-48fe-f3aa-ff1bbebb68db",
        "colab": {
          "base_uri": "https://localhost:8080/",
          "height": 204
        }
      },
      "source": [
        "import pandas as pd\n",
        "merged_data = pd.read_csv(\"/content/drive/My Drive/news_categorization/merged_data.csv\")\n",
        "merged_data.loc[merged_data[\"category_id\"] == 0].sample(5)[['combined', 'category_id']]"
      ],
      "execution_count": null,
      "outputs": [
        {
          "output_type": "execute_result",
          "data": {
            "text/html": [
              "<div>\n",
              "<style scoped>\n",
              "    .dataframe tbody tr th:only-of-type {\n",
              "        vertical-align: middle;\n",
              "    }\n",
              "\n",
              "    .dataframe tbody tr th {\n",
              "        vertical-align: top;\n",
              "    }\n",
              "\n",
              "    .dataframe thead th {\n",
              "        text-align: right;\n",
              "    }\n",
              "</style>\n",
              "<table border=\"1\" class=\"dataframe\">\n",
              "  <thead>\n",
              "    <tr style=\"text-align: right;\">\n",
              "      <th></th>\n",
              "      <th>combined</th>\n",
              "      <th>category_id</th>\n",
              "    </tr>\n",
              "  </thead>\n",
              "  <tbody>\n",
              "    <tr>\n",
              "      <th>988</th>\n",
              "      <td>MARYSVILLE, Ohio (AP) \\u2014 Honda is slowing ...</td>\n",
              "      <td>0</td>\n",
              "    </tr>\n",
              "    <tr>\n",
              "      <th>370</th>\n",
              "      <td>A car parts manufacturer is set to cut 95 staf...</td>\n",
              "      <td>0</td>\n",
              "    </tr>\n",
              "    <tr>\n",
              "      <th>3812</th>\n",
              "      <td>Morgan Stanley ($NYSE:MS) will close all banki...</td>\n",
              "      <td>0</td>\n",
              "    </tr>\n",
              "    <tr>\n",
              "      <th>4006</th>\n",
              "      <td>PARIS (Reuters) - Carrefour plans to axe 3,000...</td>\n",
              "      <td>0</td>\n",
              "    </tr>\n",
              "    <tr>\n",
              "      <th>52</th>\n",
              "      <td>ResCare Community Living, a BrightSpring Healt...</td>\n",
              "      <td>0</td>\n",
              "    </tr>\n",
              "  </tbody>\n",
              "</table>\n",
              "</div>"
            ],
            "text/plain": [
              "                                               combined  category_id\n",
              "988   MARYSVILLE, Ohio (AP) \\u2014 Honda is slowing ...            0\n",
              "370   A car parts manufacturer is set to cut 95 staf...            0\n",
              "3812  Morgan Stanley ($NYSE:MS) will close all banki...            0\n",
              "4006  PARIS (Reuters) - Carrefour plans to axe 3,000...            0\n",
              "52    ResCare Community Living, a BrightSpring Healt...            0"
            ]
          },
          "metadata": {
            "tags": []
          },
          "execution_count": 5
        }
      ]
    },
    {
      "cell_type": "markdown",
      "metadata": {
        "id": "njxjJE0mT_am"
      },
      "source": [
        "**fetch the required the data**"
      ]
    },
    {
      "cell_type": "code",
      "metadata": {
        "id": "G3ptf5RxTAQA"
      },
      "source": [
        "sentences = merged_data[\"combined\"].values\n",
        "labels = merged_data[\"category_id\"].values"
      ],
      "execution_count": null,
      "outputs": []
    },
    {
      "cell_type": "markdown",
      "metadata": {
        "id": "Jhrr2psRUEWM"
      },
      "source": [
        "**Visualizing the token_ids and tokens**"
      ]
    },
    {
      "cell_type": "code",
      "metadata": {
        "id": "odsqjuJiTe7L",
        "outputId": "ab85f7e2-fde3-44e9-8129-43016ff928f1",
        "colab": {
          "base_uri": "https://localhost:8080/",
          "height": 88
        }
      },
      "source": [
        "print(' Original: ', sentences[0])\n",
        "print('Tokenized: ', tokenizer.tokenize(sentences[0]))\n",
        "print('Token IDs: ', tokenizer.convert_tokens_to_ids(tokenizer.tokenize(sentences[0])))"
      ],
      "execution_count": null,
      "outputs": [
        {
          "output_type": "stream",
          "text": [
            " Original:  He said his plans would be discussed with the board of Foxconn, the world's largest contract manufacturer, formally known as Hon Hai Precision Industry Co Ltd.Foxconn chairman Gou says he aims to step down in coming monthsTAIPEI (Reuters) - The chairman of Taiwan's Foxconn, assembler of Apple Inc's iPhones, told Reuters on Monday he plans to step down in the coming months, saying he wants to pave the way for younger talent to move up the ranks of the company.\\n\\nTerry Gou, speaking on the sidelines of an event in Taipei, said that while he planned to step down as chairman, he hoped to remain involved in strategic decisions regarding the company's business.\\n\\nHe said his plans would be discussed with the board of Foxconn, the world's largest contract manufacturer, formally known as Hon Hai Precision Industry Co Ltd.\\n\\n(Reporting By Yimou Lee; Writing by Anne Marie Roantree; Editing by Muralikumar Anantharaman)\n",
            "Tokenized:  ['he', 'said', 'his', 'plans', 'would', 'be', 'discussed', 'with', 'the', 'board', 'of', 'fox', '##con', '##n', ',', 'the', 'world', \"'\", 's', 'largest', 'contract', 'manufacturer', ',', 'formally', 'known', 'as', 'hon', 'hai', 'precision', 'industry', 'co', 'ltd', '.', 'fox', '##con', '##n', 'chairman', 'go', '##u', 'says', 'he', 'aims', 'to', 'step', 'down', 'in', 'coming', 'months', '##tai', '##pe', '##i', '(', 'reuters', ')', '-', 'the', 'chairman', 'of', 'taiwan', \"'\", 's', 'fox', '##con', '##n', ',', 'assemble', '##r', 'of', 'apple', 'inc', \"'\", 's', 'iphone', '##s', ',', 'told', 'reuters', 'on', 'monday', 'he', 'plans', 'to', 'step', 'down', 'in', 'the', 'coming', 'months', ',', 'saying', 'he', 'wants', 'to', 'pa', '##ve', 'the', 'way', 'for', 'younger', 'talent', 'to', 'move', 'up', 'the', 'ranks', 'of', 'the', 'company', '.', '\\\\', 'n', '\\\\', 'nt', '##erry', 'go', '##u', ',', 'speaking', 'on', 'the', 'side', '##lines', 'of', 'an', 'event', 'in', 'taipei', ',', 'said', 'that', 'while', 'he', 'planned', 'to', 'step', 'down', 'as', 'chairman', ',', 'he', 'hoped', 'to', 'remain', 'involved', 'in', 'strategic', 'decisions', 'regarding', 'the', 'company', \"'\", 's', 'business', '.', '\\\\', 'n', '\\\\', 'nh', '##e', 'said', 'his', 'plans', 'would', 'be', 'discussed', 'with', 'the', 'board', 'of', 'fox', '##con', '##n', ',', 'the', 'world', \"'\", 's', 'largest', 'contract', 'manufacturer', ',', 'formally', 'known', 'as', 'hon', 'hai', 'precision', 'industry', 'co', 'ltd', '.', '\\\\', 'n', '\\\\', 'n', '(', 'reporting', 'by', 'yi', '##mo', '##u', 'lee', ';', 'writing', 'by', 'anne', 'marie', 'ro', '##ant', '##ree', ';', 'editing', 'by', 'mural', '##ik', '##uma', '##r', 'ana', '##nt', '##hara', '##man', ')']\n",
            "Token IDs:  [2002, 2056, 2010, 3488, 2052, 2022, 6936, 2007, 1996, 2604, 1997, 4419, 8663, 2078, 1010, 1996, 2088, 1005, 1055, 2922, 3206, 7751, 1010, 6246, 2124, 2004, 10189, 15030, 11718, 3068, 2522, 5183, 1012, 4419, 8663, 2078, 3472, 2175, 2226, 2758, 2002, 8704, 2000, 3357, 2091, 1999, 2746, 2706, 15444, 5051, 2072, 1006, 26665, 1007, 1011, 1996, 3472, 1997, 6629, 1005, 1055, 4419, 8663, 2078, 1010, 21365, 2099, 1997, 6207, 4297, 1005, 1055, 18059, 2015, 1010, 2409, 26665, 2006, 6928, 2002, 3488, 2000, 3357, 2091, 1999, 1996, 2746, 2706, 1010, 3038, 2002, 4122, 2000, 6643, 3726, 1996, 2126, 2005, 3920, 5848, 2000, 2693, 2039, 1996, 6938, 1997, 1996, 2194, 1012, 1032, 1050, 1032, 23961, 19826, 2175, 2226, 1010, 4092, 2006, 1996, 2217, 12735, 1997, 2019, 2724, 1999, 14004, 1010, 2056, 2008, 2096, 2002, 3740, 2000, 3357, 2091, 2004, 3472, 1010, 2002, 5113, 2000, 3961, 2920, 1999, 6143, 6567, 4953, 1996, 2194, 1005, 1055, 2449, 1012, 1032, 1050, 1032, 18699, 2063, 2056, 2010, 3488, 2052, 2022, 6936, 2007, 1996, 2604, 1997, 4419, 8663, 2078, 1010, 1996, 2088, 1005, 1055, 2922, 3206, 7751, 1010, 6246, 2124, 2004, 10189, 15030, 11718, 3068, 2522, 5183, 1012, 1032, 1050, 1032, 1050, 1006, 7316, 2011, 12316, 5302, 2226, 3389, 1025, 3015, 2011, 4776, 5032, 20996, 4630, 9910, 1025, 9260, 2011, 15533, 5480, 12248, 2099, 9617, 3372, 11077, 2386, 1007]\n"
          ],
          "name": "stdout"
        }
      ]
    },
    {
      "cell_type": "code",
      "metadata": {
        "id": "3YxNQMytTnG8"
      },
      "source": [
        "# max_len = 0\n",
        "\n",
        "# for sent in sentences:\n",
        "#     # Tokenize the text and add `[CLS]` and `[SEP]` tokens.\n",
        "#     input_ids = tokenizer.encode(sent, add_special_tokens=True)\n",
        "#     # Update the maximum sentence length.\n",
        "#     max_len = max(max_len, len(input_ids))\n",
        "\n",
        "# print('Max sentence length: ', max_len)"
      ],
      "execution_count": null,
      "outputs": []
    },
    {
      "cell_type": "markdown",
      "metadata": {
        "id": "lpQGqZFLUtQi"
      },
      "source": [
        "**Visualize the length of various text sentences**"
      ]
    },
    {
      "cell_type": "code",
      "metadata": {
        "id": "QsUMq2RPUwM-",
        "outputId": "2708f773-1269-45e8-8e7c-febf47b52a3a",
        "colab": {
          "base_uri": "https://localhost:8080/",
          "height": 286
        }
      },
      "source": [
        "seq_len = [len(i.split()) for i in sentences]\n",
        "pd.Series(seq_len).hist(bins = 30)"
      ],
      "execution_count": null,
      "outputs": [
        {
          "output_type": "execute_result",
          "data": {
            "text/plain": [
              "<matplotlib.axes._subplots.AxesSubplot at 0x7f3efdfc39e8>"
            ]
          },
          "metadata": {
            "tags": []
          },
          "execution_count": 8
        },
        {
          "output_type": "display_data",
          "data": {
            "image/png": "[encoded data removed]",
            "text/plain": [
              "<Figure size 432x288 with 1 Axes>"
            ]
          },
          "metadata": {
            "tags": [],
            "needs_background": "light"
          }
        }
      ]
    },
    {
      "cell_type": "markdown",
      "metadata": {
        "id": "P3mAlJAtU2lR"
      },
      "source": [
        "**Tokenization**"
      ]
    },
    {
      "cell_type": "code",
      "metadata": {
        "id": "LMW4iqq6T0Ex",
        "outputId": "bcf5b1a6-6ff6-44dc-ac8b-3b96302fa04b",
        "colab": {
          "base_uri": "https://localhost:8080/",
          "height": 972
        }
      },
      "source": [
        "input_ids = []\n",
        "attention_masks = []\n",
        "import logging\n",
        "\n",
        "# logging.getLogger(\"pytorch_pretrained_bert.tokenization\").setLevel(logging.ERROR)\n",
        "\n",
        "# For every sentence...\n",
        "for sent in sentences:\n",
        "    encoded_dict = tokenizer.encode_plus(\n",
        "                        sent,\n",
        "                        add_special_tokens = True,\n",
        "                        max_length = 512,    \n",
        "                        pad_to_max_length = True,\n",
        "                        return_attention_mask = True, \n",
        "                        return_tensors = 'pt',\n",
        "                        truncation=True\n",
        "                   )\n",
        "   \n",
        "    input_ids.append(encoded_dict['input_ids'])\n",
        "\n",
        "    attention_masks.append(encoded_dict['attention_mask'])\n",
        "\n",
        "input_ids = torch.cat(input_ids, dim=0)\n",
        "attention_masks = torch.cat(attention_masks, dim=0)\n",
        "labels = torch.tensor(labels)\n",
        "\n",
        "print('Original: ', sentences[0])\n",
        "print('Token IDs:', input_ids[0])"
      ],
      "execution_count": null,
      "outputs": [
        {
          "output_type": "stream",
          "text": [
            "/usr/local/lib/python3.6/dist-packages/transformers/tokenization_utils_base.py:1773: FutureWarning: The `pad_to_max_length` argument is deprecated and will be removed in a future version, use `padding=True` or `padding='longest'` to pad to the longest sequence in the batch, or use `padding='max_length'` to pad to a max length. In this case, you can give a specific length with `max_length` (e.g. `max_length=45`) or leave max_length to None to pad to the maximal input size of the model (e.g. 512 for Bert).\n",
            "  FutureWarning,\n"
          ],
          "name": "stderr"
        },
        {
          "output_type": "stream",
          "text": [
            "Original:  He said his plans would be discussed with the board of Foxconn, the world's largest contract manufacturer, formally known as Hon Hai Precision Industry Co Ltd.Foxconn chairman Gou says he aims to step down in coming monthsTAIPEI (Reuters) - The chairman of Taiwan's Foxconn, assembler of Apple Inc's iPhones, told Reuters on Monday he plans to step down in the coming months, saying he wants to pave the way for younger talent to move up the ranks of the company.\\n\\nTerry Gou, speaking on the sidelines of an event in Taipei, said that while he planned to step down as chairman, he hoped to remain involved in strategic decisions regarding the company's business.\\n\\nHe said his plans would be discussed with the board of Foxconn, the world's largest contract manufacturer, formally known as Hon Hai Precision Industry Co Ltd.\\n\\n(Reporting By Yimou Lee; Writing by Anne Marie Roantree; Editing by Muralikumar Anantharaman)\n",
            "Token IDs: tensor([  101,  2002,  2056,  2010,  3488,  2052,  2022,  6936,  2007,  1996,\n",
            "         2604,  1997,  4419,  8663,  2078,  1010,  1996,  2088,  1005,  1055,\n",
            "         2922,  3206,  7751,  1010,  6246,  2124,  2004, 10189, 15030, 11718,\n",
            "         3068,  2522,  5183,  1012,  4419,  8663,  2078,  3472,  2175,  2226,\n",
            "         2758,  2002,  8704,  2000,  3357,  2091,  1999,  2746,  2706, 15444,\n",
            "         5051,  2072,  1006, 26665,  1007,  1011,  1996,  3472,  1997,  6629,\n",
            "         1005,  1055,  4419,  8663,  2078,  1010, 21365,  2099,  1997,  6207,\n",
            "         4297,  1005,  1055, 18059,  2015,  1010,  2409, 26665,  2006,  6928,\n",
            "         2002,  3488,  2000,  3357,  2091,  1999,  1996,  2746,  2706,  1010,\n",
            "         3038,  2002,  4122,  2000,  6643,  3726,  1996,  2126,  2005,  3920,\n",
            "         5848,  2000,  2693,  2039,  1996,  6938,  1997,  1996,  2194,  1012,\n",
            "         1032,  1050,  1032, 23961, 19826,  2175,  2226,  1010,  4092,  2006,\n",
            "         1996,  2217, 12735,  1997,  2019,  2724,  1999, 14004,  1010,  2056,\n",
            "         2008,  2096,  2002,  3740,  2000,  3357,  2091,  2004,  3472,  1010,\n",
            "         2002,  5113,  2000,  3961,  2920,  1999,  6143,  6567,  4953,  1996,\n",
            "         2194,  1005,  1055,  2449,  1012,  1032,  1050,  1032, 18699,  2063,\n",
            "         2056,  2010,  3488,  2052,  2022,  6936,  2007,  1996,  2604,  1997,\n",
            "         4419,  8663,  2078,  1010,  1996,  2088,  1005,  1055,  2922,  3206,\n",
            "         7751,  1010,  6246,  2124,  2004, 10189, 15030, 11718,  3068,  2522,\n",
            "         5183,  1012,  1032,  1050,  1032,  1050,  1006,  7316,  2011, 12316,\n",
            "         5302,  2226,  3389,  1025,  3015,  2011,  4776,  5032, 20996,  4630,\n",
            "         9910,  1025,  9260,  2011, 15533,  5480, 12248,  2099,  9617,  3372,\n",
            "        11077,  2386,  1007,   102,     0,     0,     0,     0,     0,     0,\n",
            "            0,     0,     0,     0,     0,     0,     0,     0,     0,     0,\n",
            "            0,     0,     0,     0,     0,     0,     0,     0,     0,     0,\n",
            "            0,     0,     0,     0,     0,     0,     0,     0,     0,     0,\n",
            "            0,     0,     0,     0,     0,     0,     0,     0,     0,     0,\n",
            "            0,     0,     0,     0,     0,     0,     0,     0,     0,     0,\n",
            "            0,     0,     0,     0,     0,     0,     0,     0,     0,     0,\n",
            "            0,     0,     0,     0,     0,     0,     0,     0,     0,     0,\n",
            "            0,     0,     0,     0,     0,     0,     0,     0,     0,     0,\n",
            "            0,     0,     0,     0,     0,     0,     0,     0,     0,     0,\n",
            "            0,     0,     0,     0,     0,     0,     0,     0,     0,     0,\n",
            "            0,     0,     0,     0,     0,     0,     0,     0,     0,     0,\n",
            "            0,     0,     0,     0,     0,     0,     0,     0,     0,     0,\n",
            "            0,     0,     0,     0,     0,     0,     0,     0,     0,     0,\n",
            "            0,     0,     0,     0,     0,     0,     0,     0,     0,     0,\n",
            "            0,     0,     0,     0,     0,     0,     0,     0,     0,     0,\n",
            "            0,     0,     0,     0,     0,     0,     0,     0,     0,     0,\n",
            "            0,     0,     0,     0,     0,     0,     0,     0,     0,     0,\n",
            "            0,     0,     0,     0,     0,     0,     0,     0,     0,     0,\n",
            "            0,     0,     0,     0,     0,     0,     0,     0,     0,     0,\n",
            "            0,     0,     0,     0,     0,     0,     0,     0,     0,     0,\n",
            "            0,     0,     0,     0,     0,     0,     0,     0,     0,     0,\n",
            "            0,     0,     0,     0,     0,     0,     0,     0,     0,     0,\n",
            "            0,     0,     0,     0,     0,     0,     0,     0,     0,     0,\n",
            "            0,     0,     0,     0,     0,     0,     0,     0,     0,     0,\n",
            "            0,     0,     0,     0,     0,     0,     0,     0,     0,     0,\n",
            "            0,     0,     0,     0,     0,     0,     0,     0,     0,     0,\n",
            "            0,     0,     0,     0,     0,     0,     0,     0,     0,     0,\n",
            "            0,     0,     0,     0,     0,     0,     0,     0,     0,     0,\n",
            "            0,     0])\n"
          ],
          "name": "stdout"
        }
      ]
    },
    {
      "cell_type": "markdown",
      "metadata": {
        "id": "W-Kp8ByIVE4O"
      },
      "source": [
        "**Do train and validation Split**"
      ]
    },
    {
      "cell_type": "code",
      "metadata": {
        "id": "Y7SI5nIUT-3E",
        "outputId": "7f89e145-84f6-4905-e5e8-8e91f4cc17b0",
        "colab": {
          "base_uri": "https://localhost:8080/",
          "height": 51
        }
      },
      "source": [
        "from torch.utils.data import TensorDataset, random_split\n",
        "\n",
        "dataset = TensorDataset(input_ids, attention_masks, labels)\n",
        "\n",
        "train_size = int(0.9 * len(dataset))\n",
        "val_size = len(dataset) - train_size\n",
        "\n",
        "train_dataset, val_dataset = random_split(dataset, [train_size, val_size])\n",
        "\n",
        "print('{:>5,} training samples'.format(train_size))\n",
        "print('{:>5,} validation samples'.format(val_size))"
      ],
      "execution_count": null,
      "outputs": [
        {
          "output_type": "stream",
          "text": [
            "4,581 training samples\n",
            "  510 validation samples\n"
          ],
          "name": "stdout"
        }
      ]
    },
    {
      "cell_type": "markdown",
      "metadata": {
        "id": "Q7tQnYnZVJX4"
      },
      "source": [
        "**Create train_dataloader and validation_dataloader for model training and evaluation**"
      ]
    },
    {
      "cell_type": "code",
      "metadata": {
        "id": "XgfdeG_oUBTn"
      },
      "source": [
        "from torch.utils.data import DataLoader, RandomSampler, SequentialSampler\n",
        "\n",
        "batch_size = 8\n",
        "\n",
        "train_dataloader = DataLoader(\n",
        "            train_dataset,\n",
        "            sampler = RandomSampler(train_dataset),\n",
        "            batch_size = batch_size\n",
        "        )\n",
        "\n",
        "\n",
        "validation_dataloader = DataLoader(\n",
        "            val_dataset,\n",
        "            sampler = SequentialSampler(val_dataset),\n",
        "            batch_size = batch_size\n",
        "        )"
      ],
      "execution_count": null,
      "outputs": []
    },
    {
      "cell_type": "markdown",
      "metadata": {
        "id": "IxM99TVxVXH4"
      },
      "source": [
        "**get classification model, we gonna use BertForSequenceClassification class of BERT**"
      ]
    },
    {
      "cell_type": "code",
      "metadata": {
        "id": "itOQUaC8UHjc",
        "outputId": "a008e80f-4cef-4c9c-85c6-f2df58ba4712",
        "colab": {
          "base_uri": "https://localhost:8080/",
          "height": 1000,
          "referenced_widgets": [
            "3130ef17fae54ca68b955f4da6407fac",
            "cc396334c9e74796987df4b9881734e3",
            "8888c41a9cca437e87f79f5e84108a53",
            "ead3eb8e726a4ee79ec549fae3ab6b77",
            "5b4426abf49c42cfb0b8e9a2aa3983f3",
            "d6b0fc44c0b44eeaa24074a0d210b6a2",
            "a82cb63caa9e460ca76217ba475b08a5",
            "8abccf3becf249e3ad5752b84b420011",
            "04341563a8e845229784544975a98fe6",
            "885b77167257483da3f7951118caac8a",
            "50d9a739eab947a4ac25926056c0c9b1",
            "1c28d99362314ca1844992b853cf2b1a",
            "7850e858dc50455b8b914889a93f18f0",
            "641703ee972542c5887293aa7b8852d7",
            "352677ff19f04c70b6345a8b3cfb69b2",
            "d232ef7253f949069dd20087e640c901"
          ]
        }
      },
      "source": [
        "from transformers import BertForSequenceClassification, AdamW, BertConfig\n",
        "\n",
        "model = BertForSequenceClassification.from_pretrained(\n",
        "    \"bert-base-uncased\", \n",
        "    num_labels = 7,\n",
        "                       \n",
        "    output_attentions = False, \n",
        "    output_hidden_states = False\n",
        ")\n",
        "\n",
        "# Tell pytorch to run this model on the GPU.\n",
        "model.cuda()"
      ],
      "execution_count": null,
      "outputs": [
        {
          "output_type": "display_data",
          "data": {
            "application/vnd.jupyter.widget-view+json": {
              "model_id": "3130ef17fae54ca68b955f4da6407fac",
              "version_minor": 0,
              "version_major": 2
            },
            "text/plain": [
              "HBox(children=(FloatProgress(value=0.0, description='Downloading', max=433.0, style=ProgressStyle(description_…"
            ]
          },
          "metadata": {
            "tags": []
          }
        },
        {
          "output_type": "stream",
          "text": [
            "\n"
          ],
          "name": "stdout"
        },
        {
          "output_type": "display_data",
          "data": {
            "application/vnd.jupyter.widget-view+json": {
              "model_id": "04341563a8e845229784544975a98fe6",
              "version_minor": 0,
              "version_major": 2
            },
            "text/plain": [
              "HBox(children=(FloatProgress(value=0.0, description='Downloading', max=440473133.0, style=ProgressStyle(descri…"
            ]
          },
          "metadata": {
            "tags": []
          }
        },
        {
          "output_type": "stream",
          "text": [
            "\n"
          ],
          "name": "stdout"
        },
        {
          "output_type": "stream",
          "text": [
            "Some weights of the model checkpoint at bert-base-uncased were not used when initializing BertForSequenceClassification: ['cls.predictions.bias', 'cls.predictions.transform.dense.weight', 'cls.predictions.transform.dense.bias', 'cls.predictions.decoder.weight', 'cls.seq_relationship.weight', 'cls.seq_relationship.bias', 'cls.predictions.transform.LayerNorm.weight', 'cls.predictions.transform.LayerNorm.bias']\n",
            "- This IS expected if you are initializing BertForSequenceClassification from the checkpoint of a model trained on another task or with another architecture (e.g. initializing a BertForSequenceClassification model from a BertForPretraining model).\n",
            "- This IS NOT expected if you are initializing BertForSequenceClassification from the checkpoint of a model that you expect to be exactly identical (initializing a BertForSequenceClassification model from a BertForSequenceClassification model).\n",
            "Some weights of BertForSequenceClassification were not initialized from the model checkpoint at bert-base-uncased and are newly initialized: ['classifier.weight', 'classifier.bias']\n",
            "You should probably TRAIN this model on a down-stream task to be able to use it for predictions and inference.\n"
          ],
          "name": "stderr"
        },
        {
          "output_type": "execute_result",
          "data": {
            "text/plain": [
              "BertForSequenceClassification(\n",
              "  (bert): BertModel(\n",
              "    (embeddings): BertEmbeddings(\n",
              "      (word_embeddings): Embedding(30522, 768, padding_idx=0)\n",
              "      (position_embeddings): Embedding(512, 768)\n",
              "      (token_type_embeddings): Embedding(2, 768)\n",
              "      (LayerNorm): LayerNorm((768,), eps=1e-12, elementwise_affine=True)\n",
              "      (dropout): Dropout(p=0.1, inplace=False)\n",
              "    )\n",
              "    (encoder): BertEncoder(\n",
              "      (layer): ModuleList(\n",
              "        (0): BertLayer(\n",
              "          (attention): BertAttention(\n",
              "            (self): BertSelfAttention(\n",
              "              (query): Linear(in_features=768, out_features=768, bias=True)\n",
              "              (key): Linear(in_features=768, out_features=768, bias=True)\n",
              "              (value): Linear(in_features=768, out_features=768, bias=True)\n",
              "              (dropout): Dropout(p=0.1, inplace=False)\n",
              "            )\n",
              "            (output): BertSelfOutput(\n",
              "              (dense): Linear(in_features=768, out_features=768, bias=True)\n",
              "              (LayerNorm): LayerNorm((768,), eps=1e-12, elementwise_affine=True)\n",
              "              (dropout): Dropout(p=0.1, inplace=False)\n",
              "            )\n",
              "          )\n",
              "          (intermediate): BertIntermediate(\n",
              "            (dense): Linear(in_features=768, out_features=3072, bias=True)\n",
              "          )\n",
              "          (output): BertOutput(\n",
              "            (dense): Linear(in_features=3072, out_features=768, bias=True)\n",
              "            (LayerNorm): LayerNorm((768,), eps=1e-12, elementwise_affine=True)\n",
              "            (dropout): Dropout(p=0.1, inplace=False)\n",
              "          )\n",
              "        )\n",
              "        (1): BertLayer(\n",
              "          (attention): BertAttention(\n",
              "            (self): BertSelfAttention(\n",
              "              (query): Linear(in_features=768, out_features=768, bias=True)\n",
              "              (key): Linear(in_features=768, out_features=768, bias=True)\n",
              "              (value): Linear(in_features=768, out_features=768, bias=True)\n",
              "              (dropout): Dropout(p=0.1, inplace=False)\n",
              "            )\n",
              "            (output): BertSelfOutput(\n",
              "              (dense): Linear(in_features=768, out_features=768, bias=True)\n",
              "              (LayerNorm): LayerNorm((768,), eps=1e-12, elementwise_affine=True)\n",
              "              (dropout): Dropout(p=0.1, inplace=False)\n",
              "            )\n",
              "          )\n",
              "          (intermediate): BertIntermediate(\n",
              "            (dense): Linear(in_features=768, out_features=3072, bias=True)\n",
              "          )\n",
              "          (output): BertOutput(\n",
              "            (dense): Linear(in_features=3072, out_features=768, bias=True)\n",
              "            (LayerNorm): LayerNorm((768,), eps=1e-12, elementwise_affine=True)\n",
              "            (dropout): Dropout(p=0.1, inplace=False)\n",
              "          )\n",
              "        )\n",
              "        (2): BertLayer(\n",
              "          (attention): BertAttention(\n",
              "            (self): BertSelfAttention(\n",
              "              (query): Linear(in_features=768, out_features=768, bias=True)\n",
              "              (key): Linear(in_features=768, out_features=768, bias=True)\n",
              "              (value): Linear(in_features=768, out_features=768, bias=True)\n",
              "              (dropout): Dropout(p=0.1, inplace=False)\n",
              "            )\n",
              "            (output): BertSelfOutput(\n",
              "              (dense): Linear(in_features=768, out_features=768, bias=True)\n",
              "              (LayerNorm): LayerNorm((768,), eps=1e-12, elementwise_affine=True)\n",
              "              (dropout): Dropout(p=0.1, inplace=False)\n",
              "            )\n",
              "          )\n",
              "          (intermediate): BertIntermediate(\n",
              "            (dense): Linear(in_features=768, out_features=3072, bias=True)\n",
              "          )\n",
              "          (output): BertOutput(\n",
              "            (dense): Linear(in_features=3072, out_features=768, bias=True)\n",
              "            (LayerNorm): LayerNorm((768,), eps=1e-12, elementwise_affine=True)\n",
              "            (dropout): Dropout(p=0.1, inplace=False)\n",
              "          )\n",
              "        )\n",
              "        (3): BertLayer(\n",
              "          (attention): BertAttention(\n",
              "            (self): BertSelfAttention(\n",
              "              (query): Linear(in_features=768, out_features=768, bias=True)\n",
              "              (key): Linear(in_features=768, out_features=768, bias=True)\n",
              "              (value): Linear(in_features=768, out_features=768, bias=True)\n",
              "              (dropout): Dropout(p=0.1, inplace=False)\n",
              "            )\n",
              "            (output): BertSelfOutput(\n",
              "              (dense): Linear(in_features=768, out_features=768, bias=True)\n",
              "              (LayerNorm): LayerNorm((768,), eps=1e-12, elementwise_affine=True)\n",
              "              (dropout): Dropout(p=0.1, inplace=False)\n",
              "            )\n",
              "          )\n",
              "          (intermediate): BertIntermediate(\n",
              "            (dense): Linear(in_features=768, out_features=3072, bias=True)\n",
              "          )\n",
              "          (output): BertOutput(\n",
              "            (dense): Linear(in_features=3072, out_features=768, bias=True)\n",
              "            (LayerNorm): LayerNorm((768,), eps=1e-12, elementwise_affine=True)\n",
              "            (dropout): Dropout(p=0.1, inplace=False)\n",
              "          )\n",
              "        )\n",
              "        (4): BertLayer(\n",
              "          (attention): BertAttention(\n",
              "            (self): BertSelfAttention(\n",
              "              (query): Linear(in_features=768, out_features=768, bias=True)\n",
              "              (key): Linear(in_features=768, out_features=768, bias=True)\n",
              "              (value): Linear(in_features=768, out_features=768, bias=True)\n",
              "              (dropout): Dropout(p=0.1, inplace=False)\n",
              "            )\n",
              "            (output): BertSelfOutput(\n",
              "              (dense): Linear(in_features=768, out_features=768, bias=True)\n",
              "              (LayerNorm): LayerNorm((768,), eps=1e-12, elementwise_affine=True)\n",
              "              (dropout): Dropout(p=0.1, inplace=False)\n",
              "            )\n",
              "          )\n",
              "          (intermediate): BertIntermediate(\n",
              "            (dense): Linear(in_features=768, out_features=3072, bias=True)\n",
              "          )\n",
              "          (output): BertOutput(\n",
              "            (dense): Linear(in_features=3072, out_features=768, bias=True)\n",
              "            (LayerNorm): LayerNorm((768,), eps=1e-12, elementwise_affine=True)\n",
              "            (dropout): Dropout(p=0.1, inplace=False)\n",
              "          )\n",
              "        )\n",
              "        (5): BertLayer(\n",
              "          (attention): BertAttention(\n",
              "            (self): BertSelfAttention(\n",
              "              (query): Linear(in_features=768, out_features=768, bias=True)\n",
              "              (key): Linear(in_features=768, out_features=768, bias=True)\n",
              "              (value): Linear(in_features=768, out_features=768, bias=True)\n",
              "              (dropout): Dropout(p=0.1, inplace=False)\n",
              "            )\n",
              "            (output): BertSelfOutput(\n",
              "              (dense): Linear(in_features=768, out_features=768, bias=True)\n",
              "              (LayerNorm): LayerNorm((768,), eps=1e-12, elementwise_affine=True)\n",
              "              (dropout): Dropout(p=0.1, inplace=False)\n",
              "            )\n",
              "          )\n",
              "          (intermediate): BertIntermediate(\n",
              "            (dense): Linear(in_features=768, out_features=3072, bias=True)\n",
              "          )\n",
              "          (output): BertOutput(\n",
              "            (dense): Linear(in_features=3072, out_features=768, bias=True)\n",
              "            (LayerNorm): LayerNorm((768,), eps=1e-12, elementwise_affine=True)\n",
              "            (dropout): Dropout(p=0.1, inplace=False)\n",
              "          )\n",
              "        )\n",
              "        (6): BertLayer(\n",
              "          (attention): BertAttention(\n",
              "            (self): BertSelfAttention(\n",
              "              (query): Linear(in_features=768, out_features=768, bias=True)\n",
              "              (key): Linear(in_features=768, out_features=768, bias=True)\n",
              "              (value): Linear(in_features=768, out_features=768, bias=True)\n",
              "              (dropout): Dropout(p=0.1, inplace=False)\n",
              "            )\n",
              "            (output): BertSelfOutput(\n",
              "              (dense): Linear(in_features=768, out_features=768, bias=True)\n",
              "              (LayerNorm): LayerNorm((768,), eps=1e-12, elementwise_affine=True)\n",
              "              (dropout): Dropout(p=0.1, inplace=False)\n",
              "            )\n",
              "          )\n",
              "          (intermediate): BertIntermediate(\n",
              "            (dense): Linear(in_features=768, out_features=3072, bias=True)\n",
              "          )\n",
              "          (output): BertOutput(\n",
              "            (dense): Linear(in_features=3072, out_features=768, bias=True)\n",
              "            (LayerNorm): LayerNorm((768,), eps=1e-12, elementwise_affine=True)\n",
              "            (dropout): Dropout(p=0.1, inplace=False)\n",
              "          )\n",
              "        )\n",
              "        (7): BertLayer(\n",
              "          (attention): BertAttention(\n",
              "            (self): BertSelfAttention(\n",
              "              (query): Linear(in_features=768, out_features=768, bias=True)\n",
              "              (key): Linear(in_features=768, out_features=768, bias=True)\n",
              "              (value): Linear(in_features=768, out_features=768, bias=True)\n",
              "              (dropout): Dropout(p=0.1, inplace=False)\n",
              "            )\n",
              "            (output): BertSelfOutput(\n",
              "              (dense): Linear(in_features=768, out_features=768, bias=True)\n",
              "              (LayerNorm): LayerNorm((768,), eps=1e-12, elementwise_affine=True)\n",
              "              (dropout): Dropout(p=0.1, inplace=False)\n",
              "            )\n",
              "          )\n",
              "          (intermediate): BertIntermediate(\n",
              "            (dense): Linear(in_features=768, out_features=3072, bias=True)\n",
              "          )\n",
              "          (output): BertOutput(\n",
              "            (dense): Linear(in_features=3072, out_features=768, bias=True)\n",
              "            (LayerNorm): LayerNorm((768,), eps=1e-12, elementwise_affine=True)\n",
              "            (dropout): Dropout(p=0.1, inplace=False)\n",
              "          )\n",
              "        )\n",
              "        (8): BertLayer(\n",
              "          (attention): BertAttention(\n",
              "            (self): BertSelfAttention(\n",
              "              (query): Linear(in_features=768, out_features=768, bias=True)\n",
              "              (key): Linear(in_features=768, out_features=768, bias=True)\n",
              "              (value): Linear(in_features=768, out_features=768, bias=True)\n",
              "              (dropout): Dropout(p=0.1, inplace=False)\n",
              "            )\n",
              "            (output): BertSelfOutput(\n",
              "              (dense): Linear(in_features=768, out_features=768, bias=True)\n",
              "              (LayerNorm): LayerNorm((768,), eps=1e-12, elementwise_affine=True)\n",
              "              (dropout): Dropout(p=0.1, inplace=False)\n",
              "            )\n",
              "          )\n",
              "          (intermediate): BertIntermediate(\n",
              "            (dense): Linear(in_features=768, out_features=3072, bias=True)\n",
              "          )\n",
              "          (output): BertOutput(\n",
              "            (dense): Linear(in_features=3072, out_features=768, bias=True)\n",
              "            (LayerNorm): LayerNorm((768,), eps=1e-12, elementwise_affine=True)\n",
              "            (dropout): Dropout(p=0.1, inplace=False)\n",
              "          )\n",
              "        )\n",
              "        (9): BertLayer(\n",
              "          (attention): BertAttention(\n",
              "            (self): BertSelfAttention(\n",
              "              (query): Linear(in_features=768, out_features=768, bias=True)\n",
              "              (key): Linear(in_features=768, out_features=768, bias=True)\n",
              "              (value): Linear(in_features=768, out_features=768, bias=True)\n",
              "              (dropout): Dropout(p=0.1, inplace=False)\n",
              "            )\n",
              "            (output): BertSelfOutput(\n",
              "              (dense): Linear(in_features=768, out_features=768, bias=True)\n",
              "              (LayerNorm): LayerNorm((768,), eps=1e-12, elementwise_affine=True)\n",
              "              (dropout): Dropout(p=0.1, inplace=False)\n",
              "            )\n",
              "          )\n",
              "          (intermediate): BertIntermediate(\n",
              "            (dense): Linear(in_features=768, out_features=3072, bias=True)\n",
              "          )\n",
              "          (output): BertOutput(\n",
              "            (dense): Linear(in_features=3072, out_features=768, bias=True)\n",
              "            (LayerNorm): LayerNorm((768,), eps=1e-12, elementwise_affine=True)\n",
              "            (dropout): Dropout(p=0.1, inplace=False)\n",
              "          )\n",
              "        )\n",
              "        (10): BertLayer(\n",
              "          (attention): BertAttention(\n",
              "            (self): BertSelfAttention(\n",
              "              (query): Linear(in_features=768, out_features=768, bias=True)\n",
              "              (key): Linear(in_features=768, out_features=768, bias=True)\n",
              "              (value): Linear(in_features=768, out_features=768, bias=True)\n",
              "              (dropout): Dropout(p=0.1, inplace=False)\n",
              "            )\n",
              "            (output): BertSelfOutput(\n",
              "              (dense): Linear(in_features=768, out_features=768, bias=True)\n",
              "              (LayerNorm): LayerNorm((768,), eps=1e-12, elementwise_affine=True)\n",
              "              (dropout): Dropout(p=0.1, inplace=False)\n",
              "            )\n",
              "          )\n",
              "          (intermediate): BertIntermediate(\n",
              "            (dense): Linear(in_features=768, out_features=3072, bias=True)\n",
              "          )\n",
              "          (output): BertOutput(\n",
              "            (dense): Linear(in_features=3072, out_features=768, bias=True)\n",
              "            (LayerNorm): LayerNorm((768,), eps=1e-12, elementwise_affine=True)\n",
              "            (dropout): Dropout(p=0.1, inplace=False)\n",
              "          )\n",
              "        )\n",
              "        (11): BertLayer(\n",
              "          (attention): BertAttention(\n",
              "            (self): BertSelfAttention(\n",
              "              (query): Linear(in_features=768, out_features=768, bias=True)\n",
              "              (key): Linear(in_features=768, out_features=768, bias=True)\n",
              "              (value): Linear(in_features=768, out_features=768, bias=True)\n",
              "              (dropout): Dropout(p=0.1, inplace=False)\n",
              "            )\n",
              "            (output): BertSelfOutput(\n",
              "              (dense): Linear(in_features=768, out_features=768, bias=True)\n",
              "              (LayerNorm): LayerNorm((768,), eps=1e-12, elementwise_affine=True)\n",
              "              (dropout): Dropout(p=0.1, inplace=False)\n",
              "            )\n",
              "          )\n",
              "          (intermediate): BertIntermediate(\n",
              "            (dense): Linear(in_features=768, out_features=3072, bias=True)\n",
              "          )\n",
              "          (output): BertOutput(\n",
              "            (dense): Linear(in_features=3072, out_features=768, bias=True)\n",
              "            (LayerNorm): LayerNorm((768,), eps=1e-12, elementwise_affine=True)\n",
              "            (dropout): Dropout(p=0.1, inplace=False)\n",
              "          )\n",
              "        )\n",
              "      )\n",
              "    )\n",
              "    (pooler): BertPooler(\n",
              "      (dense): Linear(in_features=768, out_features=768, bias=True)\n",
              "      (activation): Tanh()\n",
              "    )\n",
              "  )\n",
              "  (dropout): Dropout(p=0.1, inplace=False)\n",
              "  (classifier): Linear(in_features=768, out_features=7, bias=True)\n",
              ")"
            ]
          },
          "metadata": {
            "tags": []
          },
          "execution_count": 12
        }
      ]
    },
    {
      "cell_type": "markdown",
      "metadata": {
        "id": "tnwNaAmRVq9S"
      },
      "source": [
        "**Optimizer and Learning rate scheduler**"
      ]
    },
    {
      "cell_type": "code",
      "metadata": {
        "id": "17SZFEe0UjBk"
      },
      "source": [
        "optimizer = AdamW(model.parameters(), lr = 2e-5, eps = 1e-8 )\n",
        "from transformers import get_linear_schedule_with_warmup\n",
        "\n",
        "epochs = 3\n",
        "\n",
        "total_steps = len(train_dataloader) * epochs\n",
        "\n",
        "scheduler = get_linear_schedule_with_warmup(optimizer, \n",
        "                                            num_warmup_steps = 0,\n",
        "                                            num_training_steps = total_steps)"
      ],
      "execution_count": null,
      "outputs": []
    },
    {
      "cell_type": "markdown",
      "metadata": {
        "id": "yACC_7LKF3TR"
      },
      "source": [
        "**Define function to calculate accuracy**"
      ]
    },
    {
      "cell_type": "code",
      "metadata": {
        "id": "o4jAGsdDUqSH"
      },
      "source": [
        "import numpy as np\n",
        "\n",
        "def accuracy(preds, labels):\n",
        "    pred_flat = np.argmax(preds, axis=1).flatten()\n",
        "    labels_flat = labels.flatten()\n",
        "    return np.sum(pred_flat == labels_flat) / len(labels_flat)"
      ],
      "execution_count": null,
      "outputs": []
    },
    {
      "cell_type": "markdown",
      "metadata": {
        "id": "dZm1OH1bF-7Y"
      },
      "source": [
        "**Define a function to format the time taken in traing steps**"
      ]
    },
    {
      "cell_type": "code",
      "metadata": {
        "id": "RNJieag8Uuhd"
      },
      "source": [
        "import time\n",
        "import datetime\n",
        "\n",
        "def format_time(elapsed):\n",
        "    elapsed_rounded = int(round((elapsed)))\n",
        "    return str(datetime.timedelta(seconds=elapsed_rounded))"
      ],
      "execution_count": null,
      "outputs": []
    },
    {
      "cell_type": "code",
      "metadata": {
        "id": "BSvNtXv5uPxq"
      },
      "source": [
        "torch.cuda.empty_cache()"
      ],
      "execution_count": null,
      "outputs": []
    },
    {
      "cell_type": "code",
      "metadata": {
        "id": "xY0dBi-qUz42",
        "outputId": "25dd3ffa-ec25-4272-b68e-343c9bd08826",
        "colab": {
          "base_uri": "https://localhost:8080/",
          "height": 1000
        }
      },
      "source": [
        "import random\n",
        "import numpy as np\n",
        "\n",
        "seed_val = 42\n",
        "\n",
        "random.seed(seed_val)\n",
        "np.random.seed(seed_val)\n",
        "torch.manual_seed(seed_val)\n",
        "torch.cuda.manual_seed_all(seed_val)\n",
        "\n",
        "training_stats = []\n",
        "\n",
        "total_t0 = time.time()\n",
        "\n",
        "# For each epoch...\n",
        "for epoch_i in range(0, epochs):\n",
        "    print(\"\")\n",
        "    print('======== Epoch {:} / {:} ========'.format(epoch_i + 1, epochs))\n",
        "    print('Training...')\n",
        "\n",
        "    t0 = time.time()\n",
        "    total_train_loss = 0\n",
        "    total_train_accuracy = 0\n",
        "\n",
        "    model.train()\n",
        "\n",
        "    for step, batch in enumerate(train_dataloader):\n",
        "\n",
        "        if step % 40 == 0 and not step == 0:\n",
        "            elapsed = format_time(time.time() - t0)\n",
        "            print('  Batch {:>5,}  of  {:>5,}.    Elapsed: {:}.'.format(step, len(train_dataloader), elapsed))\n",
        "\n",
        "        b_input_ids = batch[0].to(device)\n",
        "        b_input_mask = batch[1].to(device)\n",
        "        b_labels = batch[2].to(device)\n",
        "\n",
        "        model.zero_grad()        \n",
        "\n",
        "        loss, logits = model(b_input_ids, \n",
        "                             token_type_ids=None, \n",
        "                             attention_mask=b_input_mask, \n",
        "                             labels=b_labels)\n",
        "\n",
        "        logits = logits.detach().cpu().numpy()\n",
        "        label_ids = b_labels.to('cpu').numpy()\n",
        "\n",
        "        total_train_accuracy += accuracy(logits, label_ids)\n",
        "        total_train_loss += loss.item()\n",
        "\n",
        "        loss.backward()\n",
        "\n",
        "        torch.nn.utils.clip_grad_norm_(model.parameters(), 1.0)\n",
        "\n",
        "        optimizer.step()\n",
        "        scheduler.step()\n",
        "\n",
        "\n",
        "    avg_train_loss = total_train_loss / len(train_dataloader) \n",
        "    avg_train_accuracy = total_train_accuracy / len(train_dataloader)        \n",
        "\n",
        "    training_time = format_time(time.time() - t0)\n",
        "\n",
        "    print(\"\")\n",
        "    print(\"  Training Accuracy: {0:.2f}\".format(avg_train_accuracy))\n",
        "    print(\"  Average training loss: {0:.2f}\".format(avg_train_loss))\n",
        "    print(\"  Training epcoh took: {:}\".format(training_time))\n",
        "        \n",
        "\n",
        "    print(\"\")\n",
        "    print(\"Running Validation...\")\n",
        "\n",
        "    t0 = time.time()\n",
        "\n",
        "    model.eval()\n",
        "\n",
        "    # Tracking variables \n",
        "    total_eval_accuracy = 0\n",
        "    total_eval_loss = 0\n",
        "    nb_eval_steps = 0\n",
        "\n",
        "    # Evaluate data for one epoch\n",
        "    for batch in validation_dataloader:\n",
        "\n",
        "        b_input_ids = batch[0].to(device)\n",
        "        b_input_mask = batch[1].to(device)\n",
        "        b_labels = batch[2].to(device)\n",
        "        \n",
        "\n",
        "        with torch.no_grad():        \n",
        "\n",
        "            (loss, logits) = model(b_input_ids, \n",
        "                                   token_type_ids=None, \n",
        "                                   attention_mask=b_input_mask,\n",
        "                                   labels=b_labels)\n",
        "            \n",
        "        total_eval_loss += loss.item()\n",
        "\n",
        "        logits = logits.detach().cpu().numpy()\n",
        "        label_ids = b_labels.to('cpu').numpy()\n",
        "\n",
        "        total_eval_accuracy += accuracy(logits, label_ids)\n",
        "        \n",
        "\n",
        "    avg_val_accuracy = total_eval_accuracy / len(validation_dataloader)\n",
        "    print(\"  Accuracy: {0:.2f}\".format(avg_val_accuracy))\n",
        "\n",
        "    avg_val_loss = total_eval_loss / len(validation_dataloader)\n",
        "\n",
        "    validation_time = format_time(time.time() - t0)\n",
        "    \n",
        "    print(\"  Validation Loss: {0:.2f}\".format(avg_val_loss))\n",
        "    print(\"  Validation took: {:}\".format(validation_time))\n",
        "\n",
        "    training_stats.append(\n",
        "        {\n",
        "            'epoch': epoch_i + 1,\n",
        "            'Training Loss': avg_train_loss,\n",
        "            'Training Accuracy':avg_train_accuracy,\n",
        "            'Validation Loss': avg_val_loss,\n",
        "            'Validation Accuracy': avg_val_accuracy,\n",
        "            'Training Time': training_time,\n",
        "            'Validation Time': validation_time\n",
        "        }\n",
        "    )\n",
        "\n",
        "print(\"\")\n",
        "print(\"Training complete!\")\n",
        "\n",
        "print(\"Total training took {:} (h:mm:ss)\".format(format_time(time.time()-total_t0)))"
      ],
      "execution_count": null,
      "outputs": [
        {
          "output_type": "stream",
          "text": [
            "\n",
            "======== Epoch 1 / 3 ========\n",
            "Training...\n",
            "  Batch    40  of    573.    Elapsed: 0:00:19.\n",
            "  Batch    80  of    573.    Elapsed: 0:00:37.\n",
            "  Batch   120  of    573.    Elapsed: 0:00:55.\n",
            "  Batch   160  of    573.    Elapsed: 0:01:13.\n",
            "  Batch   200  of    573.    Elapsed: 0:01:31.\n",
            "  Batch   240  of    573.    Elapsed: 0:01:50.\n",
            "  Batch   280  of    573.    Elapsed: 0:02:08.\n",
            "  Batch   320  of    573.    Elapsed: 0:02:26.\n",
            "  Batch   360  of    573.    Elapsed: 0:02:44.\n",
            "  Batch   400  of    573.    Elapsed: 0:03:02.\n",
            "  Batch   440  of    573.    Elapsed: 0:03:20.\n",
            "  Batch   480  of    573.    Elapsed: 0:03:38.\n",
            "  Batch   520  of    573.    Elapsed: 0:03:56.\n",
            "  Batch   560  of    573.    Elapsed: 0:04:15.\n",
            "\n",
            "  Training Accuracy: 0.85\n",
            "  Average training loss: 0.51\n",
            "  Training epcoh took: 0:04:20\n",
            "\n",
            "Running Validation...\n",
            "  Accuracy: 0.96\n",
            "  Validation Loss: 0.19\n",
            "  Validation took: 0:00:09\n",
            "\n",
            "======== Epoch 2 / 3 ========\n",
            "Training...\n",
            "  Batch    40  of    573.    Elapsed: 0:00:18.\n",
            "  Batch    80  of    573.    Elapsed: 0:00:36.\n",
            "  Batch   120  of    573.    Elapsed: 0:00:54.\n",
            "  Batch   160  of    573.    Elapsed: 0:01:12.\n",
            "  Batch   200  of    573.    Elapsed: 0:01:31.\n",
            "  Batch   240  of    573.    Elapsed: 0:01:49.\n",
            "  Batch   280  of    573.    Elapsed: 0:02:07.\n",
            "  Batch   320  of    573.    Elapsed: 0:02:25.\n",
            "  Batch   360  of    573.    Elapsed: 0:02:43.\n",
            "  Batch   400  of    573.    Elapsed: 0:03:01.\n",
            "  Batch   440  of    573.    Elapsed: 0:03:19.\n",
            "  Batch   480  of    573.    Elapsed: 0:03:37.\n",
            "  Batch   520  of    573.    Elapsed: 0:03:55.\n",
            "  Batch   560  of    573.    Elapsed: 0:04:13.\n",
            "\n",
            "  Training Accuracy: 0.97\n",
            "  Average training loss: 0.13\n",
            "  Training epcoh took: 0:04:19\n",
            "\n",
            "Running Validation...\n",
            "  Accuracy: 0.96\n",
            "  Validation Loss: 0.17\n",
            "  Validation took: 0:00:09\n",
            "\n",
            "======== Epoch 3 / 3 ========\n",
            "Training...\n",
            "  Batch    40  of    573.    Elapsed: 0:00:18.\n",
            "  Batch    80  of    573.    Elapsed: 0:00:36.\n",
            "  Batch   120  of    573.    Elapsed: 0:00:54.\n",
            "  Batch   160  of    573.    Elapsed: 0:01:12.\n",
            "  Batch   200  of    573.    Elapsed: 0:01:30.\n",
            "  Batch   240  of    573.    Elapsed: 0:01:48.\n",
            "  Batch   280  of    573.    Elapsed: 0:02:07.\n",
            "  Batch   320  of    573.    Elapsed: 0:02:25.\n",
            "  Batch   360  of    573.    Elapsed: 0:02:43.\n",
            "  Batch   400  of    573.    Elapsed: 0:03:01.\n",
            "  Batch   440  of    573.    Elapsed: 0:03:19.\n",
            "  Batch   480  of    573.    Elapsed: 0:03:37.\n",
            "  Batch   520  of    573.    Elapsed: 0:03:55.\n",
            "  Batch   560  of    573.    Elapsed: 0:04:13.\n",
            "\n",
            "  Training Accuracy: 0.99\n",
            "  Average training loss: 0.06\n",
            "  Training epcoh took: 0:04:19\n",
            "\n",
            "Running Validation...\n",
            "  Accuracy: 0.97\n",
            "  Validation Loss: 0.14\n",
            "  Validation took: 0:00:09\n",
            "\n",
            "Training complete!\n",
            "Total training took 0:13:27 (h:mm:ss)\n"
          ],
          "name": "stdout"
        }
      ]
    },
    {
      "cell_type": "code",
      "metadata": {
        "id": "9MpF4sJVU5PY",
        "outputId": "b53c349f-b776-4e27-f81b-7df82e076ae7",
        "colab": {
          "base_uri": "https://localhost:8080/",
          "height": 173
        }
      },
      "source": [
        "import pandas as pd\n",
        "\n",
        "pd.set_option('precision', 2)\n",
        "df_stats = pd.DataFrame(data=training_stats)\n",
        "df_stats = df_stats.set_index('epoch')\n",
        "\n",
        "df_stats"
      ],
      "execution_count": null,
      "outputs": [
        {
          "output_type": "execute_result",
          "data": {
            "text/html": [
              "<div>\n",
              "<style scoped>\n",
              "    .dataframe tbody tr th:only-of-type {\n",
              "        vertical-align: middle;\n",
              "    }\n",
              "\n",
              "    .dataframe tbody tr th {\n",
              "        vertical-align: top;\n",
              "    }\n",
              "\n",
              "    .dataframe thead th {\n",
              "        text-align: right;\n",
              "    }\n",
              "</style>\n",
              "<table border=\"1\" class=\"dataframe\">\n",
              "  <thead>\n",
              "    <tr style=\"text-align: right;\">\n",
              "      <th></th>\n",
              "      <th>Training Loss</th>\n",
              "      <th>Training Accuracy</th>\n",
              "      <th>Validation Loss</th>\n",
              "      <th>Validation Accuracy</th>\n",
              "      <th>Training Time</th>\n",
              "      <th>Validation Time</th>\n",
              "    </tr>\n",
              "    <tr>\n",
              "      <th>epoch</th>\n",
              "      <th></th>\n",
              "      <th></th>\n",
              "      <th></th>\n",
              "      <th></th>\n",
              "      <th></th>\n",
              "      <th></th>\n",
              "    </tr>\n",
              "  </thead>\n",
              "  <tbody>\n",
              "    <tr>\n",
              "      <th>1</th>\n",
              "      <td>0.51</td>\n",
              "      <td>0.85</td>\n",
              "      <td>0.19</td>\n",
              "      <td>0.96</td>\n",
              "      <td>0:04:20</td>\n",
              "      <td>0:00:09</td>\n",
              "    </tr>\n",
              "    <tr>\n",
              "      <th>2</th>\n",
              "      <td>0.13</td>\n",
              "      <td>0.97</td>\n",
              "      <td>0.17</td>\n",
              "      <td>0.96</td>\n",
              "      <td>0:04:19</td>\n",
              "      <td>0:00:09</td>\n",
              "    </tr>\n",
              "    <tr>\n",
              "      <th>3</th>\n",
              "      <td>0.06</td>\n",
              "      <td>0.99</td>\n",
              "      <td>0.14</td>\n",
              "      <td>0.97</td>\n",
              "      <td>0:04:19</td>\n",
              "      <td>0:00:09</td>\n",
              "    </tr>\n",
              "  </tbody>\n",
              "</table>\n",
              "</div>"
            ],
            "text/plain": [
              "       Training Loss  Training Accuracy  ...  Training Time  Validation Time\n",
              "epoch                                    ...                                \n",
              "1               0.51               0.85  ...        0:04:20          0:00:09\n",
              "2               0.13               0.97  ...        0:04:19          0:00:09\n",
              "3               0.06               0.99  ...        0:04:19          0:00:09\n",
              "\n",
              "[3 rows x 6 columns]"
            ]
          },
          "metadata": {
            "tags": []
          },
          "execution_count": 17
        }
      ]
    },
    {
      "cell_type": "code",
      "metadata": {
        "id": "yVv79zrTU8V7",
        "outputId": "a0eefbe7-2992-48a4-c932-0dc68da8033a",
        "colab": {
          "base_uri": "https://localhost:8080/",
          "height": 427
        }
      },
      "source": [
        "import matplotlib.pyplot as plt\n",
        "% matplotlib inline\n",
        "\n",
        "import seaborn as sns\n",
        "\n",
        "sns.set(style='darkgrid')\n",
        "\n",
        "sns.set(font_scale=1.5)\n",
        "plt.rcParams[\"figure.figsize\"] = (12,6)\n",
        "\n",
        "plt.plot(df_stats['Training Loss'], 'b-o', label=\"Training\")\n",
        "plt.plot(df_stats['Validation Loss'], 'g-o', label=\"Validation\")\n",
        "\n",
        "# Label the plot.\n",
        "plt.title(\"Training & Validation Loss\")\n",
        "plt.xlabel(\"Epoch\")\n",
        "plt.ylabel(\"Loss\")\n",
        "plt.legend()\n",
        "plt.xticks([1, 2, 3])\n",
        "\n",
        "plt.show()"
      ],
      "execution_count": null,
      "outputs": [
        {
          "output_type": "display_data",
          "data": {
            "image/png": "[encoded data removed]",
            "text/plain": [
              "<Figure size 864x432 with 1 Axes>"
            ]
          },
          "metadata": {
            "tags": []
          }
        }
      ]
    },
    {
      "cell_type": "code",
      "metadata": {
        "id": "IY3M-MVZ9Ken",
        "outputId": "15630b84-da98-4c76-ea68-61d173e0c2ea",
        "colab": {
          "base_uri": "https://localhost:8080/",
          "height": 427
        }
      },
      "source": [
        "plt.plot(df_stats['Training Accuracy'], 'b-o', label=\"Training\")\n",
        "plt.plot(df_stats['Validation Accuracy'], 'g-o', label=\"Validation\")\n",
        "\n",
        "# Label the plot.\n",
        "plt.title(\"Training & Validation Accuracy\")\n",
        "plt.xlabel(\"Epoch\")\n",
        "plt.ylabel(\"Accuracy\")\n",
        "plt.legend()\n",
        "plt.xticks([1, 2, 3])\n",
        "\n",
        "plt.show()"
      ],
      "execution_count": null,
      "outputs": [
        {
          "output_type": "display_data",
          "data": {
            "image/png": "[encoded data removed]",
            "text/plain": [
              "<Figure size 864x432 with 1 Axes>"
            ]
          },
          "metadata": {
            "tags": []
          }
        }
      ]
    },
    {
      "cell_type": "markdown",
      "metadata": {
        "id": "MGfn-cNc_6AY"
      },
      "source": [
        "**Save the fine-tuned model**"
      ]
    },
    {
      "cell_type": "code",
      "metadata": {
        "id": "VPrIahnrHWb2"
      },
      "source": [
        "import os\n",
        "import json\n",
        "\n",
        "output_dir = '/content/drive/My Drive/news_categorization/bert'\n",
        "\n",
        "if not os.path.exists(output_dir):\n",
        "    os.makedirs(output_dir)\n",
        "\n",
        "print(\"Saving model to %s\" % output_dir)\n",
        "\n",
        "model_to_save = model.module if hasattr(model, 'module') else model  # Take care of distributed/parallel training\n",
        "model_to_save.save_pretrained(output_dir)\n",
        "tokenizer.save_pretrained(output_dir)"
      ],
      "execution_count": null,
      "outputs": []
    },
    {
      "cell_type": "markdown",
      "metadata": {
        "id": "B_UORNnxEd-V"
      },
      "source": [
        "# **Conclusion**"
      ]
    },
    {
      "cell_type": "markdown",
      "metadata": {
        "id": "DqU19qRcEj8c"
      },
      "source": [
        "From the above three model(lstm, cnn and BERT) we can directly see that \n",
        "BERT is the best performing model\n",
        "\n",
        "\n",
        "Below performance results were found:\n",
        "\n",
        "1. LSTM: \n",
        "         train_loss: 0.3022 \n",
        "         train_ccuracy: 0.9035\n",
        "         val_loss: 1.1194\n",
        "         val_accuracy: 0.7765\n",
        "\n",
        "    Here we can see that this is a certain case of overfitting, But I tried out various experiments with drop_out rate , number of neurons/layers but was not able to achieve more that 78% accuracy on validation data, while training with LSTMs\n",
        "\n",
        "2. CNN: \n",
        "        train_loss: 0.0425\n",
        "        train_accuracy: 0.9930\n",
        "        val_loss: 0.2438\n",
        "        val_accuracy: 0.9294\n",
        "    with CNN we are able to get better and more robust results than training with LSTMs but validation loss is still more.\n",
        "\n",
        "3. BERT: \n",
        "        train_loss: 0.06\n",
        "        train_accuracy: 0.99\n",
        "        validation_loss = 0.14\n",
        "        validation_accuracy: 0.97\n",
        "    Here we can see that fine-tuned BertForSequenceClassification model is the best performer among all other classifiers.This model is more robust as we are fine-tuning the pretrained BertForSequenceClassification model on our dataset. Hence results with  BertForSequenceClassification model are more robust and loss function values are now acceptable.\n",
        "\n",
        "\n",
        "Clearly we can see that the fine-tuned BertForSequenceClassification model is the winner.\n",
        "It the best model we can get using transfer learning."
      ]
    },
    {
      "cell_type": "markdown",
      "metadata": {
        "id": "paZuQJ8-Hjrh"
      },
      "source": [
        "# **Function to make inference from best model (BERT Fine-Tuned Model)**\n",
        "\n"
      ]
    },
    {
      "cell_type": "markdown",
      "metadata": {
        "id": "VjPS6tlhAEns"
      },
      "source": [
        "Below steps are required before calling the get_predictions() function on text sentences."
      ]
    },
    {
      "cell_type": "code",
      "metadata": {
        "id": "CGsE6jPEHlxk",
        "outputId": "dff836fe-caf2-44d6-89f5-8c7575b9008e",
        "colab": {
          "base_uri": "https://localhost:8080/",
          "height": 357
        }
      },
      "source": [
        "!pip install transformers\n",
        "from transformers import BertConfig, BertForSequenceClassification, BertTokenizer\n",
        "import json\n",
        "import torch\n",
        "import pandas as pd\n",
        "import numpy as np\n",
        "import os\n",
        "# If there's a GPU available...\n",
        "if torch.cuda.is_available():    \n",
        "\n",
        "    # Tell PyTorch to use the GPU.    \n",
        "    device = torch.device(\"cuda\")\n",
        "\n",
        "    print('There are %d GPU(s) available.' % torch.cuda.device_count())\n",
        "\n",
        "    print('We will use the GPU:', torch.cuda.get_device_name(0))\n",
        "\n",
        "# If not...\n",
        "else:\n",
        "    print('No GPU available, using the CPU instead.')\n",
        "    device = torch.device(\"cpu\")"
      ],
      "execution_count": null,
      "outputs": [
        {
          "output_type": "stream",
          "text": [
            "Requirement already satisfied: transformers in /usr/local/lib/python3.6/dist-packages (3.3.1)\n",
            "Requirement already satisfied: packaging in /usr/local/lib/python3.6/dist-packages (from transformers) (20.4)\n",
            "Requirement already satisfied: sentencepiece!=0.1.92 in /usr/local/lib/python3.6/dist-packages (from transformers) (0.1.91)\n",
            "Requirement already satisfied: dataclasses; python_version < \"3.7\" in /usr/local/lib/python3.6/dist-packages (from transformers) (0.7)\n",
            "Requirement already satisfied: tqdm>=4.27 in /usr/local/lib/python3.6/dist-packages (from transformers) (4.41.1)\n",
            "Requirement already satisfied: sacremoses in /usr/local/lib/python3.6/dist-packages (from transformers) (0.0.43)\n",
            "Requirement already satisfied: numpy in /usr/local/lib/python3.6/dist-packages (from transformers) (1.18.5)\n",
            "Requirement already satisfied: filelock in /usr/local/lib/python3.6/dist-packages (from transformers) (3.0.12)\n",
            "Requirement already satisfied: requests in /usr/local/lib/python3.6/dist-packages (from transformers) (2.23.0)\n",
            "Requirement already satisfied: regex!=2019.12.17 in /usr/local/lib/python3.6/dist-packages (from transformers) (2019.12.20)\n",
            "Requirement already satisfied: tokenizers==0.8.1.rc2 in /usr/local/lib/python3.6/dist-packages (from transformers) (0.8.1rc2)\n",
            "Requirement already satisfied: six in /usr/local/lib/python3.6/dist-packages (from packaging->transformers) (1.15.0)\n",
            "Requirement already satisfied: pyparsing>=2.0.2 in /usr/local/lib/python3.6/dist-packages (from packaging->transformers) (2.4.7)\n",
            "Requirement already satisfied: joblib in /usr/local/lib/python3.6/dist-packages (from sacremoses->transformers) (0.16.0)\n",
            "Requirement already satisfied: click in /usr/local/lib/python3.6/dist-packages (from sacremoses->transformers) (7.1.2)\n",
            "Requirement already satisfied: idna<3,>=2.5 in /usr/local/lib/python3.6/dist-packages (from requests->transformers) (2.10)\n",
            "Requirement already satisfied: urllib3!=1.25.0,!=1.25.1,<1.26,>=1.21.1 in /usr/local/lib/python3.6/dist-packages (from requests->transformers) (1.24.3)\n",
            "Requirement already satisfied: chardet<4,>=3.0.2 in /usr/local/lib/python3.6/dist-packages (from requests->transformers) (3.0.4)\n",
            "Requirement already satisfied: certifi>=2017.4.17 in /usr/local/lib/python3.6/dist-packages (from requests->transformers) (2020.6.20)\n",
            "No GPU available, using the CPU instead.\n"
          ],
          "name": "stdout"
        }
      ]
    },
    {
      "cell_type": "markdown",
      "metadata": {
        "id": "kvIJ_8nmBDKh"
      },
      "source": [
        "**Load the model and tokenizer**"
      ]
    },
    {
      "cell_type": "code",
      "metadata": {
        "id": "8Gbwc7k3Humu"
      },
      "source": [
        "output_dir = '/content/drive/My Drive/news_categorization/bert'\n",
        "\n",
        "\n",
        "config = BertConfig.from_pretrained(output_dir)\n",
        "model = BertForSequenceClassification.from_pretrained(output_dir,\n",
        "                                                      output_attentions = False, \n",
        "                                                      output_hidden_states = False)\n",
        "model.to(device)\n",
        "\n",
        "tokenizer = BertTokenizer.from_pretrained(output_dir) \n"
      ],
      "execution_count": null,
      "outputs": []
    },
    {
      "cell_type": "markdown",
      "metadata": {
        "id": "A2UA8UhrBG26"
      },
      "source": [
        "**Preprocess the text before passing to the model**"
      ]
    },
    {
      "cell_type": "code",
      "metadata": {
        "id": "zE7N5ToMBK6Y",
        "outputId": "429d65c3-2935-4469-beb7-6d462e3d85d0",
        "colab": {
          "base_uri": "https://localhost:8080/",
          "height": 238
        }
      },
      "source": [
        "data_path = \"/content/drive/My Drive/news_categorization/data\"\n",
        "\n",
        "categories_data = pd.read_csv(os.path.join(data_path,\"categories.csv\"))\n",
        "categories_mapping = pd.read_excel(os.path.join(os.path.join(data_path, \"category_mapping.xlsx\")))\n",
        "news_details = pd.read_excel(os.path.join(data_path, \"news_details.xlsx\"))\n",
        "\n",
        "categories_mapping[\"category_id\"] = categories_mapping[\"category_id\"].apply(lambda x:int(x)-1)\n",
        "print(\"Before dropping nan: \")\n",
        "print(news_details.isna().sum())\n",
        "news_details.dropna(inplace=True)\n",
        "print(\"\\nAfter dropping nan: \")\n",
        "print(news_details.isna().sum())\n",
        "\n",
        "merged_data = pd.merge(categories_mapping, news_details, on=[\"news_id\"], how=\"inner\")\n",
        "merged_data[\"combined\"] = merged_data[\"snippet\"]+merged_data[\"title\"]+merged_data[\"news_description\"]"
      ],
      "execution_count": null,
      "outputs": [
        {
          "output_type": "stream",
          "text": [
            "Before dropping nan: \n",
            "news_id               0\n",
            "snippet               7\n",
            "title                 0\n",
            "news_description    190\n",
            "dtype: int64\n",
            "\n",
            "After dropping nan: \n",
            "news_id             0\n",
            "snippet             0\n",
            "title               0\n",
            "news_description    0\n",
            "dtype: int64\n"
          ],
          "name": "stdout"
        }
      ]
    },
    {
      "cell_type": "code",
      "metadata": {
        "id": "wQDk4dYrFPxg",
        "outputId": "430c6278-31fc-4789-ef56-bc493cd24ae2",
        "colab": {
          "base_uri": "https://localhost:8080/",
          "height": 153
        }
      },
      "source": [
        "category_dict = categories_data.to_dict()\n",
        "category_dict"
      ],
      "execution_count": null,
      "outputs": [
        {
          "output_type": "execute_result",
          "data": {
            "text/plain": [
              "{'category': {0: 'Layoff',\n",
              "  1: 'Mergers and Acquisitions',\n",
              "  2: 'Mass Hiring',\n",
              "  3: 'Executive Movement',\n",
              "  4: 'Centre Setup and Expansion',\n",
              "  5: 'Deals',\n",
              "  6: 'Partnerships'},\n",
              " 'id': {0: 1, 1: 2, 2: 3, 3: 4, 4: 5, 5: 6, 6: 7}}"
            ]
          },
          "metadata": {
            "tags": []
          },
          "execution_count": 20
        }
      ]
    },
    {
      "cell_type": "code",
      "metadata": {
        "id": "8VKk7yRAH4sn"
      },
      "source": [
        "def get_tokens_and_mask(text):\n",
        "    \n",
        "    encoded_dict = tokenizer.encode_plus(\n",
        "                        text,                     \n",
        "                        add_special_tokens = True, \n",
        "                        max_length = 512, \n",
        "                        pad_to_max_length = True,\n",
        "                        return_attention_mask = True,   \n",
        "                        return_tensors = 'pt',    \n",
        "                        truncation=True\n",
        "                )\n",
        "    return encoded_dict"
      ],
      "execution_count": null,
      "outputs": []
    },
    {
      "cell_type": "markdown",
      "metadata": {
        "id": "t8eMbXaiH8BK"
      },
      "source": [
        "**Defining the get_predictions function which takes one text senetence as an argument and return its respective category**\n",
        "\n",
        "and for the demo purpose , 20 datapoints got sampled out randomly from the dataset and made category Prediction on them"
      ]
    },
    {
      "cell_type": "code",
      "metadata": {
        "id": "ZdbWwkfGH_8b",
        "outputId": "93356f00-8dff-4340-9e65-a1b68cea3b37",
        "colab": {
          "base_uri": "https://localhost:8080/",
          "height": 1000
        }
      },
      "source": [
        "def get_predictions(text):\n",
        "    model.eval()\n",
        "    with torch.no_grad():\n",
        "        inputs = get_tokens_and_mask(text)\n",
        "        \n",
        "        with torch.no_grad(): \n",
        "            preds = model(**inputs)\n",
        "            pred_idx = np.argmax(preds[0].numpy().ravel())\n",
        "    \n",
        "    return category_dict[\"category\"][pred_idx]\n",
        "\n",
        "#demo get prediction\n",
        "\n",
        "sample_data = merged_data.sample(20)\n",
        "texts = sample_data[\"combined\"].values\n",
        "news_desctiption = sample_data[\"news_description\"].values\n",
        "categories = sample_data[\"category_id\"].values\n",
        "pred_data_frame = pd.DataFrame(columns=[\"actual category\", \"predicted category\"])\n",
        "\n",
        "for text, news, category in zip(texts,news_desctiption, categories):\n",
        "    predicted_category = get_predictions(text)\n",
        "    actual_category = category_dict[\"category\"][category]\n",
        "    d = {\"actual category\":actual_category , \"predicted category\":predicted_category}\n",
        "    pred_data_frame = pred_data_frame.append(d, ignore_index=True)\n",
        "\n",
        "    print(\"\\033[96m newz:: \", news)\n",
        "    print(\"\\033[92m Actual Category:: \", actual_category) \n",
        "    print(\"\\033[94m Predicted Category:: \", predicted_category)\n",
        "    print(\"\")\n"
      ],
      "execution_count": null,
      "outputs": [
        {
          "output_type": "stream",
          "text": [
            "/usr/local/lib/python3.6/dist-packages/transformers/tokenization_utils_base.py:1773: FutureWarning: The `pad_to_max_length` argument is deprecated and will be removed in a future version, use `padding=True` or `padding='longest'` to pad to the longest sequence in the batch, or use `padding='max_length'` to pad to a max length. In this case, you can give a specific length with `max_length` (e.g. `max_length=45`) or leave max_length to None to pad to the maximal input size of the model (e.g. 512 for Bert).\n",
            "  FutureWarning,\n"
          ],
          "name": "stderr"
        },
        {
          "output_type": "stream",
          "text": [
            "\u001b[96m newz::  NEW DELHI: The Competition Commission Thursday said it has given approval to Schneider's acquisition of Larsen & Toubro's electrical and automation business in a ?14,000-crore deal.\\n\\nHowever, the deal is subject to compliance of certain modifications, the Competition Commission of India (CCI) said.\\n\\nThe green signal comes after the regulator had sought comments from the public in November last year on the proposed acquisition by Schneider after finding that it could have an adverse impact on competition.\\n\\nIn a tweet, the CCI said it \"approves acquisition of electrical and automation business of L&T by Schneider and MacRitchie, subject to compliance of certain modifications\".\\n\\nIn May 2018, Larsen & Toubro had inked a definitive pact with Schneider Electric to sell its electrical and automation business for an all-cash consideration of ?14,000 crore, as part of its long-term strategy to exit non-core activities.\\n\\nAccording to notice submitted to the CCI, the proposed deal involves acquiring electrical and automation business of L&T by SEIPL (Schneider Electric India Pvt Ltd) as a going concern on a slump sale basis as well as the acquisition of 35 per cent stake in SEIPL by MacRitchie.\\n\\nThis story has been published from a wire agency feed without modifications to the text.\n",
            "\u001b[92m Actual Category::  Deals\n",
            "\u001b[94m Predicted Category::  Deals\n",
            "\n",
            "\u001b[96m newz::  IRVING, Texas--(BUSINESS WIRE)--McKesson Corporation (NYSE:MCK) today announced that Kirk Kaminsky will be the new president of McKesson\\u2019s U.S. Pharmaceutical and Specialty Solutions (USPSS) business. Kaminsky will assume the role effective immediately, reporting to CEO Brian Tyler.\\n\\nKaminsky currently serves as president of McKesson Specialty Provider Organization, a division of USPSS, where he leads a team responsible for a broad suite of provider solutions. These include drug purchasing, clinical and operational software and analytics, practice management services and clinical trials across the McKesson Specialty Provider base, including The US Oncology Network.\\n\\n\\u201c Kirk is a special leader, versed in both strategy and operational excellence. He understands the complexities of the healthcare landscape \\u2014 and our customers\\u2019 needs \\u2014 inside and out. He\\u2019s incredibly patient-focused and a terrific people leader,\\u201d said Tyler. \\u201c His vision, experience and leadership will help us continue to serve our customers and business partners while expanding our service offerings and market leadership.\\u201d\\n\\nKaminsky has been a McKesson executive since 2003, when he joined the company\\u2019s Corporate Strategy and Business Development group. Since then, he ran the U.S. Pharmaceutical packaging business and has been integral to the company\\u2019s growing presence in the oncology space. He served as president of The US Oncology Network and was responsible for its financial and operational support; he also led the overall strategy in support of The Network\\u2019s vision of improving patient outcomes and quality of life, and advancing the future of cancer treatment by taking a leadership role in value-based care.\\n\\n\\u201cI\\u2019m very excited about this opportunity,\\u201d Kaminsky said. \\u201c McKesson\\u2019s set of strategic assets positions us well to drive meaningful value across the healthcare ecosystem. I\\u2019m also humbled and honored to lead this team. This team of professionals is dedicated to operational excellence, working with integrity and accountability and meeting our customers\\u2019 needs.\\u201d\\n\\nPrior to McKesson, Kaminsky was with Bank One Corporation, where he was responsible for setting and executing payment strategies across the commercial and retail bank. He also spent a few years in investment banking as a financial analyst, concentrating on corporate finance for healthcare and consumer retail.\\n\\nKaminsky received an MBA from The Wharton School and a BA in Economics for Business from Occidental College.\\n\\nAbout McKesson Corporation\\n\\nMcKesson Corporation, currently ranked 6th on the FORTUNE 500, is a global leader in healthcare supply chain management solutions, retail pharmacy, community oncology and specialty care, and healthcare information technology. McKesson partners with pharmaceutical manufacturers, providers, pharmacies, governments and other organizations in healthcare to help provide the right medicines, medical products and healthcare services to the right patients at the right time, safely and cost-effectively. United by our ICARE shared principles, our employees work every day to innovate and deliver opportunities that make our customers and partners more successful \\u2014 all for the better health of patients. McKesson has been named the \\u201cMost Admired Company\\u201d in the healthcare wholesaler category by FORTUNE, a \\u201cBest Place to Work\\u201d by the Human Rights Campaign Foundation, and a top military-friendly company by Military Friendly. For more information, visit www.mckesson.com.\n",
            "\u001b[92m Actual Category::  Executive Movement\n",
            "\u001b[94m Predicted Category::  Executive Movement\n",
            "\n",
            "\u001b[96m newz::  Photograph courtesy of Walmart\\n\\nWalmart Inc. has appointed a new VP of global food safety compliance to head the company's ethics and compliance department.\\n\\nComing from the position of VP of product safety, quality and regulatory affairs for Land O\\u2019Lakes, Sara Mortimore is taking over the role vacated by Frank Yiannas last year, when he became deputy commissioner for food policy and response at the U.S. Food and Drug Administration.\\n\\nMortimore praised Walmart for \"embracing digital technologies while not losing sight of the foundational elements of sound food safety management.\"\\n\\n\"It is adapting to an increasingly complex global supply chain and changing consumer demands with an innovative mindset in food safety that is exciting to now be part of,\" she said.\\n\\nIn addition to her role at Land O'Lakes in which she was responsible for product safety, quality and regulatory within all Land O\\u2019 Lakes businesses, farm to fork, Mortimore has more than 30 years of experience covering the supply chain and has co-authored a number of books on the topic of food safety and the HACCP (hazard analysis and critical control points) system. She studied food science and technology at Seale-Hayne Agricultural College and earned her Master of Science from Leicester University, both in the U.K.\\n\\nMortimore will report to Chris Cyrenne, SVP of global regulatory compliance. She begins her new role on May 13.\n",
            "\u001b[92m Actual Category::  Executive Movement\n",
            "\u001b[94m Predicted Category::  Executive Movement\n",
            "\n",
            "\u001b[96m newz::  Lynn, MA CIT Group Inc. and Square Mile Capital Management LLC has originated a $63.9 million loan to finance the development of The Caldwell, a 259-unit, 180,000 s/f high-rise rental residential project with ground floor retail.\\n\\nThe financing was provided to a joint venture between affiliates of The Carlyle Group, a global investment firm, and The Procopio Companies, an experienced, local developer. The financing was arranged by Jeff Black of Colliers International\\u2019s Boston office.\\n\\n\\u201cThe Greater Boston area remains a strong market for residential development, especially where there is ready access to mass transit,\\u201d said Matthew Galligan, president of CIT\\u2019s Real Estate Finance division. \\u201cWe were pleased to leverage our expertise in multifamily construction financing to help make this project a reality.\\u201d\\n\\nSquare Mile Capital vice president Mike Kusy said, \\u201cWe are excited to have the opportunity to provide financing to the experienced partnership of Carlyle and Procopio for a project that will catalyze continued housing growth within Lynn and the surrounding markets. This transaction allowed us to further expand our lending portfolio in Boston by capitalizing an asset that will be well-positioned as one of the highest quality apartment buildings north of Boston with strong transit accessibility.\\u201d\\n\\nThe 10-story transit-oriented development is located in downtown, ten miles north of downtown Boston adjacent to an MBTA Commuter Rail Station with access to the city via a 20-minute train ride.\\n\\nOnce completed, The Caldwell will feature luxury finishes and an amenity package that will include a rooftop deck, swimming pool, fitness center and a sports/gaming lounge.\n",
            "\u001b[92m Actual Category::  Centre Setup and Expansion\n",
            "\u001b[94m Predicted Category::  Centre Setup and Expansion\n",
            "\n",
            "\u001b[96m newz::  FIS, Fiserv or Infosys will be providing core processing software to Robinhood Bank once it receives authorisation from the Office of the Comptroller of the Currency (OCC).\\n\\nRobinhood has applied for a national banking charter to launch a consumer-focused bank in the US.\\n\\n\\u201cRobinhood currently uses innovative technologies to deliver brokerage services to US retail consumers. It proposes to leverage those same and other innovative technologies to offer banking services in a safe and sound manner to US retail consumers,\\u201d it explains in its application to the OCC.\\n\\nAlso in the application, Robinhood says the core processing technology will be provided either by one of the two US tech heavyweights, FIS or Fiserv, or by India-based Infosys. The latter already provides its Finacle core banking platform to another digital banking start-up, Marcus (launched in 2016 by Goldman Sachs).\\n\\nRobinhood will then combine the banking information technology services from the selected core processing vendor with its existing customer-facing platform to deliver banking products and services to its customers through a smartphone application and online.\\n\\nRobinhood states it \\u201chas significant experience building and maintaining financial services information technology platforms in highly-regulated environments\\u201d. For instance, in October 2018, it had become \\u201cthe first brokerage firm since Vanguard (in 2008) to build its own securities and options clearing system from scratch. This required close coordination with, and approval from, the Financial Industry Regulatory Authority, the Depository Trust & Clearing Corporation and the Options Clearing Corporation.\\u201d\\n\\nThe form also says it has recently migrated the clearing of its retail brokerage customers\\u2019 securities and options transactions from its partner clearing broker-dealer, Apex Clearing Corporation, to a new affiliated clearing broker-dealer \\u2013 Robinhood Securities. \\u201cMoving clearing in-house will enable Robinhood to reduce fees and will give Robinhood more account and trade information so that it can offer enhanced customer support,\\u201d it explains.\\n\\n\\u201cRobinhood\\u2019s engineering team is key to its competitive advantage,\\u201d it states. \\u201cThe team has built systems and processes for internal, third-party, and regulatory audit. The security team has extensive experience preventing and mitigating risks of user account takeover, external attack, and internal compromise. The data team has sophisticated systems and processes for real-time alerts and monitoring. Robinhood\\u2019s internal security systems are modelled after ISO 27001.\\u201d\\n\\nFurthermore, the company has not experienced a major data breach event to date, it points out, despite its \\u201clarge size and rapid growth\\u201d.\\n\\nRobinhood Bank will be headquartered in Menlo Park, California. Its services will come with no monthly fee and will be provided \\u201cin a fully transparent way through the ease of a smartphone\\u201d.\\n\\nThe company says it \\u201cwill establish a profitable banking franchise by understanding the needs of its customer base, providing its customers with banking products and solutions that help them reach their financial goals, and building loyalty through exceptional and consistent performance and a high level of service\\u201d.\n",
            "\u001b[92m Actual Category::  Deals\n",
            "\u001b[94m Predicted Category::  Deals\n",
            "\n",
            "\u001b[96m newz::  SINGAPORE--(BUSINESS WIRE)--Apr 17, 2019--Singapore Airlines has partnered with Adyen, the payments platform of choice for many of the world\\u2019s leading companies, to ensure a frictionless payments experience for customers when they book online or in-app. Working with Adyen, Singapore Airlines has enjoyed an increase in authorization rates, flexibility on fraud risk management and richer data insights, resulting in a more seamless payment experience for its customers across the globe.\\n\\nIn line with Singapore Airlines\\u2019 vision to be the world\\u2019s leading digital airline, the partnership will center on Adyen\\u2019s solutions to optimize the payments process. This includes the use of Adyen\\u2019s direct credit card acquiring capabilities which eliminates the need to run payments across multiple third-party platforms, increasing Singapore Airlines\\u2019 already healthy payment authorization rate by leveraging Adyen\\u2019s RevenueAccelerate. Singapore Airlines can identify legitimate customers as the solution taps on Adyen\\u2019s global, cross-industry data network to block fraudulent transactions, leaving the genuine travelers unhindered. This unlocks more revenue for Singapore Airlines and creates a frictionless experience for customers.\\n\\n\\u201cFor Singapore Airlines, best-in-class customer service begins with the booking,\\u201d said Warren Hayashi, President of Adyen, Asia-Pacific. \\u201cAt Adyen, we have seen that payments data can be the jet fuel that powers global expansion for airlines. Payments data remains a valuable resource for companies who seek to understand their customers better and improve revenue. We are pleased to partner with Singapore Airlines to power seamless payments experience for travelers regardless of location, device or payment method.\\u201d\\n\\nFor more information, please visit www.adyen.com.\\n\\nAbout Adyen\\n\\nAdyen (AMS:ADYEN) is the payments platform of choice for many of the world\\u2019s leading companies, providing a modern end-to-end infrastructure connecting directly to Visa, Mastercard, and consumers\\u2019 globally preferred payment methods. Adyen delivers frictionless payments across online, mobile, and in-store channels. With offices across the world, Adyen serves customers including Facebook, Uber, Spotify, Cathay Pacific, Grab, Klook, Lorna Jane, Freelancer.com, Kogan.com and Showpo. The cooperation with Singapore Airlines as described in this merchant update underlines Adyen\\u2019s continuous growth with current and new merchants over the years.\\n\\nView source version on businesswire.com:https://www.businesswire.com/news/home/20190416006072/en/\\n\\nCONTACT: Press\\n\\nDani Hanlon\\n\\nOgilvy\\n\\ndani.hanlon@ogilvy.com\\n\\n+65 6213 9944Pui-San Wong\\n\\nAdyen\\n\\npuisan.wong@adyen.com\\n\\n+65 3158 5065\\n\\nKEYWORD: EUROPE ASIA PACIFIC NETHERLANDS SINGAPORE\\n\\nINDUSTRY KEYWORD: OTHER CONSUMER TECHNOLOGY ONLINE RETAIL INTERNET SOFTWARE TRANSPORT AIR TRAVEL DESTINATIONS TRANSPORTATION MOBILE/WIRELESS SOCIAL MEDIA RETAIL COMMUNICATIONS ADVERTISING SPECIALTY CONSUMER\\n\\nSOURCE: Adyen\\n\\nCopyright Business Wire 2019.\\n\\nPUB: 04/17/2019 12:47 AM/DISC: 04/17/2019 12:47 AM\\n\\nhttp://www.businesswire.com/news/home/20190416006072/en\n",
            "\u001b[92m Actual Category::  Partnerships\n",
            "\u001b[94m Predicted Category::  Partnerships\n",
            "\n",
            "\u001b[96m newz::  Equifax Inc. has named Carla J. Chaney as its new Chief Human Resources Officer, replacing Coretha M. Rushing who is retiring after 13 years with the company, according to a press release.\\n\\nChaney is a human resources leader with more than 20 years of experience and joins Equifax from Graphic Packaging International where she served as executive vice president of human resources and communications. In her role with Atlanta-based Equifax and reporting directly to the CEO, Chaney will have global responsibility for the human resources center of excellence, which includes human resources operations, talent management, total rewards and community affairs.\\n\\n\\u201cChaney brings valuable experience and a global mindset to Equifax. She has a successful history of designing, executing and aligning human resource programs and processes to support business objectives, and I know she\\u2019ll be a dynamic and collaborative growth leader for this company,\\u201d said Mark Begor, CEO of Equifax. \\u201cShe has a history of business partnership and an ability to attract, retain, and motivate top talent. We are energized to have Carla joining our leadership team.\\u201d\\n\\nRushing will spend the next several months working with Chaney in her transition to Equifax.\\n\\n\\u201cCoretha leaves behind a strong legacy of attracting and retaining top talent. She has truly created an inclusive work environment, and Equifax and the HR profession have benefitted substantially from her strong leadership over the past 13 years,\\u201d added Begor.\\n\\nChaney joined Graphic Packaging International in 2013, where she led HR programs and acquisition integrations across the globe, as well as driving improvements to its employee development programs. Prior to her work with Graphic Packaging International, Chaney held leadership positions with Exide Technologies, Newell Rubbermaid and Georgia-Pacific Corporation.\\n\\nShe holds a bachelor\\u2019s degree in industrial and labor relations from Cornell University.\\n\\nSupport real journalism. Support local journalism. Subscribe to The Atlanta Journal-Constitution today. See offers.\\n\\nYour subscription to the Atlanta Journal-Constitution funds in-depth reporting and investigations that keep you informed. Thank you for supporting real journalism.\n",
            "\u001b[92m Actual Category::  Executive Movement\n",
            "\u001b[94m Predicted Category::  Executive Movement\n",
            "\n",
            "\u001b[96m newz::  Facebook\\u2019s board of directors is one step closer to adding its first female African-American member following the nomination last week of Peggy Alford.\\n\\nAlford has been with electronic payments service PayPal since May 2011, currently serving as its senior vice president, core markets.\\n\\nPrior to PayPal, she held senior roles at eBay\\u2019s Rent.com and held the title of marketplace controller and director of accounting policy at eBay.\\n\\nAlford is also a member of the board at real estate investment trust Macerich.\\n\\nThe election of Facebook\\u2019s board of directors will take place during the company\\u2019s annual meeting May 30.\\n\\nIts board currently consists of:\\n\\nBowles and Hastings, both board members since 2011, will not be nominated for re-election at the upcoming annual meeting.\\n\\nSandberg said during the company\\u2019s 2018 annual meeting that Facebook would apply a diverse slate approach to populating its board.\\n\\nZuckerberg said in a release, \\u201cPeggy is one of those rare people who is an expert across many different areas, from business management to finance operations to product development. I know she will have great ideas that help us address both the opportunities and challenges facing our company.\\u201d\\n\\nAlford added, \\u201cWhat excites me about the opportunity to join Facebook\\u2019s board is the company\\u2019s drive and desire to face hard issues head-on while continuing to improve on the amazing connection experiences they have built over the years. I look forward to working with Mark and the other directors as the company builds new and inspiring ways to help people connect and build community.\\u201d\n",
            "\u001b[92m Actual Category::  Executive Movement\n",
            "\u001b[94m Predicted Category::  Executive Movement\n",
            "\n",
            "\u001b[96m newz::  ActiveCampaign, a sales and marketing automation provider, has announced a CX Automation product. ActiveCampaign's offerings are designed to leverage information businesses know about customers along with behaviors, insights and signals of intent. It combines ActiveCampaign's personalization capabilities, content and routing at the individual customer level and data science powered capabilities.\\n\\nPushSend Rolls Out Email Marketing Solution\\n\\nPushSend has launched a SaaS solution that is designed to help marketers manage email campaigns, landing pages and events. Features include emails sequencing, automation, multivariate testing and events.\\n\\nSMG Adds Data Visualizations, Reporting\\n\\nService Management Group, a customer experience management, employee experience and brand research partner, has advanced its text analytics technology with new data visualizations and reporting capabilities. Service Management Group's text analytics engine processes data across channels, from social media to solicited customer feedback, and provides a customer view through the smg360 reporting platform.\\n\\nAccenture Acquires Zielpuls\\n\\nAccenture has entered into an agreement to acquire Zielpuls, a technology consultancy headquartered in Germany. Officials said the acquisition will help the capabilities of Accenture Industry X.0 in the design of smart products and services for automotive companies.\\n\\nZielpuls provides architecture, development engineering and management services for digital products and services, such as an automated car parking system and development of the architecture for driver assistance systems. Zielpuls will bring a team of 190 professionals with a background in science, technology, engineering and mathematics to Accenture. Zielpuls is headquartered in Munich and has offices in Wolfsburg and Hanover, Germany, Shanghai and Beijing, China. Zielpuls will become part of Accenture Industry X.0, which helps clients with digital technologies to help core operations, worker and customer experiences and business models.\\n\\nZielpuls co-CEOs Markus Frey and Dr. Marc Poppner will join Accenture as managing directors. They will continue to lead the Zielpuls team along with their existing management team and support the firm\\u2019s transition to Accenture Industry X.0. Terms of the transaction were not disclosed.\\n\\nMapp Acquires Webtrekk\\n\\nMapp, a provider of cloud-based digital marketing solutions, has announced that it has signed a definitive agreement to acquire Webtrekk, a German marketing analytics and customer intelligence software. Webtrekk brings analytics, customer intelligence, dashboards, machine learning and AI capabilities Mapp\\u2019s digital marketing platform, Mapp Cloud. Mapp\\u2019s customer acquisition and engagement capabilities combines with Webtrekk\\u2019s customer intelligence. Company officials say it will enable marketers to pool customer data centrally, analyze customer behavior with machine learning and provide content across all channels. Mapp will maintain the company\\u2019s Berlin headquarters. Closing of the transaction is expected to occur in the second quarter of 2019.\\n\\nValidity Acquires Return Path\\n\\nValidity, a customer data provider, has announced it has entered into a definitive agreement to acquire Return Path, an email deliverability vendor. Terms of the transaction were not disclosed, and the acquisition is expected to close in the coming weeks. Return Path offers a suite of cloud-based products for email campaign optimization and message deliverability. The Return Path platform brings together sources of data from the email ecosystem.\\n\\nNICE inContact Releases CX Data for Contact Centers\\n\\nNICE inContact, a NICE business, has announced the findings of its second annual research study that gauges the changing attitudes of business contact center leaders and consumers in customer experience. The 2019 NICE inContact Customer Experience (CX) Transformation Benchmark found that 63 percent of contact center leaders agree that chatbots and virtual assistants make it easier for consumers to get their issues resolved; 68 percent said consumers want to interact with virtual assistants. It also found only 24% of businesses globally give themselves an excellent rating on allowing consumers to switch seamlessly between methods of communication.\n",
            "\u001b[92m Actual Category::  Mergers and Acquisitions\n",
            "\u001b[94m Predicted Category::  Mergers and Acquisitions\n",
            "\n",
            "\u001b[96m newz::  Lanxess turns to artificial intelligence to speed development\\n\\nGerman specialty chemical company Lanxess AG is looking to drastically cut product development times for high performance plastics with the use of artificial intelligence.\\n\\nThe company has entered into close collaboration with U.S.-based AI company Citrine Informatics, which specializes in data-driven materials development, Lanxess announced May 8.\\n\\nThe two companies have already launched a pilot project to gauge the potential of AI for plastics production and expect to further optimize Lanxess' glass fiber reinforcement in high-performance plastics.\\n\\nA key area that will be studied jointly by the two companies is glass fiber sizing, which is a complex and time-consuming process.\\n\\nGlass fibers that are mixed with plastics to increase their mechanical performance are surrounded with a sizing. This helps the glass fibers to bond more strongly with the plastic matrix, ultimately ensuring the properties required of high-performance plastics.\\n\\nIn traditional product development, the composition of glass fiber and the required variables for manufacturing high-performance plastics undergo extensive testing, with \"hard-to-predict\" results.\\n\\nIn the new partnership, Lanxess will be supplying \"thousands\" measurement results from previous formulations, raw material information and a host of additional data for the development of AI algorithms.\\n\\nThose algorithms calculate forecast models for improved test configurations and parameters, enhance those models, and finally propose an optimum formulation.\\n\\n\"We expect AI to cut the development time for optimized formulations by more than half,\" explained Axel Tuchlenski, head of global product and application development at Lanxess high performance materials business unit.\\n\\n\"This will enable us to not only offer our customers even better tailor-made products, but also reduce time to market,\" the company official added.\\n\\nFor J\\xf6rg Hellwig, Lanxess chief digital officer, the pilot project for the development of high-performance plastics is just the beginning for AI at Lanxess.\\n\\n\"Artificial Intelligence is a vital technology for creating innovation from the myriad data within the group,\" Hellwig added.\\n\\nLanxess launched its digitalization initiative in 2017, establishing a dedicated team headed by Hellwig.\\n\\nThe initiative's core action areas are to develop digital business models, introduce new technologies throughout the value chain, develop and utilize big data, and foster digital expertise among employees.\\n\\nTo obtain reprints or copyright permissions:\\n\\nE-mail: pnreprints@crain.com\\n\\nVisit: Reprints\n",
            "\u001b[92m Actual Category::  Partnerships\n",
            "\u001b[94m Predicted Category::  Partnerships\n",
            "\n",
            "\u001b[96m newz::  Singapore \\u2014 Malaysia's Petronas said Friday it bought a 50% equity stake in deepwater concessions in the Campos Basin in offshore Brazil from Petroleo Brasileiro S.A. or Petrobras.\\n\\nNot registered? Receive daily email alerts, subscriber notes & personalize your experience. Register Now\\n\\nThe deal represents Petronas' efforts to boost its upstream reserves and production, growing cash flows and shrinking domestic output. A price was not disclosed.\\n\\nPetronas said its subsidiary Petronas Petroleo Brasil Ltda entered into a sale and purchase agreement with Petrobras for a 50% equity in the Tartaruga Verde field (BM-C-36 Concession) and its facilities, and Module III of the Espadarte field, both located in deep waters of the Campos Basin.\\n\\n\"The completion of the transaction is subject to the closing conditions, including the approval from the Brazilian Administrative Council for Economic Defense and the Brazilian National Agency of Petroleum, Natural Gas and Biofuels,\" Petronas said in a statement.\\n\\nPetronas will hold a 50% stake in the assets, while Petrobras will hold the rest and be the operator. It said the acquisitions will allow it to expand its oil business portfolio in South America.\\n\\nSoutheast Asian national oil companies are expected to play a role in merger and acquisition activity in 2019-2020, and their hunt for assets will spill into to other regions. Petronas has ambitions to be a global energy player with its LNG projects in Canada and shale gas assets in Argentina, and Thailand's PTTEP is also looking to boost its portfolio.\\n\\n-- By Eric Yep, newsdesk@spglobal.com\\n\\n-- Edited by Claudia Carpenter, newsdesk@spglobal.com\n",
            "\u001b[92m Actual Category::  Mergers and Acquisitions\n",
            "\u001b[94m Predicted Category::  Mergers and Acquisitions\n",
            "\n",
            "\u001b[96m newz::  Netflix plans to move into a bigger new office in Manhattan and open a Brooklyn production hub \\u2014 all told, bringing up to $100 million in investments to New York City and resulting in hundreds of new jobs, according to New York State Gov. Andrew M. Cuomo.\\n\\nNetflix\\u2019s new corporate offices in the Big Apple will take up 100,000 square feet at 888 Broadway in Manhattan\\u2019s Flatiron District. The offices will house 127 new executive employees in NYC that Netflix plans to hire by 2024 \\u2014 including content acquisition, development, production, legal, publicity and marketing positions \\u2014 in addition to the company\\u2019s 32 current New York-based employees.\\n\\nIn addition, Netflix has leased approximately 161,000 square feet to build six sound stages and support spaces at 333 Johnson Ave. in Brooklyn. Those are expected to house thousands of production jobs within five years, according to state officials.\\n\\nUnder the deal with Netflix, Empire State Development \\u2014 the state\\u2019s economic development agency \\u2014 has offered up to $4 million in performance-based tax credits over 10 years, which are directly tied to job creation. To receive the full incentive, Netflix must create the 127 jobs by 2024 at its new executive production office and then retain those new jobs (and their existing 32 office jobs) for another five years.\\n\\nRelated Beyonce's Netflix Deal Worth a Whopping $60 Million (EXCLUSIVE) Kevin Costner on Oscar Netflix Controversy: 'Movies Are for Theaters'\\n\\n\\u201cNetflix is innovative, creative and bold \\u2014 just like New Yorkers \\u2014 and the expansion of this cutting-edge company in New York once again demonstrates the Empire State is open for business,\\u201d Cuomo said in a statement. \\u201cWe\\u2019re proud Netflix chose New York to grow its business, and we look forward to the jobs, economic activity and world-class productions this project will bring.\\u201d\\n\\nJason Hariton, Netflix\\u2019s director of worldwide studio operations and real estate, said in a statement, \\u201cNew York has created a film-friendly environment that\\u2019s home to some of the best creative and executive talent in the world, and we\\u2019re excited to provide a place for them at Netflix with our production hub.\\u201d\\n\\nThe building at 888 Broadway (located at 19th Street and Broadway) is owned by Normandy Real Estate Partners. According to Normandy, the building is undergoing a major renovation expected to be completed by summer 2019 that will include a new office lobby and the addition of a penthouse and rooftop patio space. Netflix\\u2019s existing New York City office is located in the Chelsea neighborhood at 245 West 17th St.\\n\\nThe Brooklyn location Netflix has leased, in the borough\\u2019s Bushwick section, is owned by real-estate developer Steel Equities, which acquired the warehouse property for $53 million last year from Normandy Real Estate Partners, Princeton Holdings and Royalton Capital, according to trade publication The Real Deal.\\n\\nNetflix and its studio partners have already produced numerous originals in New York, including \\u201cOrange Is the New Black,\\u201d \\u201cUnbreakable Kimmy Schmidt,\\u201d \\u201cShe\\u2019s Gotta Have It, Martin Scorsese\\u2019s \\u201cThe Irishman,\\u201d \\u201cSomeone Great,\\u201d \\u201cPrivate Life\\u201d and \\u201cRussian Doll.\\u201d\\n\\nThe tax breaks Netflix is receiving from New York State come under the same program it offered Amazon to open a major East Coast office in Long Island City, Queens. Amazon was set to get a $1.525 billion tax credit contingent on the creation of 25,000 jobs but bailed on the plan this February after political opposition to the ecommerce giant\\u2019s move into Queens.\\n\\nFor Netflix, the expanded NYC outpost is the latest in a series of recent real-estate moves beyond its headquarters in Los Gatos, Calif.\\n\\nIn L.A., the subscription-streaming company last fall signed a lease to fully occupy all 327,913 square feet of the 13-story EPIC building in Hollywood, adding to its footprint at nearby buildings ICON (325,757 square feet) and CUE (91,953 square feet) located on the Sunset Bronson Studios lot.\\n\\nNetflix also has taken over ABQ Studios in Albuquerque, N.M., which it acquired for less than $30 million, and earlier this year signed leases for a total of nearly 250,000 square feet of studio and office space in Toronto at Cinespace Studios and Pinewood Toronto Studios.\n",
            "\u001b[92m Actual Category::  Centre Setup and Expansion\n",
            "\u001b[94m Predicted Category::  Centre Setup and Expansion\n",
            "\n",
            "\u001b[96m newz::  MCLEAN, Va.--(BUSINESS WIRE)--GTT Communications, Inc. (NYSE: GTT), the leading global cloud networking provider to multinational clients, today announced that it will nominate Benjamin Stein for election to the company\\u2019s board of directors at its 2019 annual meeting. Mr. Stein is co-founder and managing partner of The Spruce House Partnership (\\u201cSpruce House\\u201d), a New York-based investment partnership. Spruce House is currently the beneficial owner of approximately 22% of GTT\\u2019s outstanding common stock.\\n\\n\\u201cBased on their successive investments in GTT and their support of our strategic development, our board unanimously agreed to ask Spruce House if Ben Stein would stand for election to our board at our annual meeting,\\u201d stated H. Brian Thompson, chairman of GTT\\u2019s board of directors. \\u201cWe are very pleased that he accepted the nomination.\\u201d\\n\\n\\u201cI\\u2019m grateful for the invitation to stand for election to the board of directors of GTT,\\u201d stated Mr. Stein. \\u201cWe have tremendous respect for what this management team and senior leadership have built over the past decade and the value they have created for shareholders. GTT is still in its early days and has the right strategy to take advantage of the very large opportunity ahead.\\u201d\\n\\nMr. Stein also serves on the boards of Colliers International, one of the largest commercial real estate services companies in the world, and The Africa Center, a New-York based institution focused on African business, culture and policy. Mr. Stein holds a Bachelor of Arts in international relations from the University of Pennsylvania.\\n\\nAbout The Spruce House Partnership\\n\\nThe Spruce House Partnership, founded in 2006, is a New York-based private investment partnership with over $3 billion of equity capital. Spruce House is committed to investing in and partnering with a small group of both public and private owner-operated businesses to support building companies for the long-term across a range of industries. Spruce House is backed by some of the most respected university endowments and largest family foundations and offices globally, whose research budgets and philanthropic work are direct beneficiaries of Spruce House\\u2019s long-term investment results.\\n\\nAbout GTT\\n\\nGTT is redefining global communications to serve a cloud-based future, connecting people across organizations, around the world and to every application in the cloud. Our clients benefit from an outstanding service experience built on our core values of simplicity, speed and agility. A Fortune Future 50 company, GTT owns and operates a global Tier 1 internet network and provides a comprehensive suite of cloud networking services to any location in the world. For more information on GTT, please visit www.gtt.net.\n",
            "\u001b[92m Actual Category::  Executive Movement\n",
            "\u001b[94m Predicted Category::  Executive Movement\n",
            "\n",
            "\u001b[96m newz::  With that he says Wabtec can bring new jobs and training to the Erie plant, and that's the discussion he most wants to have. \"I think the opportunity is making this a competitive site and we're committed to that process, to bring work here,\" Santana said adding, \"we've had our team having those discussions, we are committed to working that direction.\"\\n\\n\\n\\nThe union likes the sound of adding new work, but says the promised work has not been part of the conversation at the bargaining table. \"We haven\\u2019t seen any of that, nobody\\u2019s put anything on the table in front of us that says if you do this this and this, we\\u2019ll bring this this and this here,\" or we\\u2019ll guarantee your employment levels go to this point,\" Slawson said. \"None of that has ever been shown to the union, it hasn\\u2019t been talked about at the bargaining table, this is the reality of the situation we\\u2019re dealing with.\"\n",
            "\u001b[92m Actual Category::  Mass Hiring\n",
            "\u001b[94m Predicted Category::  Mass Hiring\n",
            "\n",
            "\u001b[96m newz::  Ascena Retail Group, Inc. has announced changes in its senior management structure. The company said, David Jaffe will retire from his role as chairman and CEO but will remain on the board of directors. Gary Muto, currently president and chief executive officer of Ascena Brands, has been named the company\\u2019s Chief Executive Officer and will join the company\\u2019s board of directors. In addition, Carrie Teffner has been named Interim Executive Chair of the board of directors.\\n\\n\\u201cLeading Ascena over the past twenty-seven years has been a privilege. As the company continues its transformation, the board of directors and I mutually agreed that these decisions are right for the business and its shareholders. I am extremely confident in Ascena\\u2019s future under Gary\\u2019s leadership and look forward to continuing to serve Ascena as a member of the board,\\u201d said Jaffe in a statement.\\n\\nGary Muto takes over as the new CEO of Ascena\\n\\nMuto, the company said, is a seasoned retail leader with an extensive career and impressive track record. Muto joined Ann Inc./Ascena Retail Group, Inc. in 2008 as the president of Loft. In 2013, he assumed responsibility for leading the Ann Taylor, Loft and Lou & Grey brands. In August 2017, he was promoted to president and chief executive officer of Ascena Brands, a role that included reinvigorating and driving top-line growth across Ascena\\u2019s full brand portfolio.\\n\\n\\u201cI am both honoured and excited by this new challenge. David, Carrie, the board and I are working together to ensure the leadership transition is smooth. And, I am eager to lead and work with our Ascena associates, who share my deep commitment to our customers, brands and shareholders,\\u201d added Muto.\\n\\nBetween 1998 and 2007, Muto held several leadership roles at Gap Inc., including president of Banana Republic and president of Gap brands. While at Gap Inc., Muto also launched the specialty brand, Forth & Towne. After earning his Bachelor of Science degree in Marketing from St. John\\u2019s University, Muto started his retail career as a group buyer at Abraham & Straus.\\n\\nThe company also announced the departure of Brian Lynch, president and COO. The company further said that in connection with her appointment, Teffner has stepped down from her committee positions and Chuck Rubin has been appointed as the Chair of the audit committee and Linda Yaccarino has been appointed as the Chair of the compensation and stock incentive committee.\\n\\nCarrie Teffner named Interim Executive Chair\\n\\nTeffner has been a member of the Ascena board of directors since 2018, and until her appointment as Interim Executive Chair, served as chair of the audit committee and as a member of the compensation and stock incentive committee.\\n\\nTeffner joined Crocs as a member of board of directors in 2015. Six months later, she was asked to assume responsibilities as executive vice president and chief financial officer. Prior to her departure in April 2019, Teffner served as Crocs' executive vice president of finance and strategic projects.\\n\\nPrior to Crocs, Teffner served as executive vice president and chief financial officer of PetSmart, Inc. from 2013 to 2015, where she was responsible for finance and IT. She also served as executive vice president and chief financial officer of Weber Stephen Products LLC from 2011to 2013 and the Timberland Company, as senior vice president and chief financial officer from 2009 to 2011. Since 2018, she has been a Director of GameStop Corp. Teffner spent the first 21 years of her career with Sara Lee Corporation where she held various domestic and international positions including divisional and segment CFO roles as well as serving as global treasurer.\\n\\nPicture:Facebook/Ann Taylor\n",
            "\u001b[92m Actual Category::  Executive Movement\n",
            "\u001b[94m Predicted Category::  Executive Movement\n",
            "\n",
            "\u001b[96m newz::  RSA Insurance Group Plc has revealed the departure of three senior executives.\\n\\nWithout citing the reasons, the multinational enterprise announced that UK personal lines managing director David Coughlan, UK & International (UK&I) chief operating officer Darren McKenzie, and UK&I chief financial officer Matt Hotson are leaving RSA.\\n\\nMcKenzie\\u2019s successor is Louisa Leonard, former COO of RSA\\u2019s Johnson & Lifestyle business in Canada, while taking over from Hotson is RSA Ireland CFO Gavin Wilkinson. In addition, group chief information officer David Germain will see his remit widen to include the UK&I business.\\n\\nMeanwhile replacing Coughlan in July is Kay Martin, who is making the switch from The Ardonagh Group where she held the position of retail and niche distribution chief executive. Martin\\u2019s experience also includes time spent at Aviva and Zurich.\\n\\n\\u201cOur personal lines team is at the forefront of our business and critical to our success in the UK,\\u201d commented RSA UK&I chief executive Scott Egan, who earlier this year talked to Insurance Business about lost credibility.\\n\\nRead more: RSA UK&I chief executive says company has to \\u201crestore credibility\\u201d\\n\\n\\u201cKay has impressive credentials for the role and will bring both energy and expertise to RSA,\\u201d said Egan. \\u201cI am delighted she has chosen to join us and I am looking forward to working with her closely to build an exciting next phase for our personal lines business.\\n\\n\\u201cI am also pleased to welcome Louisa, Gavin, and David Germain to the UK&I business. I thank David, Matt, and Darren for the hard work and dedication they have shown during their time with the organisation, and wish them the best for the future.\\u201d\n",
            "\u001b[92m Actual Category::  Executive Movement\n",
            "\u001b[94m Predicted Category::  Executive Movement\n",
            "\n",
            "\u001b[96m newz::  ARLINGTON, Va., April 22, 2019 /PRNewswire/ -- DTI Management, the leading platform to distribute live event tickets through online resale marketplaces, today announced the appointment of Michael Katz as Chief Revenue Officer of DTI. Katz joins DTI after almost 14 years at StubHub, where he was instrumental in building the ticketing industry's first powerhouse resale company from the ground up. DTI's hiring of Katz, an accomplished and respected ticketing executive with a broad and deep knowledge base in all aspects of ticketing and e-commerce, further demonstrates DTI's commitment to bring together the best minds in ticketing with the brightest minds in technology.\\n\\nKatz will assume primary responsibility for all existing revenue lines for DTI and its wholly-owned subsidiary 1Ticket (including DTI's SaaS platform for professional ticket sellers)\\u2014as well as pursue additional revenue growth through new products and services, whether via in-house development or acquisitions. Katz will report to CEO Curtis Cheng and be based in Los Angeles, California.\\n\\nDuring his long tenure at StubHub, Katz managed and greatly improved the quality and quantity of StubHub's ticket supply across sports, music and theater, oversaw the company's relationships with sellers (consumer and professional) and also served as the Head of StubHub's Ticket Utils \"Point of Sale\" program\\u2014working his way up through the organization from its early days as an unknown startup.\\n\\n\"I am beyond thrilled to welcome Michael Katz as a key member of the DTI Executive Team,\" says Curtis Cheng, CEO of DTI. \"I have done business with Michael for many years when he sat on the StubHub side of the negotiating table, and I was always impressed with his diverse skillset and easygoing personality. We are going to do great things together\\u2014for DTI, for our clients and for the industry.\"\\n\\n\"Joining DTI as its Chief Revenue Officer is an incredible opportunity,\" says Katz. \"I'm excited to work alongside two entrepreneurial executives in Curtis Cheng and Lee Shenker and to have a chance to build and grow the DTI and 1Ticket businesses at this stage in their evolution. I look forward to working closely with the DTI and 1Ticket teams, as we continue developing industry-leading tools and services for DTI's and 1Ticket's clients and our marketplace partners.\"\\n\\nAbout DTI Management\\n\\nDTI Management (https://dtimanagement.com) was founded in 2012 and is based in Arlington, Virginia. DTI streamlines the distribution of live event tickets through the secondary market and provides a more controlled and profitable selling environment. DTI's industry-leading software and services provide a wide range of benefits to its clients\\u2014efficient management of the entire ticket life cycle (from listing to sale to fulfillment), real-time data analytics, pricing expertise and enhanced marketing strategies. DTI is a portfolio company of CVC Growth Capital.\\n\\nMedia Contact:\\n\\nCurtis Cheng, CEO\\n\\nDTI Management\\n\\nE: curtis@dtimanagement.com\\n\\nT: (703) 931-0916\\n\\nRelated Files\\n\\nDTI Press Release -- Michael Katz (4-22-19 final).docx\\n\\nSOURCE DTI Management\\n\\nRelated Links\\n\\nhttps://dtimanagement.com\n",
            "\u001b[92m Actual Category::  Executive Movement\n",
            "\u001b[94m Predicted Category::  Executive Movement\n",
            "\n",
            "\u001b[96m newz::  44 Wall St. Image courtesy of Yardi Matrix\\n\\nWeWork announced it has signed for 54,700 square feet of office space across three locations in Manhattan, as the island\\u2019s biggest private office tenant continues its local expansion spree. The new spaces in the Midtown, Financial District and Gramercy Park neighborhoods will be used for the company\\u2019s Headquarters by WeWork product, which allows member firms to set up customized private locations with their own branding and staff.\\n\\nThe largest of the new leases totals around 26,600 square feet at 33 E. 33rd St., a 12-story property just east of the Empire State Building. WeWork will occupy the second and third floors of the ELK Investors-owned property and plans to open the venue in June.\\n\\nWeWork also took about 17,350 square feet across the 22nd through 24th floors of 44 Wall St. in the city\\u2019s Financial District. The facility is slated to open this summer in the 24-story tower managed by EQ Office. The same landlord recently welcomed fashion retailer SMCP Brands and tech firm Contently to the building.\\n\\nRounding off WeWork\\u2019s trio of leases is a deal for more than 10,750 square feet across the fourth and fifth floors of 7 W. 18th St., a building in Gramercy owned by George Comfort & Sons and ASB Real Estate Investments. WeWork also expects to open the location this summer.\\n\\nAn aggressive growth strategy\\n\\nThe batch of new locations \\u201creflects the incredible demand we are seeing from medium-sized companies across Manhattan as a whole,\\u201d noted Granit Gjonbalaj, WeWork\\u2019s chief real estate development officer, in a prepared statement.\\n\\nHe added that the company now has almost 40 locations for Headquarters by WeWork and is targeting 270 locations both in the city and elsewhere by the end of the year.\\n\\nThe flexible office firm has now announced more than 146,000 square feet of new Manhattan leases for Headquarters by WeWork in less than two weeks. Just last week, the firm said it had grabbed nearly 45,000 square feet of space at 1410 Broadway, shortly after it inked a 47,000-square-foot lease at 145 W. 45th St. near Times Square.\\n\\nAll this growth is expensive. WeWork, which now has 425 locations in 100 cities around the globe, reported a net loss of $1.9 billion for 2018, larger than its revenue of $1.8 billion.\n",
            "\u001b[92m Actual Category::  Centre Setup and Expansion\n",
            "\u001b[94m Predicted Category::  Centre Setup and Expansion\n",
            "\n",
            "\u001b[96m newz::  Talbot Group, the Lloyd\\u2019s of London insurer and reinsurer American International Group Inc. acquired through its 2018 purchase of Validus Holdings Ltd., appointed former Marsh LLC executive David Batchelor as nonexecutive chairman, replacing Rupert Atkin.\\n\\nMr. Batchelor\\u2019s appointment will be effective following regulatory and Lloyd\\u2019s approval, AIG said in a statement.\\n\\nMr. Atkin, a founder of Talbot, will step down after 28 years, the statement said, adding he was the active underwriter of syndicate 1183 from 1991 until 2007. Following Validus\\u2019 acquisition of Talbot in 2007, he became CEO, a role he held for nine years before becoming chairman.\\n\\nMr. Batchelor retired from Marsh earlier this year, where he spent 17 years, most recently as vice chairman, the statement said.\n",
            "\u001b[92m Actual Category::  Executive Movement\n",
            "\u001b[94m Predicted Category::  Executive Movement\n",
            "\n",
            "\u001b[96m newz::  Hungary\\u2019s OTP Bank said on May 3 it has signed an acquisition agreement on purchasing a 99.73% shareholding of SKB Banka, the Slovenian subsidiary of Societe Generale Group, and other local subsidiaries held by SKB Banka.\\n\\nOTP has already taken over subsidiaries of French lender Societe General in Bulgaria, Albania, Serbia, Moldova, Montenegro. Slovenia included, OTP will operate 12 foreign subsidiaries.\\n\\nSKB Banka has a market share of 9% and is the fourth largest bank on the Slovenian banking market. It has been active in the retail and corporate segment as well.\\n\\nThe transaction is expected to be completed in the coming months. It is subject to obtaining permits from the competent banking authorities such as the Bank of Slovenia, the European Central Bank and antitrust authorities, Societe Generale said.\\n\\n\\u201cThis transaction is in line with the group's refocusing strategy, which aims to achieve a positive effect of + 80-90 basis points on its CET1 ratio by 2020. I welcome the strategic agreement reached with OTP which will allow us to continue to serve our clients in Slovenia and in many Balkan countries in various fields including investment banking, capital markets, corporate banking, cash and liquidity management,\\u201d Philippe Heim, deputy chief executive officer of Societe Generale Group in charge of International Retail Banking activities, Financial Services and Insurance, said.\\n\\nThe sale of SKB Banka is expected to have a positive impact on the Societe Generale\\u2019s CET1 ratio of around seven basis points and to reduce the group\\u2019s risk weighted assets by around \\u20ac2.3bn. This transaction will also have a negative impact of \\u20ac67mn on the group's first-half 2019 results, due to goodwill impairment.\\n\\nIn March, Slovenian media reported that OTP Bank had made the best bid to buy Slovenia's state-owned Abanka. OTP had reportedly made a \\u20ac300mn non-binding bid for Slovenia's third-largest bank after NLB and Nova KBM with 10% of the market and \\u20ac3.7bn in total assets. Abanka was among several banks taken over by the state during Slovenia\\u2019s bail-in of major banks in 2013. Slovenia's government wants to part with the lender by mid-2019 to comply with conditions related to the European Commission's approval of a state recapitalisation of the bank. Slovenia sold 65% of NLB in November and it plans to sell another 10%.\\n\\nOTP wants to acquire three more banks in the region, after which it will take a break from a buying spree that has lasted for several years, chairman-CEO Sandor Csanyi told shareholders at the recent AGM.\\n\\nOn April 29, Croatian daily Jutarnji List said quoting unofficial sources that OTP Bank is interested in buying Croatia's seventh largest bank Addiko or the local unit of Raiffeisen.\n",
            "\u001b[92m Actual Category::  Deals\n",
            "\u001b[94m Predicted Category::  Deals\n",
            "\n"
          ],
          "name": "stdout"
        }
      ]
    },
    {
      "cell_type": "code",
      "metadata": {
        "id": "NNkc0KgNIDo8",
        "outputId": "5dcabdf5-9ca3-420f-bd88-381a51d05867",
        "colab": {
          "base_uri": "https://localhost:8080/",
          "height": 669
        }
      },
      "source": [
        "pred_data_frame"
      ],
      "execution_count": null,
      "outputs": [
        {
          "output_type": "execute_result",
          "data": {
            "text/html": [
              "<div>\n",
              "<style scoped>\n",
              "    .dataframe tbody tr th:only-of-type {\n",
              "        vertical-align: middle;\n",
              "    }\n",
              "\n",
              "    .dataframe tbody tr th {\n",
              "        vertical-align: top;\n",
              "    }\n",
              "\n",
              "    .dataframe thead th {\n",
              "        text-align: right;\n",
              "    }\n",
              "</style>\n",
              "<table border=\"1\" class=\"dataframe\">\n",
              "  <thead>\n",
              "    <tr style=\"text-align: right;\">\n",
              "      <th></th>\n",
              "      <th>actual category</th>\n",
              "      <th>predicted category</th>\n",
              "    </tr>\n",
              "  </thead>\n",
              "  <tbody>\n",
              "    <tr>\n",
              "      <th>0</th>\n",
              "      <td>Deals</td>\n",
              "      <td>Deals</td>\n",
              "    </tr>\n",
              "    <tr>\n",
              "      <th>1</th>\n",
              "      <td>Executive Movement</td>\n",
              "      <td>Executive Movement</td>\n",
              "    </tr>\n",
              "    <tr>\n",
              "      <th>2</th>\n",
              "      <td>Executive Movement</td>\n",
              "      <td>Executive Movement</td>\n",
              "    </tr>\n",
              "    <tr>\n",
              "      <th>3</th>\n",
              "      <td>Centre Setup and Expansion</td>\n",
              "      <td>Centre Setup and Expansion</td>\n",
              "    </tr>\n",
              "    <tr>\n",
              "      <th>4</th>\n",
              "      <td>Deals</td>\n",
              "      <td>Deals</td>\n",
              "    </tr>\n",
              "    <tr>\n",
              "      <th>5</th>\n",
              "      <td>Partnerships</td>\n",
              "      <td>Partnerships</td>\n",
              "    </tr>\n",
              "    <tr>\n",
              "      <th>6</th>\n",
              "      <td>Executive Movement</td>\n",
              "      <td>Executive Movement</td>\n",
              "    </tr>\n",
              "    <tr>\n",
              "      <th>7</th>\n",
              "      <td>Executive Movement</td>\n",
              "      <td>Executive Movement</td>\n",
              "    </tr>\n",
              "    <tr>\n",
              "      <th>8</th>\n",
              "      <td>Mergers and Acquisitions</td>\n",
              "      <td>Mergers and Acquisitions</td>\n",
              "    </tr>\n",
              "    <tr>\n",
              "      <th>9</th>\n",
              "      <td>Partnerships</td>\n",
              "      <td>Partnerships</td>\n",
              "    </tr>\n",
              "    <tr>\n",
              "      <th>10</th>\n",
              "      <td>Mergers and Acquisitions</td>\n",
              "      <td>Mergers and Acquisitions</td>\n",
              "    </tr>\n",
              "    <tr>\n",
              "      <th>11</th>\n",
              "      <td>Centre Setup and Expansion</td>\n",
              "      <td>Centre Setup and Expansion</td>\n",
              "    </tr>\n",
              "    <tr>\n",
              "      <th>12</th>\n",
              "      <td>Executive Movement</td>\n",
              "      <td>Executive Movement</td>\n",
              "    </tr>\n",
              "    <tr>\n",
              "      <th>13</th>\n",
              "      <td>Mass Hiring</td>\n",
              "      <td>Mass Hiring</td>\n",
              "    </tr>\n",
              "    <tr>\n",
              "      <th>14</th>\n",
              "      <td>Executive Movement</td>\n",
              "      <td>Executive Movement</td>\n",
              "    </tr>\n",
              "    <tr>\n",
              "      <th>15</th>\n",
              "      <td>Executive Movement</td>\n",
              "      <td>Executive Movement</td>\n",
              "    </tr>\n",
              "    <tr>\n",
              "      <th>16</th>\n",
              "      <td>Executive Movement</td>\n",
              "      <td>Executive Movement</td>\n",
              "    </tr>\n",
              "    <tr>\n",
              "      <th>17</th>\n",
              "      <td>Centre Setup and Expansion</td>\n",
              "      <td>Centre Setup and Expansion</td>\n",
              "    </tr>\n",
              "    <tr>\n",
              "      <th>18</th>\n",
              "      <td>Executive Movement</td>\n",
              "      <td>Executive Movement</td>\n",
              "    </tr>\n",
              "    <tr>\n",
              "      <th>19</th>\n",
              "      <td>Deals</td>\n",
              "      <td>Deals</td>\n",
              "    </tr>\n",
              "  </tbody>\n",
              "</table>\n",
              "</div>"
            ],
            "text/plain": [
              "               actual category          predicted category\n",
              "0                        Deals                       Deals\n",
              "1           Executive Movement          Executive Movement\n",
              "2           Executive Movement          Executive Movement\n",
              "3   Centre Setup and Expansion  Centre Setup and Expansion\n",
              "4                        Deals                       Deals\n",
              "5                 Partnerships                Partnerships\n",
              "6           Executive Movement          Executive Movement\n",
              "7           Executive Movement          Executive Movement\n",
              "8     Mergers and Acquisitions    Mergers and Acquisitions\n",
              "9                 Partnerships                Partnerships\n",
              "10    Mergers and Acquisitions    Mergers and Acquisitions\n",
              "11  Centre Setup and Expansion  Centre Setup and Expansion\n",
              "12          Executive Movement          Executive Movement\n",
              "13                 Mass Hiring                 Mass Hiring\n",
              "14          Executive Movement          Executive Movement\n",
              "15          Executive Movement          Executive Movement\n",
              "16          Executive Movement          Executive Movement\n",
              "17  Centre Setup and Expansion  Centre Setup and Expansion\n",
              "18          Executive Movement          Executive Movement\n",
              "19                       Deals                       Deals"
            ]
          },
          "metadata": {
            "tags": []
          },
          "execution_count": 24
        }
      ]
    },
    {
      "cell_type": "markdown",
      "metadata": {
        "id": "bT4XrT0UIG50"
      },
      "source": [
        "We can see from the above results , that model is performing good.\n",
        "\n",
        "You can try out get_prediction() function on your own test data set."
      ]
    }
  ]
}